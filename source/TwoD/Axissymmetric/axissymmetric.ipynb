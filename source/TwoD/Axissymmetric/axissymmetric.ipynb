{
 "cells": [
  {
   "metadata": {},
   "cell_type": "markdown",
   "source": [
    "# Chapter 9: 2D axissymmetric tri element\n",
    "Daryl Logan: A first course in the finite element method, 6th edition, 2020, Chapter 9.\n",
    "\n",
    "Note: This is not an isoparametric formulation and the way the stiffenss matrix is calculated at the end is also not the best."
   ],
   "id": "534b31014bca533"
  },
  {
   "cell_type": "code",
   "id": "initial_id",
   "metadata": {
    "collapsed": true,
    "ExecuteTime": {
     "end_time": "2025-07-25T12:43:14.604111Z",
     "start_time": "2025-07-25T12:43:14.083795Z"
    }
   },
   "source": [
    "import numpy as np\n",
    "import sympy as sp\n",
    "sp.init_printing()"
   ],
   "outputs": [],
   "execution_count": 1
  },
  {
   "metadata": {},
   "cell_type": "markdown",
   "source": [
    "### The 2D axissymmetric tri element\n",
    "\n",
    "This is a triangular element with nodes: i, j, m.\n",
    "\n",
    "Coordinates are: r, z for radial and vertical directions, respectively.\n",
    "\n",
    "Each node hat 2 degrees of freedom (DOFs):\n",
    "- u: radial displacement\n",
    "- w: vertical displacement\n",
    "\n",
    "The DOFs are ordered as follows: u, w."
   ],
   "id": "151452b7f32a2e20"
  },
  {
   "metadata": {},
   "cell_type": "markdown",
   "source": "### The physical properties of the element",
   "id": "f320c3b51807a42"
  },
  {
   "metadata": {
    "ExecuteTime": {
     "end_time": "2025-07-25T12:43:14.873275Z",
     "start_time": "2025-07-25T12:43:14.862128Z"
    }
   },
   "cell_type": "code",
   "source": [
    "E = 2.0e5  # Young's modulus in Pa\n",
    "nu = 0.25  # Poisson's ratio\n",
    "t = 1000  # thickness in mm\n",
    "t /= 1000  # convert to m\n",
    "\n",
    "# Define symbolic physical coordinates\n",
    "r1, z1, r2, z2, r3, z3 = sp.symbols('r1 z1 r2 z2 r3 z3')\n",
    "\n",
    "# Example coordinates for the nodes\n",
    "# physical_coords = {'P1': (0, 0),\n",
    "#                    'P2': (1, 0),\n",
    "#                    'P3': (0, 1)}  # example coordinates for the nodes\n",
    "physical_coords = {'P1': (4, 0),\n",
    "                   'P2': (6, 2),\n",
    "                   'P3': (3, 1)}  # example coordinates for the nodes\n",
    "physical_coords = {'P1': (0, 0),\n",
    "                   'P2': (3, 0),\n",
    "                   'P3': (0, 2)}  # example coordinates for the nodes\n",
    "\n",
    "physical_coords_map = {'r1': physical_coords['P1'][0], 'z1': physical_coords['P1'][1],\n",
    "                                 'r2': physical_coords['P2'][0], 'z2': physical_coords['P2'][1],\n",
    "                                  'r3': physical_coords['P3'][0], 'z3': physical_coords['P3'][1]}\n",
    "\n",
    "R, Z = sp.symbols('R Z')  # radial and vertical coordinates\n",
    "\n",
    "# Define the physical nodes as a matrix so it can be used a symbolic evaluation\n",
    "physical_nodes = sp.Matrix([[r1, z1], \n",
    "                            [r2, z2], \n",
    "                            [r3, z3]])\n",
    "\n",
    "Rv = sp.Matrix([r1, r2, r3])  # radial coordinate vector\n",
    "Zv = sp.Matrix([z1, z2, z3])  # vertical coordinate vector\n"
   ],
   "id": "52edc126770b2e52",
   "outputs": [],
   "execution_count": 2
  },
  {
   "metadata": {
    "ExecuteTime": {
     "end_time": "2025-07-25T12:43:14.911880Z",
     "start_time": "2025-07-25T12:43:14.905654Z"
    }
   },
   "cell_type": "code",
   "source": [
    "ND = 2  # number of degrees of freedom per node\n",
    "NNODE = 3  # number of nodes"
   ],
   "id": "e0746910ae4ae4e9",
   "outputs": [],
   "execution_count": 3
  },
  {
   "metadata": {},
   "cell_type": "markdown",
   "source": "### Shape functions and derivatives",
   "id": "6e4218843f8a92b3"
  },
  {
   "metadata": {
    "ExecuteTime": {
     "end_time": "2025-07-25T12:43:15.644031Z",
     "start_time": "2025-07-25T12:43:14.931733Z"
    }
   },
   "cell_type": "code",
   "source": [
    "%matplotlib inline\n",
    "\n",
    "def alpha():\n",
    "    \"\"\"Shape function for the axissymmetric tri element.\"\"\"\n",
    "    return sp.Matrix([\n",
    "        Rv[1] * Zv[2] - Rv[2] * Zv[1],\n",
    "        Rv[2] * Zv[0] - Rv[0] * Zv[2],\n",
    "        Rv[0] * Zv[1] - Rv[1] * Zv[0],\n",
    "    ])\n",
    "\n",
    "def beta():\n",
    "    \"\"\"Shape function for the axissymmetric tri element.\"\"\"\n",
    "    return sp.Matrix([\n",
    "        Zv[1] - Zv[2],\n",
    "        Zv[2] - Zv[0],\n",
    "        Zv[0] - Zv[1],\n",
    "    ])\n",
    "\n",
    "def gamma():\n",
    "    \"\"\"Shape function for the axissymmetric tri element.\"\"\"\n",
    "    return sp.Matrix([\n",
    "        Rv[2] - Rv[1],\n",
    "        Rv[0] - Rv[2],\n",
    "        Rv[1] - Rv[0],\n",
    "    ])\n",
    "\n",
    "def shape_functions():\n",
    "    _alpha = alpha()\n",
    "    _beta = beta()\n",
    "    _gamma = gamma()\n",
    "\n",
    "    two_A = Rv.dot(_beta) # same as r1*beta1 + r2*beta2 + r3*beta3\n",
    "\n",
    "    return sp.Matrix([\n",
    "        (_alpha[0] + _beta[0] * R + _gamma[0] * Z) / two_A,\n",
    "        (_alpha[1] + _beta[1] * R + _gamma[1] * Z) / two_A,\n",
    "        (_alpha[2] + _beta[2] * R + _gamma[2] * Z) / two_A,\n",
    "        ])\n",
    "\n",
    "\n",
    "# Calculate the derivatives by s and t, symbolically\n",
    "def shape_function_derivatives() -> np.array:\n",
    "    \"\"\"\n",
    "    Shape function derivatives.\n",
    "    [0] = dNi/ds, [1] = dNi/dt\n",
    "    \"\"\"\n",
    "    sh = shape_functions()  # N1, N2, N3\n",
    "    dN_dr = []\n",
    "    dN_dz = []\n",
    "\n",
    "    for i in range(len(sh)):\n",
    "        dN_dr.append(sp.diff(sh[i], R))\n",
    "        dN_dz.append(sp.diff(sh[i], Z))\n",
    "\n",
    "    return dN_dr, dN_dz\n",
    "\n",
    "# The symbolic shape functions\n",
    "N_vec = shape_functions()\n",
    "\n",
    "# 2. Substituting the symbolic coordinates with the physical coordinates\n",
    "# This will give us the shape functions for the specific element defined by the physical coordinates\n",
    "N_specific_element = N_vec.subs(physical_coords_map)\n",
    "\n",
    "print(\"Symbolic shape function for this element:\")\n",
    "sp.pprint(N_specific_element)\n",
    "\n",
    "# At node 1 N = [1, 0, 0]\n",
    "print(\"\\nValues at Node 1:\")\n",
    "sp.pprint(N_specific_element.subs({'R': physical_coords['P1'][0], 'Z': physical_coords['P1'][1]}).T)\n",
    "\n",
    "# At node 2 N = [0, 1, 0]\n",
    "print(\"\\nValues at Node 2:\")\n",
    "sp.pprint(N_specific_element.subs({'R': physical_coords['P2'][0], 'Z': physical_coords['P2'][1]}).T)\n",
    "\n",
    "# At node 3 N = [0, 0, 1]\n",
    "print(\"\\nValues at Node 3:\")\n",
    "sp.pprint(N_specific_element.subs({'R': physical_coords['P3'][0], 'Z': physical_coords['P3'][1]}).T)\n",
    "\n",
    "print('\\nShape function derivatives:')\n",
    "dN_dr, dN_dz = shape_function_derivatives()\n",
    "for i in range(len(dN_dr)):\n",
    "    print(f'dN{i+1}/dr = {dN_dr[i]}')\n",
    "    print(f'dN{i+1}/dz = {dN_dz[i]}')\n",
    "\n",
    "# the shape function derivatives for the specific element\n",
    "dN_dr_e = dN_dr[0].subs(physical_coords_map)\n",
    "dN_dz_e = dN_dz[0].subs(physical_coords_map)\n",
    "sp.pprint(dN_dr_e)\n",
    "sp.pprint(dN_dz_e)"
   ],
   "id": "da123641920a0675",
   "outputs": [
    {
     "name": "stdout",
     "output_type": "stream",
     "text": [
      "Symbolic shape function for this element:\n",
      "⎡  R   Z    ⎤\n",
      "⎢- ─ - ─ + 1⎥\n",
      "⎢  3   2    ⎥\n",
      "⎢           ⎥\n",
      "⎢     R     ⎥\n",
      "⎢     ─     ⎥\n",
      "⎢     3     ⎥\n",
      "⎢           ⎥\n",
      "⎢     Z     ⎥\n",
      "⎢     ─     ⎥\n",
      "⎣     2     ⎦\n",
      "\n",
      "Values at Node 1:\n",
      "[1  0  0]\n",
      "\n",
      "Values at Node 2:\n",
      "[0  1  0]\n",
      "\n",
      "Values at Node 3:\n",
      "[0  0  1]\n",
      "\n",
      "Shape function derivatives:\n",
      "dN1/dr = (z2 - z3)/(r1*(z2 - z3) + r2*(-z1 + z3) + r3*(z1 - z2))\n",
      "dN1/dz = (-r2 + r3)/(r1*(z2 - z3) + r2*(-z1 + z3) + r3*(z1 - z2))\n",
      "dN2/dr = (-z1 + z3)/(r1*(z2 - z3) + r2*(-z1 + z3) + r3*(z1 - z2))\n",
      "dN2/dz = (r1 - r3)/(r1*(z2 - z3) + r2*(-z1 + z3) + r3*(z1 - z2))\n",
      "dN3/dr = (z1 - z2)/(r1*(z2 - z3) + r2*(-z1 + z3) + r3*(z1 - z2))\n",
      "dN3/dz = (-r1 + r2)/(r1*(z2 - z3) + r2*(-z1 + z3) + r3*(z1 - z2))\n",
      "-1/3\n",
      "-1/2\n"
     ]
    }
   ],
   "execution_count": 4
  },
  {
   "metadata": {},
   "cell_type": "markdown",
   "source": [
    "### The shape function matrix\n",
    "\n",
    "The shape function matrix $N$ is a matrix that contains the shape functions for each node. It has the structure:\n",
    "$$\n",
    "N = \\begin{bmatrix}\n",
    "N_i & 0 & N_j & 0 & N_m & 0 \\\\\n",
    "0 & N_i & 0 & N_j & 0 & N_m\\\\\n",
    "\\end{bmatrix}\n",
    "$$"
   ],
   "id": "59147411776f0f51"
  },
  {
   "metadata": {
    "ExecuteTime": {
     "end_time": "2025-07-25T12:43:15.711166Z",
     "start_time": "2025-07-25T12:43:15.681275Z"
    }
   },
   "cell_type": "code",
   "source": [
    "def N() -> np.array:\n",
    "    \"\"\"\n",
    "    shape function matrix N.\n",
    "    It has the structure:\n",
    "    [[Ni, 0, Nj, 0, Nm, 0],\n",
    "     [0, Ni, 0, Nj, 0, Nm]]\n",
    "\n",
    "    \"\"\"\n",
    "    _N = shape_functions()  # the shape functions\n",
    "\n",
    "    # preparing the return matrix\n",
    "    _ret = sp.Matrix(ND, ND * NNODE, lambda i, j: 0)  # ND rows, ND * NNODE columns\n",
    "\n",
    "    # filling the matrix\n",
    "    for i in range(NNODE):\n",
    "        for j in range(ND):\n",
    "            _ret[j, j + ND * i] = _N[i]\n",
    "\n",
    "    return _ret\n",
    "\n",
    "_N = N()\n",
    "print(\"The shape function matrix N is {}:\".format(_N.shape))\n",
    "print()\n",
    "print('The shape function matrix N for this element:')\n",
    "_N_e = _N.subs(physical_coords_map)\n",
    "sp.pprint(_N_e)\n",
    "\n",
    "print('\\nThe shape function matrix N for this element at node 1:')\n",
    "midpoint = (physical_coords['P1'][0] + physical_coords['P2'][0] + physical_coords['P3'][0]) / 3, \\\n",
    "            (physical_coords['P1'][1] + physical_coords['P2'][1] + physical_coords['P3'][1]) / 3\n",
    "_N_e_node1 = _N_e.subs({'R': midpoint[0], 'Z': midpoint[1]})\n",
    "sp.pprint(_N_e_node1.applyfunc(lambda x: x.round(4)))\n"
   ],
   "id": "dfecf3b53944cc71",
   "outputs": [
    {
     "name": "stdout",
     "output_type": "stream",
     "text": [
      "The shape function matrix N is (2, 6):\n",
      "\n",
      "The shape function matrix N for this element:\n",
      "⎡  R   Z                   R     Z   ⎤\n",
      "⎢- ─ - ─ + 1       0       ─  0  ─  0⎥\n",
      "⎢  3   2                   3     2   ⎥\n",
      "⎢                                    ⎥\n",
      "⎢               R   Z         R     Z⎥\n",
      "⎢     0       - ─ - ─ + 1  0  ─  0  ─⎥\n",
      "⎣               3   2         3     2⎦\n",
      "\n",
      "The shape function matrix N for this element at node 1:\n",
      "⎡0.3333    0     0.3333    0     0.3333    0   ⎤\n",
      "⎢                                              ⎥\n",
      "⎣  0     0.3333    0     0.3333    0     0.3333⎦\n"
     ]
    }
   ],
   "execution_count": 5
  },
  {
   "metadata": {},
   "cell_type": "markdown",
   "source": [
    "### $\\begin{bmatrix}B\\end{bmatrix}$ matrix\n",
    "The full B matrix"
   ],
   "id": "57955a4694252d94"
  },
  {
   "metadata": {
    "ExecuteTime": {
     "end_time": "2025-07-25T12:43:15.796394Z",
     "start_time": "2025-07-25T12:43:15.748624Z"
    }
   },
   "cell_type": "code",
   "source": [
    "def B_symbolic():\n",
    "\n",
    "    _alpha = alpha()\n",
    "    _beta = beta()\n",
    "    _gamma = gamma()\n",
    "\n",
    "    two_A = Rv.dot(_beta) # same as r1*beta1 + r2*beta2 + r3*beta3\n",
    "\n",
    "    B = sp.zeros(4, ND*NNODE)\n",
    "    for i in range(NNODE):\n",
    "        B[0, 2*i] = _beta[i] / two_A\n",
    "        B[1, 2*i+1] = _gamma[i] / two_A\n",
    "        B[2, 2*i] = (_alpha[i] / R + _beta[i] + _gamma[i] * Z / R) / two_A\n",
    "        B[3, 2*i] = _gamma[i] / two_A\n",
    "        B[3, 2*i+1] = _beta[i] / two_A\n",
    "\n",
    "    return B\n",
    "\n",
    "# The symbolic B matrix\n",
    "B = B_symbolic()\n",
    "\n",
    "# the B matrix for this element\n",
    "B_e = B.subs(physical_coords_map)\n",
    "# the B matrix for this element at the midpoint\n",
    "print('the B matrix for this element at the midpoint')\n",
    "sp.pprint(B_e.subs({'R': midpoint[0], 'Z': midpoint[1]}))\n",
    "\n",
    "# the B matrix for this element at node 1. Note, the node 1 is at the origin (0, 0) so we get multiple nan values due to division by zero\n",
    "print('the B matrix for this element at node 1. Note, the node 1 is at the origin (0, 0) so we get multiple nan values due to division by zero')\n",
    "sp.pprint(B_e.subs({'R': physical_coords['P1'][0], 'Z': physical_coords['P1'][1]}))"
   ],
   "id": "bf8439bf2ac03c1e",
   "outputs": [
    {
     "name": "stdout",
     "output_type": "stream",
     "text": [
      "the B matrix for this element at the midpoint\n",
      "⎡      -1/3          0    1/3   0           0           0 ⎤\n",
      "⎢                                                         ⎥\n",
      "⎢        0          -1/2   0    0           0          1/2⎥\n",
      "⎢                                                         ⎥\n",
      "⎢0.333333333333333   0    1/3   0   0.333333333333333   0 ⎥\n",
      "⎢                                                         ⎥\n",
      "⎣      -1/2         -1/3   0   1/3         1/2          0 ⎦\n",
      "the B matrix for this element at node 1. Note, the node 1 is at the origin (0, 0) so we get multiple nan values due to division by zero\n",
      "⎡-1/3   0    1/3   0    0    0 ⎤\n",
      "⎢                              ⎥\n",
      "⎢ 0    -1/2   0    0    0   1/2⎥\n",
      "⎢                              ⎥\n",
      "⎢nan    0    1/3   0   nan   0 ⎥\n",
      "⎢                              ⎥\n",
      "⎣-1/2  -1/3   0   1/3  1/2   0 ⎦\n"
     ]
    }
   ],
   "execution_count": 6
  },
  {
   "metadata": {},
   "cell_type": "markdown",
   "source": "### The constitutive matrix $\\begin{bmatrix}D\\end{bmatrix}$",
   "id": "f7e14f280cf4af9"
  },
  {
   "metadata": {
    "ExecuteTime": {
     "end_time": "2025-07-25T12:43:15.860924Z",
     "start_time": "2025-07-25T12:43:15.852301Z"
    }
   },
   "cell_type": "code",
   "source": [
    "def D_matrix():\n",
    "    \"\"\"\n",
    "    The constitutive matrix for the axissymmetric tri element.\n",
    "    \"\"\"\n",
    "    # Plane stress condition\n",
    "    D = sp.zeros(4, 4)\n",
    "    D[0, 0] = 1 - nu\n",
    "    D[0, 1] = nu\n",
    "    D[0, 2] = nu\n",
    "    D[1, 0] = nu\n",
    "    D[1, 1] = 1 - nu\n",
    "    D[1, 2] = nu\n",
    "    D[2, 0] = nu\n",
    "    D[2, 1] = nu\n",
    "    D[2, 2] = 1 - nu\n",
    "    D[3, 3] = (1 - 2 * nu) / 2\n",
    "\n",
    "    return D"
   ],
   "id": "868f825bf26732dc",
   "outputs": [],
   "execution_count": 7
  },
  {
   "metadata": {},
   "cell_type": "markdown",
   "source": "### The stiffness matrix $\\begin{bmatrix}K\\end{bmatrix}$",
   "id": "aca739fd664f7b25"
  },
  {
   "metadata": {
    "ExecuteTime": {
     "end_time": "2025-07-25T12:43:16.013539Z",
     "start_time": "2025-07-25T12:43:15.934130Z"
    }
   },
   "cell_type": "code",
   "source": [
    "def K_matrix_3():\n",
    "    \"\"\"\n",
    "    The stiffness matrix for the axissymmetric tri element.\n",
    "    This is method 3 from the book.\n",
    "    It evaluates the B matrix at the midpoint of the element and then calculates the stiffness matrix.\n",
    "    \"\"\"\n",
    "    K = sp.zeros(ND * NNODE, ND * NNODE)  # the stiffness matrix\n",
    "\n",
    "    mp = midpoint\n",
    "\n",
    "    B_e = B_symbolic().subs(physical_coords_map)\n",
    "    B = B_e.subs({'R': mp[0], 'Z': mp[1]})  # evaluate B at the midpoint\n",
    "\n",
    "    D = D_matrix().subs({nu: nu})  # the constitutive matrix\n",
    "\n",
    "    _A = 0.5 * Rv.dot(beta()).subs(physical_coords_map) # same as r1*beta1 + r2*beta2 + r3*beta3\n",
    "\n",
    "    for i in range(NNODE):\n",
    "        for j in range(NNODE):\n",
    "            K += (B.T * D * B) * 2 * np.pi * mp[0] * _A\n",
    "\n",
    "    return K\n",
    "\n",
    "# The stiffness matrix for this element\n",
    "K_e = K_matrix_3()\n",
    "K_e_formatted = K_e.applyfunc(lambda x: x.round(4))\n",
    "print(\"The stiffness matrix K for this element:\")\n",
    "sp.pprint(K_e_formatted)"
   ],
   "id": "2b891ea48d510442",
   "outputs": [
    {
     "name": "stdout",
     "output_type": "stream",
     "text": [
      "The stiffness matrix K for this element:\n",
      "⎡29.4524   7.0686     0.0     -7.0686  -1.1781     0.0   ⎤\n",
      "⎢                                                        ⎥\n",
      "⎢7.0686    36.521   -14.1372  -4.7124  -14.1372  -31.8086⎥\n",
      "⎢                                                        ⎥\n",
      "⎢  0.0    -14.1372  37.6991      0     18.8496   14.1372 ⎥\n",
      "⎢                                                        ⎥\n",
      "⎢-7.0686  -4.7124      0      4.7124    7.0686      0    ⎥\n",
      "⎢                                                        ⎥\n",
      "⎢-1.1781  -14.1372  18.8496   7.0686    24.74     7.0686 ⎥\n",
      "⎢                                                        ⎥\n",
      "⎣  0.0    -31.8086  14.1372      0      7.0686   31.8086 ⎦\n"
     ]
    }
   ],
   "execution_count": 8
  },
  {
   "metadata": {
    "ExecuteTime": {
     "end_time": "2025-07-25T12:43:16.081542Z",
     "start_time": "2025-07-25T12:43:16.071172Z"
    }
   },
   "cell_type": "code",
   "source": [
    "# the stiffness matrix as a numpy array\n",
    "K_np = np.array(K_e).astype(np.float64)\n",
    "\n",
    "# the eigenvalues\n",
    "eigenvalues, eigenvectors = np.linalg.eigh(K_np)\n",
    "print()\n",
    "print('The eigenvalues of the stiffness matrix K are:')\n",
    "eigenvalues = sorted([float(x) for x in eigenvalues])\n",
    "\n",
    "print([round(ev, 5) for ev in eigenvalues])\n",
    "# print(eigenvectors.shape)\n",
    "# sp.pprint(eigenvectors)\n",
    "\n",
    "# the eigenvectors for the near-zero eigenvalues\n",
    "nearzero_eigenvalues = [ev for ev in eigenvalues if abs(ev) < 1e-10]\n",
    "# printing the eigenvectors for the near-zero eigenvalues\n",
    "print('The eigenvectors for the near-zero eigenvalues are:')\n",
    "for i, ev in enumerate(nearzero_eigenvalues):\n",
    "    print(f'Eigenvalue {i + 1}: {ev:.6f}')\n",
    "    print('Eigenvector:')\n",
    "    print(eigenvectors[:, i])\n",
    "    print()"
   ],
   "id": "974b1fe355981d1a",
   "outputs": [
    {
     "name": "stdout",
     "output_type": "stream",
     "text": [
      "\n",
      "The eigenvalues of the stiffness matrix K are:\n",
      "[-0.0, -0.0, 14.46519, 30.63053, 34.22128, 85.61662]\n",
      "The eigenvectors for the near-zero eigenvalues are:\n",
      "Eigenvalue 1: -0.000000\n",
      "Eigenvector:\n",
      "[-0.19971019  0.57175325 -0.19971019 -0.32694263  0.39942039  0.57175325]\n",
      "\n",
      "Eigenvalue 2: -0.000000\n",
      "Eigenvector:\n",
      "[-0.1067609  -0.34902174 -0.1067609  -0.82944579  0.2135218  -0.34902174]\n",
      "\n"
     ]
    }
   ],
   "execution_count": 9
  }
 ],
 "metadata": {
  "kernelspec": {
   "display_name": "Python 3",
   "language": "python",
   "name": "python3"
  },
  "language_info": {
   "codemirror_mode": {
    "name": "ipython",
    "version": 2
   },
   "file_extension": ".py",
   "mimetype": "text/x-python",
   "name": "python",
   "nbconvert_exporter": "python",
   "pygments_lexer": "ipython2",
   "version": "2.7.6"
  }
 },
 "nbformat": 4,
 "nbformat_minor": 5
}
