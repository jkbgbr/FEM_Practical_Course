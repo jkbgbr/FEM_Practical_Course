{
 "cells": [
  {
   "metadata": {},
   "cell_type": "markdown",
   "source": [
    "### Chapter 9: 2D axissymmetric tri element\n",
    "\n",
    "Isoparametric formulation"
   ],
   "id": "b51ca543c8634a14"
  },
  {
   "cell_type": "code",
   "execution_count": null,
   "id": "initial_id",
   "metadata": {
    "collapsed": true
   },
   "outputs": [],
   "source": [
    "import numpy as np\n",
    "import sympy as sp\n",
    "sp.init_printing()"
   ]
  },
  {
   "metadata": {},
   "cell_type": "markdown",
   "source": [
    "### The 2D axissymmetric tri element\n",
    "\n",
    "This is a triangular element with nodes: i, j, m.\n",
    "\n",
    "Coordinates are: r, z for radial and vertical directions, respectively.\n",
    "\n",
    "Each node hat 2 degrees of freedom (DOFs):\n",
    "- u: radial displacement\n",
    "- w: vertical displacement\n",
    "\n",
    "The DOFs are ordered as follows: u, w."
   ],
   "id": "8de4a38b336b3eb7"
  },
  {
   "metadata": {},
   "cell_type": "markdown",
   "source": "### The physical properties of the element",
   "id": "dae5b76f1896b4e3"
  },
  {
   "metadata": {},
   "cell_type": "code",
   "outputs": [],
   "execution_count": null,
   "source": [
    "\n",
    "### The physical properties of the element\n",
    "E = 2.0e5  # Young's modulus in Pa\n",
    "nu = 0.25  # Poisson's ratio\n",
    "t = 1000  # thickness in mm\n",
    "t /= 1000  # convert to m\n",
    "\n",
    "# Define symbolic physical coordinates\n",
    "r1, z1, r2, z2, r3, z3 = sp.symbols('r1 z1 r2 z2 r3 z3')\n",
    "\n",
    "# Example coordinates for the nodes\n",
    "# physical_coords = {'P1': (0, 0),\n",
    "#                    'P2': (1, 0),\n",
    "#                    'P3': (0, 1)}  # example coordinates for the nodes\n",
    "physical_coords = {'P1': (4, 0),\n",
    "                   'P2': (6, 2),\n",
    "                   'P3': (3, 1)}  # example coordinates for the nodes\n",
    "physical_coords = {'P1': (0, 0),\n",
    "                   'P2': (3, 0),\n",
    "                   'P3': (0, 2)}  # example coordinates for the nodes\n",
    "\n",
    "physical_coords_map = {'r1': physical_coords['P1'][0], 'z1': physical_coords['P1'][1],\n",
    "                       'r2': physical_coords['P2'][0], 'z2': physical_coords['P2'][1],\n",
    "                       'r3': physical_coords['P3'][0], 'z3': physical_coords['P3'][1]}\n",
    "\n",
    "R, Z = sp.symbols('R Z')  # radial and vertical coordinates\n",
    "\n",
    "# Define the physical nodes as a matrix so it can be used a symbolic evaluation\n",
    "physical_nodes = sp.Matrix([[r1, z1],\n",
    "                            [r2, z2],\n",
    "                            [r3, z3]])"
   ],
   "id": "643385d13f951946"
  },
  {
   "metadata": {},
   "cell_type": "code",
   "outputs": [],
   "execution_count": null,
   "source": [
    "ND = 2  # number of degrees of freedom per node\n",
    "NNODE = 3  # number of nodes"
   ],
   "id": "22782e538a273616"
  },
  {
   "metadata": {},
   "cell_type": "markdown",
   "source": "### The isoparametric part",
   "id": "e7ce70efa987ef5f"
  },
  {
   "metadata": {},
   "cell_type": "code",
   "outputs": [],
   "execution_count": null,
   "source": [
    "# coordinates of the nodes in the element\n",
    "n1 = np.array([0, 0])  # node 1 coordinates\n",
    "n2 = np.array([1, 0])   # node 2 coordinates\n",
    "n3 = np.array([0, 1])    # node 3 coordinates\n",
    "natural_nodes = np.array([n1, n2, n3])  # all nodes"
   ],
   "id": "7cdadabf1b8538b3"
  }
 ],
 "metadata": {
  "kernelspec": {
   "display_name": "Python 3",
   "language": "python",
   "name": "python3"
  },
  "language_info": {
   "codemirror_mode": {
    "name": "ipython",
    "version": 2
   },
   "file_extension": ".py",
   "mimetype": "text/x-python",
   "name": "python",
   "nbconvert_exporter": "python",
   "pygments_lexer": "ipython2",
   "version": "2.7.6"
  }
 },
 "nbformat": 4,
 "nbformat_minor": 5
}
