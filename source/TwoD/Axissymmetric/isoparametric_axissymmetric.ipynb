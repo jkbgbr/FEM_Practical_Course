{
 "cells": [
  {
   "metadata": {},
   "cell_type": "markdown",
   "source": [
    "### Chapter 9: 2D axissymmetric tri element\n",
    "\n",
    "Isoparametric formulation"
   ],
   "id": "b51ca543c8634a14"
  },
  {
   "cell_type": "code",
   "id": "initial_id",
   "metadata": {
    "collapsed": true,
    "ExecuteTime": {
     "end_time": "2025-07-26T12:33:29.886469Z",
     "start_time": "2025-07-26T12:33:29.327180Z"
    }
   },
   "source": [
    "import numpy as np\n",
    "import sympy as sp\n",
    "sp.init_printing()"
   ],
   "outputs": [],
   "execution_count": 1
  },
  {
   "metadata": {},
   "cell_type": "markdown",
   "source": [
    "### The 2D axissymmetric tri element\n",
    "\n",
    "This is a triangular element with nodes: i, j, m.\n",
    "\n",
    "Coordinates are: r, z for radial and vertical directions, respectively.\n",
    "\n",
    "Each node hat 2 degrees of freedom (DOFs):\n",
    "- u: radial displacement\n",
    "- w: vertical displacement\n",
    "\n",
    "The DOFs are ordered as follows: u, w."
   ],
   "id": "8de4a38b336b3eb7"
  },
  {
   "metadata": {},
   "cell_type": "markdown",
   "source": "### The physical properties of the element",
   "id": "dae5b76f1896b4e3"
  },
  {
   "metadata": {
    "ExecuteTime": {
     "end_time": "2025-07-26T12:33:30.170946Z",
     "start_time": "2025-07-26T12:33:30.161694Z"
    }
   },
   "cell_type": "code",
   "source": [
    "\n",
    "### The physical properties of the element\n",
    "E = 200e9  # Young's modulus in Pa\n",
    "nu = 0.3  # Poisson's ratio\n",
    "\n",
    "# Define symbolic physical coordinates\n",
    "r1, z1, r2, z2, r3, z3 = sp.symbols('r1 z1 r2 z2 r3 z3')\n",
    "\n",
    "# Example coordinates for the nodes\n",
    "# physical_coords = {'P1': (0, 0),\n",
    "#                    'P2': (1, 0),\n",
    "#                    'P3': (0, 1)}  # example coordinates for the nodes\n",
    "physical_coords = {'P1': (3, 0),\n",
    "                   'P2': (4, 0),\n",
    "                   'P3': (3, 1)}  # example coordinates for the nodes\n",
    "# physical_coords = {'P1': (0, 0),\n",
    "#                    'P2': (3, 0),\n",
    "#                    'P3': (0, 2)}  # example coordinates for the nodes\n",
    "\n",
    "midpoint = (physical_coords['P1'][0] + physical_coords['P2'][0] + physical_coords['P3'][0]) / 3, \\\n",
    "            (physical_coords['P1'][1] + physical_coords['P2'][1] + physical_coords['P3'][1]) / 3\n",
    "\n",
    "physical_coords_map = {'r1': physical_coords['P1'][0], 'z1': physical_coords['P1'][1],\n",
    "                       'r2': physical_coords['P2'][0], 'z2': physical_coords['P2'][1],\n",
    "                       'r3': physical_coords['P3'][0], 'z3': physical_coords['P3'][1]}\n",
    "\n",
    "# Define symbolic variables. Capital letters R, Z are the symbols for the variables r, z\n",
    "R, Z = sp.symbols('R Z')  # radial and vertical coordinates\n",
    "\n",
    "# Define the physical nodes as a matrix so it can be used a symbolic evaluation\n",
    "physical_nodes = sp.Matrix([[r1, z1],\n",
    "                            [r2, z2],\n",
    "                            [r3, z3]])"
   ],
   "id": "643385d13f951946",
   "outputs": [],
   "execution_count": 2
  },
  {
   "metadata": {
    "ExecuteTime": {
     "end_time": "2025-07-26T12:33:30.224640Z",
     "start_time": "2025-07-26T12:33:30.219312Z"
    }
   },
   "cell_type": "code",
   "source": [
    "ND = 2  # number of degrees of freedom per node\n",
    "NNODE = 3  # number of nodes"
   ],
   "id": "22782e538a273616",
   "outputs": [],
   "execution_count": 3
  },
  {
   "metadata": {},
   "cell_type": "markdown",
   "source": "### The isoparametric part",
   "id": "e7ce70efa987ef5f"
  },
  {
   "metadata": {
    "ExecuteTime": {
     "end_time": "2025-07-26T12:33:30.251728Z",
     "start_time": "2025-07-26T12:33:30.237136Z"
    }
   },
   "cell_type": "code",
   "source": [
    "# coordinates of the nodes in the element\n",
    "n1 = np.array([0, 0])  # node 1 coordinates\n",
    "n2 = np.array([1, 0])   # node 2 coordinates\n",
    "n3 = np.array([0, 1])    # node 3 coordinates\n",
    "natural_nodes = np.array([n1, n2, n3])  # all nodes"
   ],
   "id": "7cdadabf1b8538b3",
   "outputs": [],
   "execution_count": 4
  },
  {
   "metadata": {},
   "cell_type": "markdown",
   "source": "### Shape functions and their derivatives",
   "id": "58175b435a241e05"
  },
  {
   "metadata": {
    "ExecuteTime": {
     "end_time": "2025-07-26T12:33:30.359940Z",
     "start_time": "2025-07-26T12:33:30.277793Z"
    }
   },
   "cell_type": "code",
   "source": [
    "# Define the shape functions symbolically\n",
    "def shape_functions() -> sp.Matrix:\n",
    "    \"\"\"shape functions\"\"\"\n",
    "\n",
    "    return sp.Matrix([\n",
    "        1 - R - Z,\n",
    "        R,\n",
    "        Z,\n",
    "    ])\n",
    "\n",
    "def isoparametric_mapping() -> np.array:\n",
    "    \"\"\"\n",
    "    Isoparametric mapping natural -> physical coordinates.\n",
    "\n",
    "    :return: functions returning the physical coordinates\n",
    "    \"\"\"\n",
    "\n",
    "    sh = shape_functions()  # shape functions with substituted values\n",
    "    return sp.Matrix([sp.Matrix(sh).dot(physical_nodes[:, 0]), sp.Matrix(sh).dot(physical_nodes[:, 1])])\n",
    "\n",
    "# Calculate the derivatives by s and t, symbolically\n",
    "def shape_function_derivatives() -> np.array:\n",
    "    \"\"\"\n",
    "    Shape function derivatives.\n",
    "    [0] = dNi/ds, [1] = dNi/dt\n",
    "    \"\"\"\n",
    "    sh = shape_functions()  # N1, N2, N3, N4\n",
    "    dN_ds = []\n",
    "    dN_dt = []\n",
    "\n",
    "    for i in range(len(sh)):\n",
    "        dN_ds.append(sp.diff(sh[i], R))\n",
    "        dN_dt.append(sp.diff(sh[i], Z))\n",
    "\n",
    "    return dN_ds, dN_dt\n",
    "\n",
    "print()\n",
    "print('The shape functions are:')\n",
    "print(shape_functions())\n",
    "print()\n",
    "print('The derivatives are:')\n",
    "derivatives = shape_function_derivatives()\n",
    "for i, dN in enumerate(derivatives[0]):\n",
    "    print(f'dN{i+1}/ds = {dN}')\n",
    "for i, dN in enumerate(derivatives[1]):\n",
    "    print(f'dN{i+1}/dt = {dN}')\n",
    "\n",
    "print()\n",
    "print('The isoparametric mapping is:')\n",
    "x_map = isoparametric_mapping()[0]\n",
    "y_map = isoparametric_mapping()[1]\n",
    "print(f'x = {x_map}')\n",
    "print(f'y = {y_map}')\n",
    "\n",
    "# Substitute the symbolic coordinates with numerical values\n",
    "st_values = {\n",
    "    R: 0.3333,  # example value for s\n",
    "    Z: 0.3333,  # example value for t\n",
    "}\n",
    "print()\n",
    "print('The isoparametric mapping with coordinate values substituted is:')\n",
    "x_map_substituted = x_map.subs(st_values)\n",
    "y_map_substituted = y_map.subs(st_values)\n",
    "print(f'x = {x_map_substituted}')\n",
    "print(f'y = {y_map_substituted}')\n",
    "\n",
    "print()\n",
    "print('The derivatives of the shape functions by s are:')\n",
    "print(derivatives[0])  # derivatives by s\n",
    "\n",
    "print()\n",
    "print('The derivatives of the shape functions by t are:')\n",
    "print(derivatives[1])  # derivatives by t\n"
   ],
   "id": "b185aa43f24d0b8d",
   "outputs": [
    {
     "name": "stdout",
     "output_type": "stream",
     "text": [
      "\n",
      "The shape functions are:\n",
      "Matrix([[-R - Z + 1], [R], [Z]])\n",
      "\n",
      "The derivatives are:\n",
      "dN1/ds = -1\n",
      "dN2/ds = 1\n",
      "dN3/ds = 0\n",
      "dN1/dt = -1\n",
      "dN2/dt = 0\n",
      "dN3/dt = 1\n",
      "\n",
      "The isoparametric mapping is:\n",
      "x = R*r2 + Z*r3 + r1*(-R - Z + 1)\n",
      "y = R*z2 + Z*z3 + z1*(-R - Z + 1)\n",
      "\n",
      "The isoparametric mapping with coordinate values substituted is:\n",
      "x = 0.3334*r1 + 0.3333*r2 + 0.3333*r3\n",
      "y = 0.3334*z1 + 0.3333*z2 + 0.3333*z3\n",
      "\n",
      "The derivatives of the shape functions by s are:\n",
      "[-1, 1, 0]\n",
      "\n",
      "The derivatives of the shape functions by t are:\n",
      "[-1, 0, 1]\n"
     ]
    }
   ],
   "execution_count": 5
  },
  {
   "metadata": {},
   "cell_type": "markdown",
   "source": [
    "### The shape function matrix\n",
    "\n",
    "The shape function matrix $N$ is a matrix that contains the shape functions for each node. It has the structure:\n",
    "$$\n",
    "N = \\begin{bmatrix}\n",
    "N_i & 0 & N_j & 0 & N_m & 0 \\\\\n",
    "0 & N_i & 0 & N_j & 0 & N_m\\\\\n",
    "\\end{bmatrix}\n",
    "$$"
   ],
   "id": "baf2fddd2567b4a3"
  },
  {
   "metadata": {
    "ExecuteTime": {
     "end_time": "2025-07-26T12:33:30.411317Z",
     "start_time": "2025-07-26T12:33:30.376839Z"
    }
   },
   "cell_type": "code",
   "source": [
    "def N_matrix() -> np.array:\n",
    "    \"\"\"\n",
    "    shape function matrix N.\n",
    "    It has the structure:\n",
    "    [[Ni, 0, Nj, 0, Nm, 0],\n",
    "     [0, Ni, 0, Nj, 0, Nm]]\n",
    "\n",
    "    \"\"\"\n",
    "    _N = shape_functions()  # the shape functions\n",
    "\n",
    "    # preparing the return matrix\n",
    "    _ret = sp.Matrix(ND, ND * NNODE, lambda i, j: 0)  # ND rows, ND * NNODE columns\n",
    "\n",
    "    # filling the matrix\n",
    "    for i in range(NNODE):\n",
    "        for j in range(ND):\n",
    "            _ret[j, j + ND * i] = _N[i]\n",
    "\n",
    "    return _ret\n",
    "\n",
    "_N = N_matrix()\n",
    "print(\"The shape function matrix N is {}:\".format(_N.shape))\n",
    "print()\n",
    "print('The shape function matrix N for this element:')\n",
    "_N_e = _N.subs(physical_coords_map)\n",
    "sp.pprint(_N_e)\n",
    "\n",
    "print('\\nThe shape function matrix N for this element at node 1:')\n",
    "midpoint = (physical_coords['P1'][0] + physical_coords['P2'][0] + physical_coords['P3'][0]) / 3, \\\n",
    "            (physical_coords['P1'][1] + physical_coords['P2'][1] + physical_coords['P3'][1]) / 3\n",
    "_N_e_node1 = _N_e.subs({'R': midpoint[0], 'Z': midpoint[1]})\n",
    "sp.pprint(_N_e_node1.applyfunc(lambda x: x.round(4)))\n",
    "\n",
    "\n"
   ],
   "id": "ada090517e97afee",
   "outputs": [
    {
     "name": "stdout",
     "output_type": "stream",
     "text": [
      "The shape function matrix N is (2, 6):\n",
      "\n",
      "The shape function matrix N for this element:\n",
      "⎡-R - Z + 1      0       R  0  Z  0⎤\n",
      "⎢                                  ⎥\n",
      "⎣    0       -R - Z + 1  0  R  0  Z⎦\n",
      "\n",
      "The shape function matrix N for this element at node 1:\n",
      "⎡-2.6667     0     3.3333    0     0.3333    0   ⎤\n",
      "⎢                                                ⎥\n",
      "⎣   0     -2.6667    0     3.3333    0     0.3333⎦\n"
     ]
    }
   ],
   "execution_count": 6
  },
  {
   "metadata": {},
   "cell_type": "markdown",
   "source": "### Jacobian matrix",
   "id": "3ae4dc90c80bc3cb"
  },
  {
   "metadata": {
    "ExecuteTime": {
     "end_time": "2025-07-26T12:33:30.472825Z",
     "start_time": "2025-07-26T12:33:30.447060Z"
    }
   },
   "cell_type": "code",
   "source": [
    "def jacobian() -> sp.Matrix:\n",
    "    \"\"\"\n",
    "    Calculate the jacobian matrix for the isoparametric mapping.\n",
    "    \"\"\"\n",
    "    # The isoparametric mapping functions r(R,Z) and z(R,Z)\n",
    "    mapping = isoparametric_mapping()\n",
    "    r_map = mapping[0]\n",
    "    z_map = mapping[1]\n",
    "\n",
    "    # Calculate the derivatives\n",
    "    dr_dR = sp.diff(r_map, R)\n",
    "    dr_dZ = sp.diff(r_map, Z)\n",
    "    dz_dR = sp.diff(z_map, R)\n",
    "    dz_dZ = sp.diff(z_map, Z)\n",
    "\n",
    "    return sp.Matrix([[dr_dR, dr_dZ],\n",
    "                      [dz_dR, dz_dZ]])\n",
    "\n",
    "# Calculate the jacobian matrix symbolically\n",
    "J = jacobian()\n",
    "\n",
    "# Substitute the symbolic coordinates with numerical values in the Jacobian\n",
    "J_substituted = J.subs(physical_coords_map)\n",
    "\n",
    "print('The jacobian matrix with coordinate values substituted is:')\n",
    "sp.pprint(J_substituted)\n",
    "print()\n",
    "\n",
    "# Evaluate the jacobian matrix at some points\n",
    "for r_eval in [0, 0.3333]:\n",
    "    for z_eval in [0, 0.3333]:\n",
    "        J_evaluated = J_substituted.subs({R: r_eval, Z: z_eval})\n",
    "        print(f'Jacobian matrix at r={r_eval}, z={z_eval}:')\n",
    "        sp.pprint(J_evaluated)\n",
    "        print(f'The determinant at this point is |J|={J_evaluated.det():.2f}')\n",
    "        print()"
   ],
   "id": "234cd282ee60e02e",
   "outputs": [
    {
     "name": "stdout",
     "output_type": "stream",
     "text": [
      "The jacobian matrix with coordinate values substituted is:\n",
      "⎡1  0⎤\n",
      "⎢    ⎥\n",
      "⎣0  1⎦\n",
      "\n",
      "Jacobian matrix at r=0, z=0:\n",
      "⎡1  0⎤\n",
      "⎢    ⎥\n",
      "⎣0  1⎦\n",
      "The determinant at this point is |J|=1.00\n",
      "\n",
      "Jacobian matrix at r=0, z=0.3333:\n",
      "⎡1  0⎤\n",
      "⎢    ⎥\n",
      "⎣0  1⎦\n",
      "The determinant at this point is |J|=1.00\n",
      "\n",
      "Jacobian matrix at r=0.3333, z=0:\n",
      "⎡1  0⎤\n",
      "⎢    ⎥\n",
      "⎣0  1⎦\n",
      "The determinant at this point is |J|=1.00\n",
      "\n",
      "Jacobian matrix at r=0.3333, z=0.3333:\n",
      "⎡1  0⎤\n",
      "⎢    ⎥\n",
      "⎣0  1⎦\n",
      "The determinant at this point is |J|=1.00\n",
      "\n"
     ]
    }
   ],
   "execution_count": 7
  },
  {
   "metadata": {},
   "cell_type": "markdown",
   "source": [
    "### $\\begin{bmatrix}B\\end{bmatrix}$ matrix\n",
    "\n",
    "$$\\begin{bmatrix}B_i\\end{bmatrix} = \\begin{bmatrix}\n",
    "\\frac{\\partial N_i}{\\partial r} & 0 \\\\\n",
    "0 & \\frac{\\partial N_i}{\\partial z} \\\\\n",
    "\\frac{\\partial N_i}{\\partial z} & \\frac{\\partial N_i}{\\partial r} \\\\\n",
    "\\frac{N_i}{r} & 0\n",
    "\\end{bmatrix}$$\n",
    "\n",
    "One block of the B matrix, which relates the strain to the displacement for node i.\n",
    "\n",
    "The order of the strain vector is:\n",
    "$$\\varepsilon = \\begin{bmatrix}\n",
    "\\varepsilon_r \\\\\n",
    "\\varepsilon_\\theta\\\\\n",
    "\\varepsilon_z \\\\\n",
    "\\gamma_{rz} \\\\\n",
    "\\end{bmatrix}$$"
   ],
   "id": "9f3504c1cd2d518b"
  },
  {
   "metadata": {
    "ExecuteTime": {
     "end_time": "2025-07-26T12:33:30.562868Z",
     "start_time": "2025-07-26T12:33:30.512134Z"
    }
   },
   "cell_type": "code",
   "source": [
    "def calculate_B():\n",
    "    \"\"\"\n",
    "    Calculates the complete B-matrix for the element.\n",
    "    B relates the strain vector [ε_r, ε_z, γ_rz, ε_θ] to the nodal displacement vector.\n",
    "    \"\"\"\n",
    "    J_symbolic = jacobian()\n",
    "    J_det_symbolic = J_symbolic.det()\n",
    "\n",
    "    dNdr, dNdz = shape_function_derivatives()  # dN(i)/dr, dN(i)/dz\n",
    "\n",
    "    B = sp.zeros(4, 6)\n",
    "\n",
    "    r_iso = isoparametric_mapping()[0]\n",
    "\n",
    "    N_funcs = shape_functions()\n",
    "\n",
    "    for i in range(NNODE):\n",
    "\n",
    "        # ∂Nᵢ/∂r = (1/|J|) * [ (∂z/∂Z * ∂Nᵢ/∂R) - (∂r/∂Z * ∂Nᵢ/∂Z) ]\n",
    "        dNi_dr = (1/J_det_symbolic) * (sp.diff(y_map, Z) * dNdr[i] - sp.diff(x_map, Z) * dNdz[i])\n",
    "\n",
    "        # ∂Nᵢ/∂z = (1/|J|) * [ (∂r/∂R * ∂Nᵢ/∂Z) - (∂z/∂R * ∂Nᵢ/∂R) ]\n",
    "        dNi_dz = (1/J_det_symbolic) * (sp.diff(x_map, R) * dNdz[i] - sp.diff(y_map, R) * dNdr[i])\n",
    "\n",
    "        B[0, 2*i] = dNi_dr\n",
    "        B[1, 2*i] = N_funcs[i] / r_iso\n",
    "        B[2, 2*i+1] = dNi_dz\n",
    "        B[3, 2*i] = dNi_dz\n",
    "        B[3, 2*i+1] = dNi_dr\n",
    "\n",
    "    return B\n",
    "\n",
    "# Example of calculating and printing the B matrix\n",
    "B_matrix = calculate_B()\n",
    "# You can then substitute values as needed\n",
    "B_evaluated = B_matrix.subs(physical_coords_map).subs({R: 1/3, Z: 1/3})\n",
    "sp.pprint(B_evaluated.evalf().applyfunc(lambda x: round(x, 4)))"
   ],
   "id": "3356c7d2c4a65610",
   "outputs": [
    {
     "name": "stdout",
     "output_type": "stream",
     "text": [
      "⎡-1.0   0    1.0   0    0    0 ⎤\n",
      "⎢                              ⎥\n",
      "⎢0.1    0    0.1   0   0.1   0 ⎥\n",
      "⎢                              ⎥\n",
      "⎢ 0    -1.0   0    0    0   1.0⎥\n",
      "⎢                              ⎥\n",
      "⎣-1.0  -1.0   0   1.0  1.0   0 ⎦\n"
     ]
    }
   ],
   "execution_count": 8
  },
  {
   "metadata": {},
   "cell_type": "markdown",
   "source": [
    "### The constitutive matrix $\\begin{bmatrix}D\\end{bmatrix}$\n",
    "\n",
    "The constitutive matrix relates the stress vector to the strain vector. For plane stress conditions, it is given by:\n",
    "$$\n",
    "\\begin{bmatrix}D\\end{bmatrix} = \\frac{E}{(1 - 2\\nu)(1 + \\nu)} \\begin{bmatrix}\n",
    "1 - \\nu & \\nu & \\nu & 0 \\\\\n",
    "\\nu & 1 - \\nu & \\nu & 0 \\\\\n",
    "\\nu & \\nu & 1 - \\nu & 0 \\\\\n",
    "0 & 0 & 0 & \\frac{1 - 2\\nu}{2\n",
    "}\n",
    "\\end{bmatrix}\n",
    "$$\n"
   ],
   "id": "92b687e6a3f25c2e"
  },
  {
   "metadata": {
    "ExecuteTime": {
     "end_time": "2025-07-26T12:33:30.604324Z",
     "start_time": "2025-07-26T12:33:30.582264Z"
    }
   },
   "cell_type": "code",
   "source": [
    "def D_matrix():\n",
    "    \"\"\"\n",
    "    The constitutive matrix for the axissymmetric tri element.\n",
    "    \"\"\"\n",
    "    # Plane stress condition\n",
    "    D = sp.zeros(4, 4)\n",
    "    D[0, 0] = 1 - nu\n",
    "    D[0, 1] = nu\n",
    "    D[0, 2] = nu\n",
    "\n",
    "    D[1, 0] = nu\n",
    "    D[1, 1] = 1 - nu\n",
    "    D[1, 2] = nu\n",
    "\n",
    "    D[2, 0] = nu\n",
    "    D[2, 1] = nu\n",
    "    D[2, 2] = 1 - nu\n",
    "\n",
    "    D[3, 3] = (1 - 2 * nu) / 2\n",
    "\n",
    "    D *= E / ((1 - 2 * nu) * (1 + nu))\n",
    "\n",
    "    return D\n",
    "\n",
    "D = D_matrix()\n",
    "sp.pprint(D.applyfunc(lambda x: round(x/1e9, 2)))\n",
    "print(D.T == D)"
   ],
   "id": "f885db57739e6b2f",
   "outputs": [
    {
     "name": "stdout",
     "output_type": "stream",
     "text": [
      "⎡269.23  115.38  115.38    0  ⎤\n",
      "⎢                             ⎥\n",
      "⎢115.38  269.23  115.38    0  ⎥\n",
      "⎢                             ⎥\n",
      "⎢115.38  115.38  269.23    0  ⎥\n",
      "⎢                             ⎥\n",
      "⎣  0       0       0     76.92⎦\n",
      "True\n"
     ]
    }
   ],
   "execution_count": 9
  },
  {
   "metadata": {},
   "cell_type": "markdown",
   "source": "### Quadrature points and weights",
   "id": "4b092fdca4e40fe5"
  },
  {
   "metadata": {
    "ExecuteTime": {
     "end_time": "2025-07-26T12:33:30.699742Z",
     "start_time": "2025-07-26T12:33:30.692290Z"
    }
   },
   "cell_type": "code",
   "source": [
    "gi_data = {\n",
    "    1: {\n",
    "        'point': ((1/3, 1/3),),  # midpoint of the triangle\n",
    "        'weight': (1,)\n",
    "    },\n",
    "    3: {\n",
    "        'point': ((1/6, 1/6), (4/6, 1/6), (1/6, 4/6), ),\n",
    "        'weight': (1/3, 1/3, 1/3)\n",
    "    },\n",
    "}"
   ],
   "id": "921a4b0f9b91c935",
   "outputs": [],
   "execution_count": 10
  },
  {
   "metadata": {},
   "cell_type": "markdown",
   "source": "### The stiffness matrix $\\begin{bmatrix}K\\end{bmatrix}$",
   "id": "e0395614162b8a0e"
  },
  {
   "metadata": {
    "ExecuteTime": {
     "end_time": "2025-07-26T13:08:46.422245Z",
     "start_time": "2025-07-26T13:08:46.371326Z"
    }
   },
   "cell_type": "code",
   "source": [
    "NG = 1\n",
    "\n",
    "def K_matrix() -> np.array:\n",
    "    \"\"\"\n",
    "    Gets the stiffness matrix for the element.\n",
    "    \"\"\"\n",
    "    K_lok = sp.zeros(NNODE * ND, NNODE * ND)  # initialize the stiffness matrix\n",
    "    J = jacobian()\n",
    "    J_substituted = J.subs(physical_coords_map)\n",
    "    D = D_matrix()\n",
    "    r_iso = isoparametric_mapping()[0]  # r(R, Z) mapping\n",
    "\n",
    "    print('riso')\n",
    "    print(r_iso)\n",
    "\n",
    "    for p, w in zip(gi_data[NG]['point'], gi_data[NG]['weight']):\n",
    "        r_gp, z_gp = p[0], p[1]  # Gauss point in natural coords\n",
    "\n",
    "        # Evaluate B, det(J), and r at the Gauss point\n",
    "        B_evaluated = B_matrix.subs(physical_coords_map).subs({R: r_gp, Z: z_gp}).evalf()\n",
    "        J_evaluated = J_substituted.subs({R: r_gp, Z: z_gp}).evalf()\n",
    "        det_J = J_evaluated.det()\n",
    "        r_physical_at_gp = r_iso.subs(physical_coords_map).subs({R: r_gp, Z: z_gp}).evalf()\n",
    "\n",
    "        # Calculate the stiffness matrix contribution with the 2*pi*r term\n",
    "        K_contribution = 2 * sp.pi * B_evaluated.T * D * B_evaluated * r_physical_at_gp * det_J * w\n",
    "        K_lok += K_contribution\n",
    "\n",
    "    return K_lok\n",
    "\n",
    "NG = 1\n",
    "K1 = K_matrix()\n",
    "K1_np = np.array(K1).astype(np.float64)\n",
    "\n",
    "NG = 3\n",
    "K3 = K_matrix()\n",
    "K3_np = np.array(K3).astype(np.float64)\n",
    "\n",
    "print(np.round(K1_np/1e12, 4))\n",
    "print()\n",
    "print(np.round(K3_np/1e12, 4))\n"
   ],
   "id": "4c9fea9f9fdfec0b",
   "outputs": [
    {
     "name": "stdout",
     "output_type": "stream",
     "text": [
      "riso\n",
      "R*r2 + Z*r3 + r1*(-R - Z + 1)\n",
      "R + 3\n",
      "3.33333333333333\n",
      "riso\n",
      "R*r2 + Z*r3 + r1*(-R - Z + 1)\n",
      "R + 3\n",
      "3.16666666666667\n",
      "R + 3\n",
      "3.66666666666667\n",
      "R + 3\n",
      "3.16666666666667\n",
      "[[ 6.8229  3.786  -5.5824 -1.6111 -1.7963 -2.1749]\n",
      " [ 3.786   7.2498 -2.6583 -1.6111 -1.8527 -5.6388]\n",
      " [-5.5824 -2.6583  6.1785  0.      0.298   2.6583]\n",
      " [-1.6111 -1.6111  0.      1.6111  1.6111  0.    ]\n",
      " [-1.7963 -1.8527  0.298   1.6111  1.6675  0.2417]\n",
      " [-2.1749 -5.6388  2.6583  0.      0.2417  5.6388]]\n",
      "\n",
      "[[ 6.8549  3.786  -5.5969 -1.6111 -1.8089 -2.1749]\n",
      " [ 3.786   7.2498 -2.6583 -1.6111 -1.8527 -5.6388]\n",
      " [-5.5969 -2.6583  6.2003  0.      0.2835  2.6583]\n",
      " [-1.6111 -1.6111  0.      1.6111  1.6111  0.    ]\n",
      " [-1.8089 -1.8527  0.2835  1.6111  1.6994  0.2417]\n",
      " [-2.1749 -5.6388  2.6583  0.      0.2417  5.6388]]\n"
     ]
    }
   ],
   "execution_count": 26
  },
  {
   "metadata": {
    "ExecuteTime": {
     "end_time": "2025-07-26T12:33:31.187037Z",
     "start_time": "2025-07-26T12:33:31.173526Z"
    }
   },
   "cell_type": "code",
   "source": [
    "# the stiffness matrix as a numpy array\n",
    "K_np = np.array(K_e).astype(np.float64)\n",
    "\n",
    "# the eigenvalues\n",
    "eigenvalues, eigenvectors = np.linalg.eigh(K_np)\n",
    "print()\n",
    "print('The eigenvalues of the stiffness matrix K are:')\n",
    "eigenvalues = sorted([float(x) for x in eigenvalues])\n",
    "\n",
    "print([round(ev, 5) for ev in eigenvalues])\n",
    "# print(eigenvectors.shape)\n",
    "# sp.pprint(eigenvectors)\n",
    "\n",
    "# the eigenvectors for the near-zero eigenvalues\n",
    "nearzero_eigenvalues = [ev for ev in eigenvalues if abs(ev) < 1e-10]\n",
    "# printing the eigenvectors for the near-zero eigenvalues\n",
    "print('The eigenvectors for the near-zero eigenvalues are:')\n",
    "for i, ev in enumerate(nearzero_eigenvalues):\n",
    "    print(f'Eigenvalue {i + 1}: {ev:.6f}')\n",
    "    print('Eigenvector:')\n",
    "    print(eigenvectors[:, i])\n",
    "    print()"
   ],
   "id": "f13713eec57d9710",
   "outputs": [
    {
     "name": "stdout",
     "output_type": "stream",
     "text": [
      "\n",
      "The eigenvalues of the stiffness matrix K are:\n",
      "[-0.0037, -0.00055, 125205187946.65376, 4261974693202.828, 6444292622748.29, 18337006979816.68]\n",
      "The eigenvectors for the near-zero eigenvalues are:\n"
     ]
    }
   ],
   "execution_count": 12
  }
 ],
 "metadata": {
  "kernelspec": {
   "display_name": "Python 3",
   "language": "python",
   "name": "python3"
  },
  "language_info": {
   "codemirror_mode": {
    "name": "ipython",
    "version": 2
   },
   "file_extension": ".py",
   "mimetype": "text/x-python",
   "name": "python",
   "nbconvert_exporter": "python",
   "pygments_lexer": "ipython2",
   "version": "2.7.6"
  }
 },
 "nbformat": 4,
 "nbformat_minor": 5
}
