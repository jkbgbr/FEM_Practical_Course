{
 "cells": [
  {
   "metadata": {},
   "cell_type": "markdown",
   "source": [
    "### Chapter 9: 2D axissymmetric tri element\n",
    "\n",
    "Isoparametric formulation"
   ],
   "id": "b51ca543c8634a14"
  },
  {
   "cell_type": "code",
   "id": "initial_id",
   "metadata": {
    "collapsed": true,
    "ExecuteTime": {
     "end_time": "2025-07-25T16:57:14.081668Z",
     "start_time": "2025-07-25T16:57:14.076645Z"
    }
   },
   "source": [
    "import numpy as np\n",
    "import sympy as sp\n",
    "sp.init_printing()"
   ],
   "outputs": [],
   "execution_count": 12
  },
  {
   "metadata": {},
   "cell_type": "markdown",
   "source": [
    "### The 2D axissymmetric tri element\n",
    "\n",
    "This is a triangular element with nodes: i, j, m.\n",
    "\n",
    "Coordinates are: r, z for radial and vertical directions, respectively.\n",
    "\n",
    "Each node hat 2 degrees of freedom (DOFs):\n",
    "- u: radial displacement\n",
    "- w: vertical displacement\n",
    "\n",
    "The DOFs are ordered as follows: u, w."
   ],
   "id": "8de4a38b336b3eb7"
  },
  {
   "metadata": {},
   "cell_type": "markdown",
   "source": "### The physical properties of the element",
   "id": "dae5b76f1896b4e3"
  },
  {
   "metadata": {
    "ExecuteTime": {
     "end_time": "2025-07-25T16:57:14.126649Z",
     "start_time": "2025-07-25T16:57:14.117600Z"
    }
   },
   "cell_type": "code",
   "source": [
    "\n",
    "### The physical properties of the element\n",
    "E = 2.0e5  # Young's modulus in Pa\n",
    "nu = 0.25  # Poisson's ratio\n",
    "t = 1000  # thickness in mm\n",
    "t /= 1000  # convert to m\n",
    "\n",
    "# Define symbolic physical coordinates\n",
    "r1, z1, r2, z2, r3, z3 = sp.symbols('r1 z1 r2 z2 r3 z3')\n",
    "\n",
    "# Example coordinates for the nodes\n",
    "# physical_coords = {'P1': (0, 0),\n",
    "#                    'P2': (1, 0),\n",
    "#                    'P3': (0, 1)}  # example coordinates for the nodes\n",
    "physical_coords = {'P1': (4, 0),\n",
    "                   'P2': (6, 2),\n",
    "                   'P3': (3, 1)}  # example coordinates for the nodes\n",
    "physical_coords = {'P1': (0, 0),\n",
    "                   'P2': (3, 0),\n",
    "                   'P3': (0, 2)}  # example coordinates for the nodes\n",
    "\n",
    "midpoint = (physical_coords['P1'][0] + physical_coords['P2'][0] + physical_coords['P3'][0]) / 3, \\\n",
    "            (physical_coords['P1'][1] + physical_coords['P2'][1] + physical_coords['P3'][1]) / 3\n",
    "\n",
    "physical_coords_map = {'r1': physical_coords['P1'][0], 'z1': physical_coords['P1'][1],\n",
    "                       'r2': physical_coords['P2'][0], 'z2': physical_coords['P2'][1],\n",
    "                       'r3': physical_coords['P3'][0], 'z3': physical_coords['P3'][1]}\n",
    "\n",
    "R, Z = sp.symbols('R Z')  # radial and vertical coordinates\n",
    "\n",
    "# Define the physical nodes as a matrix so it can be used a symbolic evaluation\n",
    "physical_nodes = sp.Matrix([[r1, z1],\n",
    "                            [r2, z2],\n",
    "                            [r3, z3]])"
   ],
   "id": "643385d13f951946",
   "outputs": [],
   "execution_count": 13
  },
  {
   "metadata": {
    "ExecuteTime": {
     "end_time": "2025-07-25T16:57:14.170011Z",
     "start_time": "2025-07-25T16:57:14.165880Z"
    }
   },
   "cell_type": "code",
   "source": [
    "ND = 2  # number of degrees of freedom per node\n",
    "NNODE = 3  # number of nodes"
   ],
   "id": "22782e538a273616",
   "outputs": [],
   "execution_count": 14
  },
  {
   "metadata": {},
   "cell_type": "markdown",
   "source": "### The isoparametric part",
   "id": "e7ce70efa987ef5f"
  },
  {
   "metadata": {
    "ExecuteTime": {
     "end_time": "2025-07-25T16:57:14.226681Z",
     "start_time": "2025-07-25T16:57:14.222807Z"
    }
   },
   "cell_type": "code",
   "source": [
    "# coordinates of the nodes in the element\n",
    "n1 = np.array([0, 0])  # node 1 coordinates\n",
    "n2 = np.array([1, 0])   # node 2 coordinates\n",
    "n3 = np.array([0, 1])    # node 3 coordinates\n",
    "natural_nodes = np.array([n1, n2, n3])  # all nodes"
   ],
   "id": "7cdadabf1b8538b3",
   "outputs": [],
   "execution_count": 15
  },
  {
   "metadata": {},
   "cell_type": "markdown",
   "source": "### Shape functions and their derivatives",
   "id": "58175b435a241e05"
  },
  {
   "metadata": {
    "ExecuteTime": {
     "end_time": "2025-07-25T16:57:14.298755Z",
     "start_time": "2025-07-25T16:57:14.276033Z"
    }
   },
   "cell_type": "code",
   "source": [
    "# Define symbolic variables. Capital letters S, T are the symbols for the variables s, t\n",
    "# S, T = sp.symbols('s t')\n",
    "\n",
    "# Define the shape functions symbolically\n",
    "def shape_functions() -> sp.Matrix:\n",
    "    \"\"\"shape functions\"\"\"\n",
    "\n",
    "    return sp.Matrix([\n",
    "        1 - R - Z,\n",
    "        R,\n",
    "        Z,\n",
    "    ])\n",
    "\n",
    "def isoparametric_mapping() -> np.array:\n",
    "    \"\"\"\n",
    "    Isoparametric mapping natural -> physical coordinates.\n",
    "\n",
    "    :return: functions returning the physical coordinates\n",
    "    \"\"\"\n",
    "\n",
    "    sh = shape_functions()  # shape functions with substituted values\n",
    "    return sp.Matrix([sp.Matrix(sh).dot(physical_nodes[:, 0]), sp.Matrix(sh).dot(physical_nodes[:, 1])])\n",
    "\n",
    "# Calculate the derivatives by s and t, symbolically\n",
    "def shape_function_derivatives() -> np.array:\n",
    "    \"\"\"\n",
    "    Shape function derivatives.\n",
    "    [0] = dNi/ds, [1] = dNi/dt\n",
    "    \"\"\"\n",
    "    sh = shape_functions()  # N1, N2, N3, N4\n",
    "    dN_ds = []\n",
    "    dN_dt = []\n",
    "\n",
    "    for i in range(len(sh)):\n",
    "        dN_ds.append(sp.diff(sh[i], R))\n",
    "        dN_dt.append(sp.diff(sh[i], Z))\n",
    "\n",
    "    return dN_ds, dN_dt\n",
    "\n",
    "print()\n",
    "print('The shape functions are:')\n",
    "print(shape_functions())\n",
    "print()\n",
    "print('The derivatives are:')\n",
    "derivatives = shape_function_derivatives()\n",
    "for i, dN in enumerate(derivatives[0]):\n",
    "    print(f'dN{i+1}/ds = {dN}')\n",
    "for i, dN in enumerate(derivatives[1]):\n",
    "    print(f'dN{i+1}/dt = {dN}')\n",
    "\n",
    "print()\n",
    "print('The isoparametric mapping is:')\n",
    "x_map = isoparametric_mapping()[0]\n",
    "y_map = isoparametric_mapping()[1]\n",
    "print(f'x = {x_map}')\n",
    "print(f'y = {y_map}')\n",
    "\n",
    "# Substitute the symbolic coordinates with numerical values\n",
    "st_values = {\n",
    "    R: 0.3333,  # example value for s\n",
    "    Z: 0.3333,  # example value for t\n",
    "}\n",
    "print()\n",
    "print('The isoparametric mapping with coordinate values substituted is:')\n",
    "x_map_substituted = x_map.subs(st_values)\n",
    "y_map_substituted = y_map.subs(st_values)\n",
    "print(f'x = {x_map_substituted}')\n",
    "print(f'y = {y_map_substituted}')\n",
    "\n",
    "print()\n",
    "print('The derivatives of the shape functions by s are:')\n",
    "print(derivatives[0])  # derivatives by s\n",
    "\n",
    "print()\n",
    "print('The derivatives of the shape functions by t are:')\n",
    "print(derivatives[1])  # derivatives by t\n"
   ],
   "id": "b185aa43f24d0b8d",
   "outputs": [
    {
     "name": "stdout",
     "output_type": "stream",
     "text": [
      "\n",
      "The shape functions are:\n",
      "Matrix([[-R - Z + 1], [R], [Z]])\n",
      "\n",
      "The derivatives are:\n",
      "dN1/ds = -1\n",
      "dN2/ds = 1\n",
      "dN3/ds = 0\n",
      "dN1/dt = -1\n",
      "dN2/dt = 0\n",
      "dN3/dt = 1\n",
      "\n",
      "The isoparametric mapping is:\n",
      "x = R*r2 + Z*r3 + r1*(-R - Z + 1)\n",
      "y = R*z2 + Z*z3 + z1*(-R - Z + 1)\n",
      "\n",
      "The isoparametric mapping with coordinate values substituted is:\n",
      "x = 0.3334*r1 + 0.3333*r2 + 0.3333*r3\n",
      "y = 0.3334*z1 + 0.3333*z2 + 0.3333*z3\n",
      "\n",
      "The derivatives of the shape functions by s are:\n",
      "[-1, 1, 0]\n",
      "\n",
      "The derivatives of the shape functions by t are:\n",
      "[-1, 0, 1]\n"
     ]
    }
   ],
   "execution_count": 16
  },
  {
   "metadata": {},
   "cell_type": "markdown",
   "source": [
    "### The shape function matrix\n",
    "\n",
    "The shape function matrix $N$ is a matrix that contains the shape functions for each node. It has the structure:\n",
    "$$\n",
    "N = \\begin{bmatrix}\n",
    "N_i & 0 & N_j & 0 & N_m & 0 \\\\\n",
    "0 & N_i & 0 & N_j & 0 & N_m\\\\\n",
    "\\end{bmatrix}\n",
    "$$"
   ],
   "id": "baf2fddd2567b4a3"
  },
  {
   "metadata": {
    "ExecuteTime": {
     "end_time": "2025-07-25T16:57:14.356180Z",
     "start_time": "2025-07-25T16:57:14.337218Z"
    }
   },
   "cell_type": "code",
   "source": [
    "def N() -> np.array:\n",
    "    \"\"\"\n",
    "    shape function matrix N.\n",
    "    It has the structure:\n",
    "    [[Ni, 0, Nj, 0, Nm, 0],\n",
    "     [0, Ni, 0, Nj, 0, Nm]]\n",
    "\n",
    "    \"\"\"\n",
    "    _N = shape_functions()  # the shape functions\n",
    "\n",
    "    # preparing the return matrix\n",
    "    _ret = sp.Matrix(ND, ND * NNODE, lambda i, j: 0)  # ND rows, ND * NNODE columns\n",
    "\n",
    "    # filling the matrix\n",
    "    for i in range(NNODE):\n",
    "        for j in range(ND):\n",
    "            _ret[j, j + ND * i] = _N[i]\n",
    "\n",
    "    return _ret\n",
    "\n",
    "_N = N()\n",
    "print(\"The shape function matrix N is {}:\".format(_N.shape))\n",
    "print()\n",
    "print('The shape function matrix N for this element:')\n",
    "_N_e = _N.subs(physical_coords_map)\n",
    "sp.pprint(_N_e)\n",
    "\n",
    "print('\\nThe shape function matrix N for this element at node 1:')\n",
    "midpoint = (physical_coords['P1'][0] + physical_coords['P2'][0] + physical_coords['P3'][0]) / 3, \\\n",
    "            (physical_coords['P1'][1] + physical_coords['P2'][1] + physical_coords['P3'][1]) / 3\n",
    "_N_e_node1 = _N_e.subs({'R': midpoint[0], 'Z': midpoint[1]})\n",
    "sp.pprint(_N_e_node1.applyfunc(lambda x: x.round(4)))\n",
    "\n",
    "\n"
   ],
   "id": "ada090517e97afee",
   "outputs": [
    {
     "name": "stdout",
     "output_type": "stream",
     "text": [
      "The shape function matrix N is (2, 6):\n",
      "\n",
      "The shape function matrix N for this element:\n",
      "⎡-R - Z + 1      0       R  0  Z  0⎤\n",
      "⎢                                  ⎥\n",
      "⎣    0       -R - Z + 1  0  R  0  Z⎦\n",
      "\n",
      "The shape function matrix N for this element at node 1:\n",
      "⎡-0.6667     0     1.0   0   0.6667    0   ⎤\n",
      "⎢                                          ⎥\n",
      "⎣   0     -0.6667   0   1.0    0     0.6667⎦\n"
     ]
    }
   ],
   "execution_count": 17
  },
  {
   "metadata": {},
   "cell_type": "markdown",
   "source": "### Jacobian matrix",
   "id": "3ae4dc90c80bc3cb"
  },
  {
   "metadata": {
    "ExecuteTime": {
     "end_time": "2025-07-25T16:57:14.414097Z",
     "start_time": "2025-07-25T16:57:14.396744Z"
    }
   },
   "cell_type": "code",
   "source": [
    "def jacobian() -> sp.Matrix:\n",
    "    \"\"\"\n",
    "    Calculate the jacobian matrix for the isoparametric mapping.\n",
    "    \"\"\"\n",
    "    # Calculate the derivatives\n",
    "    dx_dr = sp.diff(x_map, R)\n",
    "    dy_dr = sp.diff(y_map, R)\n",
    "    dx_dz = sp.diff(x_map, Z)\n",
    "    dy_dz = sp.diff(y_map, Z)\n",
    "\n",
    "    return sp.Matrix([[dx_dr, dy_dr],\n",
    "                      [dx_dz, dy_dz]])\n",
    "\n",
    "# Calculate the jacobian matrix symbolically\n",
    "J = jacobian()\n",
    "\n",
    "# Substitute the symbolic coordinates with numerical values in the Jacobian\n",
    "J_substituted = J.subs(physical_coords_map)\n",
    "\n",
    "print('The jacobian matrix with coordinate values substituted is:')\n",
    "sp.pprint(J_substituted)\n",
    "print()\n",
    "\n",
    "# Evaluate the jacobian matrix at some points\n",
    "for r_eval in [0, 0.3333]:\n",
    "    for z_eval in [0, 0.3333]:\n",
    "        J_evaluated = J_substituted.subs({R: r_eval, Z: z_eval})\n",
    "        print(f'Jacobian matrix at r={r_eval}, z={z_eval}:')\n",
    "        sp.pprint(J_evaluated)\n",
    "        print(f'The determinant at this point is |J|={J_evaluated.det():.2f}')\n",
    "        print()"
   ],
   "id": "234cd282ee60e02e",
   "outputs": [
    {
     "name": "stdout",
     "output_type": "stream",
     "text": [
      "The jacobian matrix with coordinate values substituted is:\n",
      "⎡3  0⎤\n",
      "⎢    ⎥\n",
      "⎣0  2⎦\n",
      "\n",
      "Jacobian matrix at r=0, z=0:\n",
      "⎡3  0⎤\n",
      "⎢    ⎥\n",
      "⎣0  2⎦\n",
      "The determinant at this point is |J|=6.00\n",
      "\n",
      "Jacobian matrix at r=0, z=0.3333:\n",
      "⎡3  0⎤\n",
      "⎢    ⎥\n",
      "⎣0  2⎦\n",
      "The determinant at this point is |J|=6.00\n",
      "\n",
      "Jacobian matrix at r=0.3333, z=0:\n",
      "⎡3  0⎤\n",
      "⎢    ⎥\n",
      "⎣0  2⎦\n",
      "The determinant at this point is |J|=6.00\n",
      "\n",
      "Jacobian matrix at r=0.3333, z=0.3333:\n",
      "⎡3  0⎤\n",
      "⎢    ⎥\n",
      "⎣0  2⎦\n",
      "The determinant at this point is |J|=6.00\n",
      "\n"
     ]
    }
   ],
   "execution_count": 18
  },
  {
   "metadata": {},
   "cell_type": "markdown",
   "source": [
    "### $\\begin{bmatrix}B\\end{bmatrix}$ matrix\n",
    "\n",
    "$$\\begin{bmatrix}B_i\\end{bmatrix} = \\begin{bmatrix}\n",
    "\\frac{\\partial N_i}{\\partial r} & 0 \\\\\n",
    "0 & \\frac{\\partial N_i}{\\partial z} \\\\\n",
    "\\frac{\\partial N_i}{\\partial z} & \\frac{\\partial N_i}{\\partial r} \\\\\n",
    "\\frac{N_i}{r} & 0\n",
    "\\end{bmatrix}$$\n",
    "\n",
    "One block of the B matrix, which relates the strain to the displacement for node i."
   ],
   "id": "9f3504c1cd2d518b"
  },
  {
   "metadata": {
    "ExecuteTime": {
     "end_time": "2025-07-25T17:04:46.307727Z",
     "start_time": "2025-07-25T17:04:46.277584Z"
    }
   },
   "cell_type": "code",
   "source": [
    "def calculate_B():\n",
    "    \"\"\"\n",
    "    Calculates the complete B-matrix for the element.\n",
    "    B relates the strain vector [ε_r, ε_z, γ_rz, ε_θ] to the nodal displacement vector.\n",
    "    \"\"\"\n",
    "    J_inv = jacobian().inv()\n",
    "    dN_dRZ = sp.Matrix(shape_function_derivatives()) # Matrix of shape function derivatives w.r.t R and Z\n",
    "\n",
    "    # This calculates [dN/dr, dN/dz] for all N at once\n",
    "    dN_drz = J_inv * dN_dRZ\n",
    "\n",
    "    # The radius 'r' in the natural coordinate system\n",
    "    r_iso = isoparametric_mapping()[0]\n",
    "\n",
    "    N_funcs = shape_functions()\n",
    "    B = sp.zeros(4, 6)\n",
    "\n",
    "    for i in range(NNODE):\n",
    "        # Derivatives for node i\n",
    "        dNi_dr = dN_drz[0, i]\n",
    "        dNi_dz = dN_drz[1, i]\n",
    "        Ni = N_funcs[i]\n",
    "\n",
    "        # Populate the B matrix, column by column\n",
    "        # Node i contributes to columns 2*i and 2*i+1\n",
    "        B[0, 2*i] = dNi_dr      # ε_r contribution from u_i\n",
    "        B[1, 2*i+1] = dNi_dz    # ε_z contribution from w_i\n",
    "        B[2, 2*i] = dNi_dz      # γ_rz contribution from u_i\n",
    "        B[2, 2*i+1] = dNi_dr    # γ_rz contribution from w_i\n",
    "        B[3, 2*i] = Ni / r_iso  # ε_θ (hoop strain) contribution from u_i\n",
    "\n",
    "    return B\n",
    "\n",
    "# Example of calculating and printing the B matrix\n",
    "B_matrix = calculate_B()\n",
    "# You can then substitute values as needed\n",
    "B_evaluated = B_matrix.subs(physical_coords_map).subs({R: 1/3, Z: 1/3})\n",
    "sp.pprint(B_evaluated.evalf().applyfunc(lambda x: round(x, 4)))"
   ],
   "id": "3356c7d2c4a65610",
   "outputs": [
    {
     "name": "stdout",
     "output_type": "stream",
     "text": [
      "⎡-0.3333     0     0.3333    0       0      0 ⎤\n",
      "⎢                                             ⎥\n",
      "⎢   0      -0.5      0       0       0     0.5⎥\n",
      "⎢                                             ⎥\n",
      "⎢ -0.5    -0.3333    0     0.3333   0.5     0 ⎥\n",
      "⎢                                             ⎥\n",
      "⎣0.3333      0     0.3333    0     0.3333   0 ⎦\n"
     ]
    }
   ],
   "execution_count": 33
  },
  {
   "metadata": {},
   "cell_type": "markdown",
   "source": "### The constitutive matrix $\\begin{bmatrix}D\\end{bmatrix}$",
   "id": "92b687e6a3f25c2e"
  },
  {
   "metadata": {
    "ExecuteTime": {
     "end_time": "2025-07-25T16:57:14.534032Z",
     "start_time": "2025-07-25T16:57:14.527310Z"
    }
   },
   "cell_type": "code",
   "source": [
    "def D_matrix():\n",
    "    \"\"\"\n",
    "    The constitutive matrix for the axissymmetric tri element.\n",
    "    \"\"\"\n",
    "    # Plane stress condition\n",
    "    D = sp.zeros(4, 4)\n",
    "    D[0, 0] = 1 - nu\n",
    "    D[0, 1] = nu\n",
    "    D[0, 2] = nu\n",
    "    D[1, 0] = nu\n",
    "    D[1, 1] = 1 - nu\n",
    "    D[1, 2] = nu\n",
    "    D[2, 0] = nu\n",
    "    D[2, 1] = nu\n",
    "    D[2, 2] = 1 - nu\n",
    "    D[3, 3] = (1 - 2 * nu) / 2\n",
    "\n",
    "    return D"
   ],
   "id": "f885db57739e6b2f",
   "outputs": [],
   "execution_count": 20
  },
  {
   "metadata": {},
   "cell_type": "markdown",
   "source": "### Quadrature points and weights",
   "id": "4b092fdca4e40fe5"
  },
  {
   "metadata": {
    "ExecuteTime": {
     "end_time": "2025-07-25T16:57:14.575736Z",
     "start_time": "2025-07-25T16:57:14.570169Z"
    }
   },
   "cell_type": "code",
   "source": [
    "gi_data = {\n",
    "    1: {\n",
    "        'point': ((1/3, 1/3),),  # midpoint of the triangle\n",
    "        'weight': (1,)\n",
    "    },\n",
    "    3: {\n",
    "        'point': ((1/6, 1/6), (4/6, 1/6), (1/6, 4/6), ),\n",
    "        'weight': (1/3, 1/3, 1/3)\n",
    "    },\n",
    "}"
   ],
   "id": "921a4b0f9b91c935",
   "outputs": [],
   "execution_count": 21
  },
  {
   "metadata": {},
   "cell_type": "markdown",
   "source": "### The stiffness matrix $\\begin{bmatrix}K\\end{bmatrix}$",
   "id": "e0395614162b8a0e"
  },
  {
   "metadata": {
    "ExecuteTime": {
     "end_time": "2025-07-25T17:05:14.590755Z",
     "start_time": "2025-07-25T17:05:14.311351Z"
    }
   },
   "cell_type": "code",
   "source": [
    "NG = 3\n",
    "\n",
    "def K_matrix() -> np.array:\n",
    "    \"\"\"\n",
    "    Gets the stiffness matrix for the element.\n",
    "    \"\"\"\n",
    "    K_lok = sp.zeros(NNODE * ND, NNODE * ND)  # initialize the stiffness matrix\n",
    "    J = jacobian()\n",
    "    J_substituted = J.subs(physical_coords_map)\n",
    "    D = D_matrix()\n",
    "    print('The constitutive matrix D is:')\n",
    "    sp.pprint(D)\n",
    "\n",
    "    for i in range(NG):\n",
    "\n",
    "        for p, w in zip(gi_data[NG]['point'], gi_data[NG]['weight']):\n",
    "            print(f'Gauss point {i+1}: r={p[0]}, z={p[1]}, weight={w}')\n",
    "            r = p[0]\n",
    "            z = p[1]\n",
    "            w = w\n",
    "\n",
    "            # Calculate the jacobian at the gauss point\n",
    "            J_evaluated = J_substituted.subs({R: r, Z: z}).evalf()\n",
    "            det_J = J_evaluated.det()\n",
    "            print('|J| at the Gauss point:')\n",
    "            print(det_J)\n",
    "            B_element = B_matrix.subs(physical_coords_map).subs({R: r, Z: z})\n",
    "            # B_element = B_symbolic.subs(physical_coords_map)\n",
    "            B = B_element.subs({R: r, Z: z}).evalf()\n",
    "            print('B-Matrix at the Gauss point:')\n",
    "            sp.pprint(B.applyfunc(lambda x: round(x, 4)))\n",
    "\n",
    "            # Calculate the stiffness matrix contribution\n",
    "            K_contribution = B.T * D * B * det_J * w\n",
    "            K_lok += K_contribution\n",
    "            # print()\n",
    "            # print('K-Matrix contribution at {}, {}:'.format(r, z))\n",
    "            # K_con_formatted = K_contribution.applyfunc(lambda x: x.round(0))\n",
    "            # sp.pprint(K_con_formatted)\n",
    "\n",
    "    return K_lok\n",
    "\n",
    "# the full K matrix\n",
    "print()\n",
    "K_e = K_matrix()\n",
    "print('The full stiffness matrix K is:')\n",
    "sp.pprint(K_e.applyfunc(lambda x: round(x, 4)))"
   ],
   "id": "4c9fea9f9fdfec0b",
   "outputs": [
    {
     "name": "stdout",
     "output_type": "stream",
     "text": [
      "\n",
      "The constitutive matrix D is:\n",
      "⎡0.75  0.25  0.25   0  ⎤\n",
      "⎢                      ⎥\n",
      "⎢0.25  0.75  0.25   0  ⎥\n",
      "⎢                      ⎥\n",
      "⎢0.25  0.25  0.75   0  ⎥\n",
      "⎢                      ⎥\n",
      "⎣ 0     0     0    0.25⎦\n",
      "Gauss point 1: r=0.16666666666666666, z=0.16666666666666666, weight=0.3333333333333333\n",
      "|J| at the Gauss point:\n",
      "6.00000000000000\n",
      "B-Matrix at the Gauss point:\n",
      "⎡-0.3333     0     0.3333    0       0      0 ⎤\n",
      "⎢                                             ⎥\n",
      "⎢   0      -0.5      0       0       0     0.5⎥\n",
      "⎢                                             ⎥\n",
      "⎢ -0.5    -0.3333    0     0.3333   0.5     0 ⎥\n",
      "⎢                                             ⎥\n",
      "⎣1.3333      0     0.3333    0     0.3333   0 ⎦\n",
      "Gauss point 1: r=0.6666666666666666, z=0.16666666666666666, weight=0.3333333333333333\n",
      "|J| at the Gauss point:\n",
      "6.00000000000000\n",
      "B-Matrix at the Gauss point:\n",
      "⎡-0.3333     0     0.3333    0       0      0 ⎤\n",
      "⎢                                             ⎥\n",
      "⎢   0      -0.5      0       0       0     0.5⎥\n",
      "⎢                                             ⎥\n",
      "⎢ -0.5    -0.3333    0     0.3333   0.5     0 ⎥\n",
      "⎢                                             ⎥\n",
      "⎣0.0833      0     0.3333    0     0.0833   0 ⎦\n",
      "Gauss point 1: r=0.16666666666666666, z=0.6666666666666666, weight=0.3333333333333333\n",
      "|J| at the Gauss point:\n",
      "6.00000000000000\n",
      "B-Matrix at the Gauss point:\n",
      "⎡-0.3333     0     0.3333    0       0      0 ⎤\n",
      "⎢                                             ⎥\n",
      "⎢   0      -0.5      0       0       0     0.5⎥\n",
      "⎢                                             ⎥\n",
      "⎢ -0.5    -0.3333    0     0.3333   0.5     0 ⎥\n",
      "⎢                                             ⎥\n",
      "⎣0.3333      0     0.3333    0     1.3333   0 ⎦\n",
      "Gauss point 2: r=0.16666666666666666, z=0.16666666666666666, weight=0.3333333333333333\n",
      "|J| at the Gauss point:\n",
      "6.00000000000000\n",
      "B-Matrix at the Gauss point:\n",
      "⎡-0.3333     0     0.3333    0       0      0 ⎤\n",
      "⎢                                             ⎥\n",
      "⎢   0      -0.5      0       0       0     0.5⎥\n",
      "⎢                                             ⎥\n",
      "⎢ -0.5    -0.3333    0     0.3333   0.5     0 ⎥\n",
      "⎢                                             ⎥\n",
      "⎣1.3333      0     0.3333    0     0.3333   0 ⎦\n",
      "Gauss point 2: r=0.6666666666666666, z=0.16666666666666666, weight=0.3333333333333333\n",
      "|J| at the Gauss point:\n",
      "6.00000000000000\n",
      "B-Matrix at the Gauss point:\n",
      "⎡-0.3333     0     0.3333    0       0      0 ⎤\n",
      "⎢                                             ⎥\n",
      "⎢   0      -0.5      0       0       0     0.5⎥\n",
      "⎢                                             ⎥\n",
      "⎢ -0.5    -0.3333    0     0.3333   0.5     0 ⎥\n",
      "⎢                                             ⎥\n",
      "⎣0.0833      0     0.3333    0     0.0833   0 ⎦\n",
      "Gauss point 2: r=0.16666666666666666, z=0.6666666666666666, weight=0.3333333333333333\n",
      "|J| at the Gauss point:\n",
      "6.00000000000000\n",
      "B-Matrix at the Gauss point:\n",
      "⎡-0.3333     0     0.3333    0       0      0 ⎤\n",
      "⎢                                             ⎥\n",
      "⎢   0      -0.5      0       0       0     0.5⎥\n",
      "⎢                                             ⎥\n",
      "⎢ -0.5    -0.3333    0     0.3333   0.5     0 ⎥\n",
      "⎢                                             ⎥\n",
      "⎣0.3333      0     0.3333    0     1.3333   0 ⎦\n",
      "Gauss point 3: r=0.16666666666666666, z=0.16666666666666666, weight=0.3333333333333333\n",
      "|J| at the Gauss point:\n",
      "6.00000000000000\n",
      "B-Matrix at the Gauss point:\n",
      "⎡-0.3333     0     0.3333    0       0      0 ⎤\n",
      "⎢                                             ⎥\n",
      "⎢   0      -0.5      0       0       0     0.5⎥\n",
      "⎢                                             ⎥\n",
      "⎢ -0.5    -0.3333    0     0.3333   0.5     0 ⎥\n",
      "⎢                                             ⎥\n",
      "⎣1.3333      0     0.3333    0     0.3333   0 ⎦\n",
      "Gauss point 3: r=0.6666666666666666, z=0.16666666666666666, weight=0.3333333333333333\n",
      "|J| at the Gauss point:\n",
      "6.00000000000000\n",
      "B-Matrix at the Gauss point:\n",
      "⎡-0.3333     0     0.3333    0       0      0 ⎤\n",
      "⎢                                             ⎥\n",
      "⎢   0      -0.5      0       0       0     0.5⎥\n",
      "⎢                                             ⎥\n",
      "⎢ -0.5    -0.3333    0     0.3333   0.5     0 ⎥\n",
      "⎢                                             ⎥\n",
      "⎣0.0833      0     0.3333    0     0.0833   0 ⎦\n",
      "Gauss point 3: r=0.16666666666666666, z=0.6666666666666666, weight=0.3333333333333333\n",
      "|J| at the Gauss point:\n",
      "6.00000000000000\n",
      "B-Matrix at the Gauss point:\n",
      "⎡-0.3333     0     0.3333    0       0      0 ⎤\n",
      "⎢                                             ⎥\n",
      "⎢   0      -0.5      0       0       0     0.5⎥\n",
      "⎢                                             ⎥\n",
      "⎢ -0.5    -0.3333    0     0.3333   0.5     0 ⎥\n",
      "⎢                                             ⎥\n",
      "⎣0.3333      0     0.3333    0     1.3333   0 ⎦\n",
      "The full stiffness matrix K is:\n",
      "⎡9.2188   4.625   -1.375  -2.75  -2.7812  -1.875⎤\n",
      "⎢                                               ⎥\n",
      "⎢ 4.625   6.375   -1.25   -2.25  -3.375   -4.125⎥\n",
      "⎢                                               ⎥\n",
      "⎢-1.375   -1.25    2.0     0.5    1.625    0.75 ⎥\n",
      "⎢                                               ⎥\n",
      "⎢ -2.75   -2.25    0.5     1.5    2.25     0.75 ⎥\n",
      "⎢                                               ⎥\n",
      "⎢-2.7812  -3.375  1.625   2.25   6.2188   1.125 ⎥\n",
      "⎢                                               ⎥\n",
      "⎣-1.875   -4.125   0.75   0.75    1.125   3.375 ⎦\n"
     ]
    }
   ],
   "execution_count": 34
  },
  {
   "metadata": {
    "ExecuteTime": {
     "end_time": "2025-07-25T17:03:45.427098Z",
     "start_time": "2025-07-25T17:03:45.418077Z"
    }
   },
   "cell_type": "code",
   "source": [
    "# the stiffness matrix as a numpy array\n",
    "K_np = np.array(K_e).astype(np.float64)\n",
    "\n",
    "# the eigenvalues\n",
    "eigenvalues, eigenvectors = np.linalg.eigh(K_np)\n",
    "print()\n",
    "print('The eigenvalues of the stiffness matrix K are:')\n",
    "eigenvalues = sorted([float(x) for x in eigenvalues])\n",
    "\n",
    "print([round(ev, 5) for ev in eigenvalues])\n",
    "# print(eigenvectors.shape)\n",
    "# sp.pprint(eigenvectors)\n",
    "\n",
    "# the eigenvectors for the near-zero eigenvalues\n",
    "nearzero_eigenvalues = [ev for ev in eigenvalues if abs(ev) < 1e-10]\n",
    "# printing the eigenvectors for the near-zero eigenvalues\n",
    "print('The eigenvectors for the near-zero eigenvalues are:')\n",
    "for i, ev in enumerate(nearzero_eigenvalues):\n",
    "    print(f'Eigenvalue {i + 1}: {ev:.6f}')\n",
    "    print('Eigenvector:')\n",
    "    print(eigenvectors[:, i])\n",
    "    print()"
   ],
   "id": "f13713eec57d9710",
   "outputs": [
    {
     "name": "stdout",
     "output_type": "stream",
     "text": [
      "\n",
      "The eigenvalues of the stiffness matrix K are:\n",
      "[-0.0, 0.3007, 1.55268, 4.3656, 4.79602, 17.67251]\n",
      "The eigenvectors for the near-zero eigenvalues are:\n",
      "Eigenvalue 1: -0.000000\n",
      "Eigenvector:\n",
      "[-8.07413591e-18  5.77350269e-01 -6.93889390e-17  5.77350269e-01\n",
      "  2.49800181e-16  5.77350269e-01]\n",
      "\n"
     ]
    }
   ],
   "execution_count": 31
  }
 ],
 "metadata": {
  "kernelspec": {
   "display_name": "Python 3",
   "language": "python",
   "name": "python3"
  },
  "language_info": {
   "codemirror_mode": {
    "name": "ipython",
    "version": 2
   },
   "file_extension": ".py",
   "mimetype": "text/x-python",
   "name": "python",
   "nbconvert_exporter": "python",
   "pygments_lexer": "ipython2",
   "version": "2.7.6"
  }
 },
 "nbformat": 4,
 "nbformat_minor": 5
}
