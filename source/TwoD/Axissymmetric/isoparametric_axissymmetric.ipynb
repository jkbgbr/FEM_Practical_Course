{
 "cells": [
  {
   "metadata": {},
   "cell_type": "markdown",
   "source": [
    "### Chapter 9: 2D axissymmetric isoparametric tri element\n",
    "\n",
    "Additionally: Dr. Szekrényes András, Chapter 13 for the quadratic element."
   ],
   "id": "b51ca543c8634a14"
  },
  {
   "cell_type": "code",
   "id": "initial_id",
   "metadata": {
    "collapsed": true,
    "ExecuteTime": {
     "end_time": "2025-08-02T20:33:55.808691Z",
     "start_time": "2025-08-02T20:33:55.801435Z"
    }
   },
   "source": [
    "import numpy as np\n",
    "import sympy as sp\n",
    "sp.init_printing()"
   ],
   "outputs": [],
   "execution_count": 37
  },
  {
   "metadata": {},
   "cell_type": "markdown",
   "source": [
    "### The 2D axissymmetric tri element\n",
    "\n",
    "This is a triangular element with nodes: i, j, m.\n",
    "\n",
    "Coordinates are: r, z for radial and vertical directions, respectively.\n",
    "\n",
    "Each node hat 2 degrees of freedom (DOFs):\n",
    "- u: radial displacement\n",
    "- w: vertical displacement\n",
    "\n",
    "The DOFs are ordered as follows: u, w."
   ],
   "id": "8de4a38b336b3eb7"
  },
  {
   "metadata": {},
   "cell_type": "markdown",
   "source": "### The physical properties of the element",
   "id": "dae5b76f1896b4e3"
  },
  {
   "metadata": {
    "ExecuteTime": {
     "end_time": "2025-08-02T20:33:55.857156Z",
     "start_time": "2025-08-02T20:33:55.851578Z"
    }
   },
   "cell_type": "code",
   "source": [
    "ND = 2  # number of degrees of freedom per node\n",
    "NNODE = 3  # number of nodes\n",
    "if NNODE == 3:  # 3-node triangular element\n",
    "    NGS = [1, 3]  # number of Gauss points, can be 1, 3\n",
    "elif NNODE == 4:  # 4-node quadrilateral isoparametric element\n",
    "    NGS = [1, 4]  # number of Gauss points, can be 1, 2, 3, 4, 5, or 6\n",
    "else:\n",
    "    raise ValueError(\"Unsupported number of nodes. Only 3 or 4 nodes are supported\")\n"
   ],
   "id": "22782e538a273616",
   "outputs": [],
   "execution_count": 38
  },
  {
   "metadata": {
    "ExecuteTime": {
     "end_time": "2025-08-02T20:33:55.920816Z",
     "start_time": "2025-08-02T20:33:55.905071Z"
    }
   },
   "cell_type": "code",
   "source": [
    "\n",
    "### The physical properties of the element\n",
    "E = 200e9  # Young's modulus in Pa\n",
    "nu = 0.3  # Poisson's ratio\n",
    "\n",
    "# Define symbolic physical coordinates\n",
    "r1, z1, r2, z2, r3, z3, r4, z4 = sp.symbols('r1 z1 r2 z2 r3 z3 r4 z4')\n",
    "\n",
    "# Define symbolic variables. Capital letters R, Z are the symbols for the variables r, z\n",
    "R, Z = sp.symbols('R Z')  # radial and vertical coordinates\n",
    "\n",
    "if NNODE == 3:\n",
    "    # Example coordinates for the nodes\n",
    "    # physical_coords = {'P1': (0, 0),\n",
    "    #                    'P2': (1, 0),\n",
    "    #                    'P3': (0, 1)}  # example coordinates for the nodes\n",
    "\n",
    "    # Example 13.3 from the Szekrényes-book\n",
    "    physical_coords = {'P1': (3, 0),\n",
    "                       'P2': (4, 0),\n",
    "                       'P3': (3, 1)}  # example coordinates for the nodes\n",
    "    # physical_coords = {'P1': (0, 0),\n",
    "    #                    'P2': (3, 0),\n",
    "    #                    'P3': (0, 2)}  # example coordinates for the nodes\n",
    "\n",
    "    midpoint = (physical_coords['P1'][0] + physical_coords['P2'][0] + physical_coords['P3'][0]) / 3, \\\n",
    "                (physical_coords['P1'][1] + physical_coords['P2'][1] + physical_coords['P3'][1]) / 3\n",
    "\n",
    "    physical_coords_map = {'r1': physical_coords['P1'][0], 'z1': physical_coords['P1'][1],\n",
    "                           'r2': physical_coords['P2'][0], 'z2': physical_coords['P2'][1],\n",
    "                           'r3': physical_coords['P3'][0], 'z3': physical_coords['P3'][1]}\n",
    "    # Define the physical nodes as a matrix so it can be used a symbolic evaluation\n",
    "    physical_nodes = sp.Matrix([[r1, z1],\n",
    "                                [r2, z2],\n",
    "                                [r3, z3]])\n",
    "\n",
    "\n",
    "elif NNODE == 4:\n",
    "    # Example coordin\n",
    "    # physical_coords = {'P1': (0.02, 0),\n",
    "    #                    'P2': (0.11, 0),\n",
    "    #                    'P3': (0.11, 0.04),\n",
    "    #                    'P4': (0.02, 0.04),\n",
    "    #                    }  # example coordinates for the nodesates for the nodes\n",
    "    physical_coords = {'P1': (0.11, 0),\n",
    "                       'P2': (0.20, 0),\n",
    "                       'P3': (0.20, 0.04),\n",
    "                       'P4': (0.11, 0.04),\n",
    "                       }  # example coordinates for the nodesates for the nodes\n",
    "\n",
    "    midpoint = (physical_coords['P1'][0] + physical_coords['P2'][0] + physical_coords['P3'][0] + physical_coords['P4'][0]) / 4, \\\n",
    "                (physical_coords['P1'][1] + physical_coords['P2'][1] + physical_coords['P3'][1] + physical_coords['P4'][1]) / 4\n",
    "\n",
    "    physical_coords_map = {'r1': physical_coords['P1'][0], 'z1': physical_coords['P1'][1],\n",
    "                           'r2': physical_coords['P2'][0], 'z2': physical_coords['P2'][1],\n",
    "                           'r3': physical_coords['P3'][0], 'z3': physical_coords['P3'][1],\n",
    "                           'r4': physical_coords['P4'][0], 'z4': physical_coords['P4'][1]\n",
    "                           }\n",
    "    # Define the physical nodes as a matrix so it can be used a symbolic evaluation\n",
    "    physical_nodes = sp.Matrix([[r1, z1],\n",
    "                                [r2, z2],\n",
    "                                [r3, z3],\n",
    "                                [r4, z4],\n",
    "                                ])\n",
    "\n",
    "\n",
    "else:\n",
    "    raise ValueError(\"Unsupported number of nodes. Only 3 or 4 nodes are supported\")"
   ],
   "id": "643385d13f951946",
   "outputs": [],
   "execution_count": 39
  },
  {
   "metadata": {},
   "cell_type": "markdown",
   "source": "### The isoparametric part",
   "id": "e7ce70efa987ef5f"
  },
  {
   "metadata": {
    "ExecuteTime": {
     "end_time": "2025-08-02T20:33:55.971432Z",
     "start_time": "2025-08-02T20:33:55.965392Z"
    }
   },
   "cell_type": "code",
   "source": [
    "# coordinates of the nodes in the element\n",
    "n1 = np.array([0, 0])  # node 1 coordinates\n",
    "n2 = np.array([1, 0])   # node 2 coordinates\n",
    "n3 = np.array([0, 1])    # node 3 coordinates\n",
    "n4 = np.array([1, 1])    # node 4 coordinates\n",
    "if NNODE == 3:\n",
    "    natural_nodes = np.array([n1, n2, n3])  # all nodes\n",
    "elif NNODE == 4:\n",
    "    natural_nodes = np.array([n1, n2, n3, n4])  # all nodes"
   ],
   "id": "7cdadabf1b8538b3",
   "outputs": [],
   "execution_count": 40
  },
  {
   "metadata": {},
   "cell_type": "markdown",
   "source": "### Shape functions and their derivatives",
   "id": "58175b435a241e05"
  },
  {
   "metadata": {
    "ExecuteTime": {
     "end_time": "2025-08-02T20:33:56.048917Z",
     "start_time": "2025-08-02T20:33:56.024959Z"
    }
   },
   "cell_type": "code",
   "source": [
    "# Define the shape functions symbolically\n",
    "def shape_functions() -> sp.Matrix:\n",
    "    \"\"\"shape functions\"\"\"\n",
    "\n",
    "    if NNODE == 3:  # non-isoparametric triangular element\n",
    "        return sp.Matrix([\n",
    "            1 - R - Z,\n",
    "            R,\n",
    "            Z,\n",
    "        ])\n",
    "    elif NNODE == 4:  # isoparametric quadrilateral element\n",
    "        return sp.Matrix([\n",
    "            0.25 * (1 - R) * (1 - Z),\n",
    "            0.25 * (1 + R) * (1 - Z),\n",
    "            0.25 * (1 + R) * (1 + Z),\n",
    "            0.25 * (1 - R) * (1 + Z),\n",
    "        ])\n",
    "    else:\n",
    "        raise ValueError(\"Unsupported number of nodes. Only 3 or 4 nodes are supported\")\n",
    "\n",
    "def isoparametric_mapping() -> np.array:\n",
    "    \"\"\"\n",
    "    Isoparametric mapping natural -> physical coordinates.\n",
    "\n",
    "    :return: functions returning the physical coordinates\n",
    "    \"\"\"\n",
    "\n",
    "    sh = shape_functions()  # shape functions with substituted values\n",
    "    return sp.Matrix([sp.Matrix(sh).dot(physical_nodes[:, 0]), sp.Matrix(sh).dot(physical_nodes[:, 1])])\n",
    "\n",
    "# Calculate the derivatives by s and t, symbolically\n",
    "def shape_function_derivatives() -> np.array:\n",
    "    \"\"\"\n",
    "    Shape function derivatives.\n",
    "    [0] = dNi/ds, [1] = dNi/dt\n",
    "    \"\"\"\n",
    "    sh = shape_functions()  # N1, N2, N3, N4\n",
    "    dN_ds = []\n",
    "    dN_dt = []\n",
    "\n",
    "    for i in range(len(sh)):\n",
    "        dN_ds.append(sp.diff(sh[i], R))\n",
    "        dN_dt.append(sp.diff(sh[i], Z))\n",
    "\n",
    "    return dN_ds, dN_dt\n",
    "\n",
    "print()\n",
    "print('The shape functions are:')\n",
    "print(shape_functions())\n",
    "print()\n",
    "print('The derivatives are:')\n",
    "derivatives = shape_function_derivatives()\n",
    "for i, dN in enumerate(derivatives[0]):\n",
    "    print(f'dN{i+1}/ds = {dN}')\n",
    "for i, dN in enumerate(derivatives[1]):\n",
    "    print(f'dN{i+1}/dt = {dN}')\n",
    "\n",
    "print()\n",
    "print('The isoparametric mapping is:')\n",
    "x_map = isoparametric_mapping()[0]\n",
    "y_map = isoparametric_mapping()[1]\n",
    "print(f'x = {x_map}')\n",
    "print(f'y = {y_map}')\n",
    "\n",
    "# Substitute the symbolic coordinates with numerical values\n",
    "st_values = {\n",
    "    R: 0.3333,  # example value for s\n",
    "    Z: 0.3333,  # example value for t\n",
    "}\n",
    "print()\n",
    "print('The isoparametric mapping with coordinate values substituted is:')\n",
    "x_map_substituted = x_map.subs(st_values)\n",
    "y_map_substituted = y_map.subs(st_values)\n",
    "print(f'x = {x_map_substituted}')\n",
    "print(f'y = {y_map_substituted}')\n",
    "\n",
    "print()\n",
    "print('The derivatives of the shape functions by s are:')\n",
    "print(derivatives[0])  # derivatives by s\n",
    "\n",
    "print()\n",
    "print('The derivatives of the shape functions by t are:')\n",
    "print(derivatives[1])  # derivatives by t\n"
   ],
   "id": "b185aa43f24d0b8d",
   "outputs": [
    {
     "name": "stdout",
     "output_type": "stream",
     "text": [
      "\n",
      "The shape functions are:\n",
      "Matrix([[-R - Z + 1], [R], [Z]])\n",
      "\n",
      "The derivatives are:\n",
      "dN1/ds = -1\n",
      "dN2/ds = 1\n",
      "dN3/ds = 0\n",
      "dN1/dt = -1\n",
      "dN2/dt = 0\n",
      "dN3/dt = 1\n",
      "\n",
      "The isoparametric mapping is:\n",
      "x = R*r2 + Z*r3 + r1*(-R - Z + 1)\n",
      "y = R*z2 + Z*z3 + z1*(-R - Z + 1)\n",
      "\n",
      "The isoparametric mapping with coordinate values substituted is:\n",
      "x = 0.3334*r1 + 0.3333*r2 + 0.3333*r3\n",
      "y = 0.3334*z1 + 0.3333*z2 + 0.3333*z3\n",
      "\n",
      "The derivatives of the shape functions by s are:\n",
      "[-1, 1, 0]\n",
      "\n",
      "The derivatives of the shape functions by t are:\n",
      "[-1, 0, 1]\n"
     ]
    }
   ],
   "execution_count": 41
  },
  {
   "metadata": {},
   "cell_type": "markdown",
   "source": [
    "### The shape function matrix\n",
    "\n",
    "The shape function matrix $N$ is a matrix that contains the shape functions for each node. It has the structure:\n",
    "$$\n",
    "N = \\begin{bmatrix}\n",
    "N_i & 0 & N_j & 0 & N_m & 0 \\\\\n",
    "0 & N_i & 0 & N_j & 0 & N_m & ...\\\\\n",
    "\\end{bmatrix}\n",
    "$$"
   ],
   "id": "baf2fddd2567b4a3"
  },
  {
   "metadata": {
    "ExecuteTime": {
     "end_time": "2025-08-02T20:33:56.120509Z",
     "start_time": "2025-08-02T20:33:56.095070Z"
    }
   },
   "cell_type": "code",
   "source": [
    "def N_matrix() -> np.array:\n",
    "    \"\"\"\n",
    "    shape function matrix N.\n",
    "    It has the structure:\n",
    "    [[Ni, 0, Nj, 0, Nm, 0],\n",
    "     [0, Ni, 0, Nj, 0, Nm]]\n",
    "\n",
    "    \"\"\"\n",
    "    _N = shape_functions()  # the shape functions\n",
    "\n",
    "    # preparing the return matrix\n",
    "    _ret = sp.Matrix(ND, ND * NNODE, lambda i, j: 0)  # ND rows, ND * NNODE columns\n",
    "\n",
    "    # filling the matrix\n",
    "    for i in range(NNODE):\n",
    "        for j in range(ND):\n",
    "            _ret[j, j + ND * i] = _N[i]\n",
    "\n",
    "    return _ret\n",
    "\n",
    "_N = N_matrix()\n",
    "print(\"The shape function matrix N is {}:\".format(_N.shape))\n",
    "print()\n",
    "print('The shape function matrix N for this element:')\n",
    "_N_e = _N.subs(physical_coords_map)\n",
    "sp.pprint(_N_e)\n",
    "\n",
    "print('\\nThe shape function matrix N for this element at node 1:')\n",
    "_N_e_node1 = _N_e.subs({'R': midpoint[0], 'Z': midpoint[1]})\n",
    "sp.pprint(_N_e_node1.applyfunc(lambda x: x.round(4)))\n",
    "\n",
    "\n"
   ],
   "id": "ada090517e97afee",
   "outputs": [
    {
     "name": "stdout",
     "output_type": "stream",
     "text": [
      "The shape function matrix N is (2, 6):\n",
      "\n",
      "The shape function matrix N for this element:\n",
      "⎡-R - Z + 1      0       R  0  Z  0⎤\n",
      "⎢                                  ⎥\n",
      "⎣    0       -R - Z + 1  0  R  0  Z⎦\n",
      "\n",
      "The shape function matrix N for this element at node 1:\n",
      "⎡-2.6667     0     3.3333    0     0.3333    0   ⎤\n",
      "⎢                                                ⎥\n",
      "⎣   0     -2.6667    0     3.3333    0     0.3333⎦\n"
     ]
    }
   ],
   "execution_count": 42
  },
  {
   "metadata": {},
   "cell_type": "markdown",
   "source": "### Jacobian matrix",
   "id": "3ae4dc90c80bc3cb"
  },
  {
   "metadata": {
    "ExecuteTime": {
     "end_time": "2025-08-02T20:33:56.186061Z",
     "start_time": "2025-08-02T20:33:56.166454Z"
    }
   },
   "cell_type": "code",
   "source": [
    "def jacobian() -> sp.Matrix:\n",
    "    \"\"\"\n",
    "    Calculate the jacobian matrix for the isoparametric mapping.\n",
    "    \"\"\"\n",
    "    # The isoparametric mapping functions r(R,Z) and z(R,Z)\n",
    "    mapping = isoparametric_mapping()\n",
    "    r_map = mapping[0]\n",
    "    z_map = mapping[1]\n",
    "\n",
    "    # Calculate the derivatives\n",
    "    dr_dR = sp.diff(r_map, R)\n",
    "    dr_dZ = sp.diff(r_map, Z)\n",
    "    dz_dR = sp.diff(z_map, R)\n",
    "    dz_dZ = sp.diff(z_map, Z)\n",
    "\n",
    "    return sp.Matrix([[dr_dR, dr_dZ],\n",
    "                      [dz_dR, dz_dZ]])\n",
    "\n",
    "# Calculate the jacobian matrix symbolically\n",
    "J = jacobian()\n",
    "\n",
    "# Substitute the symbolic coordinates with numerical values in the Jacobian\n",
    "J_element = J.subs(physical_coords_map)\n",
    "\n",
    "print('The jacobian matrix with coordinate values substituted is:')\n",
    "sp.pprint(J_element)\n",
    "print()\n",
    "\n",
    "# Evaluate the jacobian matrix at some points\n",
    "for r_eval in [0, 0.3333]:\n",
    "    for z_eval in [0, 0.3333]:\n",
    "        J_evaluated = J_element.subs({R: r_eval, Z: z_eval})\n",
    "        print(f'Jacobian matrix at r={r_eval}, z={z_eval}:')\n",
    "        sp.pprint(J_evaluated)\n",
    "        print(f'The determinant at this point is |J|={J_evaluated.det():.2f}')\n",
    "        print()"
   ],
   "id": "234cd282ee60e02e",
   "outputs": [
    {
     "name": "stdout",
     "output_type": "stream",
     "text": [
      "The jacobian matrix with coordinate values substituted is:\n",
      "⎡1  0⎤\n",
      "⎢    ⎥\n",
      "⎣0  1⎦\n",
      "\n",
      "Jacobian matrix at r=0, z=0:\n",
      "⎡1  0⎤\n",
      "⎢    ⎥\n",
      "⎣0  1⎦\n",
      "The determinant at this point is |J|=1.00\n",
      "\n",
      "Jacobian matrix at r=0, z=0.3333:\n",
      "⎡1  0⎤\n",
      "⎢    ⎥\n",
      "⎣0  1⎦\n",
      "The determinant at this point is |J|=1.00\n",
      "\n",
      "Jacobian matrix at r=0.3333, z=0:\n",
      "⎡1  0⎤\n",
      "⎢    ⎥\n",
      "⎣0  1⎦\n",
      "The determinant at this point is |J|=1.00\n",
      "\n",
      "Jacobian matrix at r=0.3333, z=0.3333:\n",
      "⎡1  0⎤\n",
      "⎢    ⎥\n",
      "⎣0  1⎦\n",
      "The determinant at this point is |J|=1.00\n",
      "\n"
     ]
    }
   ],
   "execution_count": 43
  },
  {
   "metadata": {},
   "cell_type": "markdown",
   "source": "### The $\\begin{bmatrix}B\\end{bmatrix}$ matrix",
   "id": "db47ae9de1cb6730"
  },
  {
   "metadata": {
    "ExecuteTime": {
     "end_time": "2025-08-02T20:33:56.264490Z",
     "start_time": "2025-08-02T20:33:56.233167Z"
    }
   },
   "cell_type": "code",
   "source": [
    "def calculate_B():\n",
    "    \"\"\"\n",
    "    Calculates the complete BA-matrix for the element.\n",
    "    B relates the strain vector [ε_r, ε_θ, ε_z, γ_zr] to the nodal displacement vector.\n",
    "    \"\"\"\n",
    "    J_symbolic = jacobian()\n",
    "    J_det_symbolic = J_symbolic.det()\n",
    "\n",
    "    dNdr, dNdz = shape_function_derivatives()  # dN(i)/dr, dN(i)/dz\n",
    "\n",
    "    B = sp.zeros(4, NNODE * ND)  # B matrix with 4 rows and NNODE * ND columns\n",
    "\n",
    "    r_iso = isoparametric_mapping()[0]\n",
    "\n",
    "    N_funcs = shape_functions()\n",
    "\n",
    "    for i in range(NNODE):\n",
    "\n",
    "        # ∂Nᵢ/∂r = (1/|J|) * [ (∂z/∂Z * ∂Nᵢ/∂R) - (∂r/∂Z * ∂Nᵢ/∂Z) ]\n",
    "        dNi_dr = (1/J_det_symbolic) * (sp.diff(y_map, Z) * dNdr[i] - sp.diff(x_map, Z) * dNdz[i])\n",
    "\n",
    "        # ∂Nᵢ/∂z = (1/|J|) * [ (∂r/∂R * ∂Nᵢ/∂Z) - (∂z/∂R * ∂Nᵢ/∂R) ]\n",
    "        dNi_dz = (1/J_det_symbolic) * (sp.diff(x_map, R) * dNdz[i] - sp.diff(y_map, R) * dNdr[i])\n",
    "\n",
    "        B[0, ND*i] = dNi_dr\n",
    "        B[1, ND*i] = N_funcs[i] / r_iso\n",
    "        B[2, ND*i+1] = dNi_dz\n",
    "        B[3, ND*i] = dNi_dz\n",
    "        B[3, ND*i+1] = dNi_dr\n",
    "\n",
    "    return B\n",
    "\n",
    "# Example of calculating and printing the B matrix\n",
    "B_matrix = calculate_B()\n",
    "B_element = B_matrix.subs(physical_coords_map)\n",
    "# You can then substitute values as needed\n",
    "B_evaluated = B_element.subs({R: 1/3, Z: 1/3})\n",
    "sp.pprint(B_evaluated.evalf().applyfunc(lambda x: round(x, 3)))"
   ],
   "id": "3356c7d2c4a65610",
   "outputs": [
    {
     "name": "stdout",
     "output_type": "stream",
     "text": [
      "⎡-1.0   0    1.0   0    0    0 ⎤\n",
      "⎢                              ⎥\n",
      "⎢0.1    0    0.1   0   0.1   0 ⎥\n",
      "⎢                              ⎥\n",
      "⎢ 0    -1.0   0    0    0   1.0⎥\n",
      "⎢                              ⎥\n",
      "⎣-1.0  -1.0   0   1.0  1.0   0 ⎦\n"
     ]
    }
   ],
   "execution_count": 44
  },
  {
   "metadata": {},
   "cell_type": "markdown",
   "source": [
    "### The constitutive matrix $\\begin{bmatrix}D\\end{bmatrix}$\n",
    "\n",
    "The constitutive matrix relates the stress vector to the strain vector. For plane stress conditions, it is given by:\n",
    "$$\n",
    "\\begin{bmatrix}D\\end{bmatrix} = \\frac{E}{(1 - 2\\nu)(1 + \\nu)} \\begin{bmatrix}\n",
    "1 - \\nu & \\nu & \\nu & 0 \\\\\n",
    "\\nu & 1 - \\nu & \\nu & 0 \\\\\n",
    "\\nu & \\nu & 1 - \\nu & 0 \\\\\n",
    "0 & 0 & 0 & \\frac{1 - 2\\nu}{2\n",
    "}\n",
    "\\end{bmatrix}\n",
    "$$\n"
   ],
   "id": "92b687e6a3f25c2e"
  },
  {
   "metadata": {
    "ExecuteTime": {
     "end_time": "2025-08-02T20:33:56.329842Z",
     "start_time": "2025-08-02T20:33:56.307246Z"
    }
   },
   "cell_type": "code",
   "source": [
    "def D_matrix():\n",
    "    \"\"\"\n",
    "    The constitutive matrix for the axissymmetric tri element.\n",
    "    \"\"\"\n",
    "    # Plane stress condition\n",
    "    D = sp.zeros(4, 4)\n",
    "    D[0, 0] = 1 - nu\n",
    "    D[0, 1] = nu\n",
    "    D[0, 2] = nu\n",
    "\n",
    "    D[1, 0] = nu\n",
    "    D[1, 1] = 1 - nu\n",
    "    D[1, 2] = nu\n",
    "\n",
    "    D[2, 0] = nu\n",
    "    D[2, 1] = nu\n",
    "    D[2, 2] = 1 - nu\n",
    "\n",
    "    D[3, 3] = (1 - 2 * nu) / 2\n",
    "\n",
    "    D *= E / ((1 - 2 * nu) * (1 + nu))\n",
    "\n",
    "    return D\n",
    "\n",
    "D = D_matrix()\n",
    "sp.pprint(D.applyfunc(lambda x: round(x/1e9, 2)))\n",
    "print(D.T == D)"
   ],
   "id": "f885db57739e6b2f",
   "outputs": [
    {
     "name": "stdout",
     "output_type": "stream",
     "text": [
      "⎡269.23  115.38  115.38    0  ⎤\n",
      "⎢                             ⎥\n",
      "⎢115.38  269.23  115.38    0  ⎥\n",
      "⎢                             ⎥\n",
      "⎢115.38  115.38  269.23    0  ⎥\n",
      "⎢                             ⎥\n",
      "⎣  0       0       0     76.92⎦\n",
      "True\n"
     ]
    }
   ],
   "execution_count": 45
  },
  {
   "metadata": {},
   "cell_type": "markdown",
   "source": "### Quadrature points and weights",
   "id": "4b092fdca4e40fe5"
  },
  {
   "metadata": {
    "ExecuteTime": {
     "end_time": "2025-08-02T20:33:56.379421Z",
     "start_time": "2025-08-02T20:33:56.369260Z"
    }
   },
   "cell_type": "code",
   "source": [
    "if NNODE == 3:\n",
    "    gi_data = {\n",
    "        1: {\n",
    "            'point': ((1/3, 1/3),),  # midpoint of the triangle\n",
    "            'weight': (1,)\n",
    "        },\n",
    "        3: {\n",
    "            'point': ((1/6, 1/6), (4/6, 1/6), (1/6, 4/6), ),\n",
    "            'weight': (1/3, 1/3, 1/3)\n",
    "        },\n",
    "    }\n",
    "elif NNODE == 4:\n",
    "    gi_data = {\n",
    "        1: {\n",
    "            'point': [0],\n",
    "            'weight': [2]\n",
    "        },\n",
    "        2: {\n",
    "            # 'point': [-1 / np.sqrt(3), 1 / np.sqrt(3)],\n",
    "            'point': [-0.5774, 0.5774],\n",
    "            'weight': [1, 1]\n",
    "        },\n",
    "        3: {\n",
    "            # 'point': [-np.sqrt(3 / 5), 0, np.sqrt(3 / 5)],\n",
    "            'point': [-0.7745966, 0, 0.7745966],\n",
    "            'weight': [5 / 9,  8 / 9, 5 / 9]\n",
    "        },\n",
    "        4: {\n",
    "            'point': [-0.861136, -0.339981, 0.339981, 0.861136],\n",
    "            'weight': [0.347855, 0.652145, 0.652145, 0.347855]\n",
    "        },\n",
    "        5: {\n",
    "            'point': [-0.906180, -0.538469, 0, 0.906180, 0.538469],\n",
    "            'weight': [0.236927, 0.478629, 0.568889, 0.478629, 0.236927]\n",
    "        },\n",
    "        6: {\n",
    "            'point': [-0.932469, -0.661209, -0.238619, 0.238619, 0.661209, 0.932469],\n",
    "            'weight': [0.171324, 0.360761, 0.467914, 0.467914, 0.360761, 0.171324]\n",
    "        }\n",
    "    }\n",
    "else:\n",
    "    raise ValueError(\"Unsupported number of nodes. Only 3 or 4 nodes are supported\")"
   ],
   "id": "921a4b0f9b91c935",
   "outputs": [],
   "execution_count": 46
  },
  {
   "metadata": {},
   "cell_type": "markdown",
   "source": "### The stiffness matrix $\\begin{bmatrix}K\\end{bmatrix}$",
   "id": "e0395614162b8a0e"
  },
  {
   "metadata": {
    "ExecuteTime": {
     "end_time": "2025-08-02T20:33:56.464581Z",
     "start_time": "2025-08-02T20:33:56.421199Z"
    }
   },
   "cell_type": "code",
   "source": [
    "\n",
    "def K_matrix(ng) -> np.array:\n",
    "    \"\"\"\n",
    "    Gets the stiffness matrix for the element.\n",
    "    \"\"\"\n",
    "    K_lok = sp.zeros(NNODE * ND, NNODE * ND)  # initialize the stiffness matrix\n",
    "    J = jacobian()\n",
    "    # J_substituted = J.subs(physical_coords_map)\n",
    "    D = D_matrix()\n",
    "    r_iso = isoparametric_mapping()[0]  # r(R, Z) mapping\n",
    "\n",
    "    if NNODE == 3:\n",
    "        for p, w in zip(gi_data[ng]['point'], gi_data[ng]['weight']):\n",
    "            r_gp, z_gp = p[0], p[1]  # Gauss point in natural coords\n",
    "\n",
    "            # Evaluate B, det(J), and r at the Gauss point\n",
    "            B_evaluated = B_element.subs({R: r_gp, Z: z_gp}).evalf()\n",
    "            J_evaluated = J_element.subs({R: r_gp, Z: z_gp}).evalf()\n",
    "            det_J = J_evaluated.det()\n",
    "            r_physical_at_gp = r_iso.subs(physical_coords_map).subs({R: r_gp, Z: z_gp}).evalf()\n",
    "\n",
    "            # Calculate the stiffness matrix contribution with the 2*pi*r term\n",
    "            K_contribution = 2 * sp.pi * B_evaluated.T * D * B_evaluated * r_physical_at_gp * det_J * w\n",
    "            K_lok += K_contribution\n",
    "\n",
    "    elif NNODE == 4:\n",
    "\n",
    "        for i in range(ng):\n",
    "            for j in range(ng):\n",
    "                s = gi_data[ng]['point'][i]\n",
    "                t = gi_data[ng]['point'][j]\n",
    "                w = gi_data[ng]['weight'][i] * gi_data[ng]['weight'][j]\n",
    "\n",
    "                # Calculate the jacobian at the gauss point\n",
    "                J_evaluated = J_element.subs({R: s, Z: t}).evalf()\n",
    "                det_J = J_evaluated.det()\n",
    "                r_physical_at_gp = r_iso.subs(physical_coords_map).subs({R: s, Z: t}).evalf()\n",
    "                B = B_element.subs({R: s, Z: t}).evalf()\n",
    "\n",
    "                # Calculate the stiffness matrix contribution\n",
    "                K_contribution = 2 * sp.pi * B.T * D * B * r_physical_at_gp * det_J * w\n",
    "                K_lok += K_contribution\n",
    "\n",
    "    else:\n",
    "        raise ValueError(\"Unsupported number of nodes. Only 3 or 4 nodes are supported\")\n",
    "\n",
    "    return K_lok\n",
    "\n",
    "ng = NGS[0]  # number of Gauss points, can be 1, 2, 3, 4, 5, or 6\n",
    "K1 = K_matrix(ng)\n",
    "K1_np = np.array(K1).astype(np.float64)\n",
    "\n",
    "ng = NGS[1]\n",
    "K3 = K_matrix(ng)\n",
    "K3_np = np.array(K3).astype(np.float64)\n",
    "\n",
    "print(np.round(K1_np/1e9, 2))\n",
    "print()\n",
    "print(np.round(K3_np/1e9, 2))\n"
   ],
   "id": "4c9fea9f9fdfec0b",
   "outputs": [
    {
     "name": "stdout",
     "output_type": "stream",
     "text": [
      "[[ 6822.89  3786.02 -5582.37 -1611.07 -1796.35 -2174.95]\n",
      " [ 3786.02  7249.83 -2658.27 -1611.07 -1852.73 -5638.76]\n",
      " [-5582.37 -2658.27  6178.47     0.     298.05  2658.27]\n",
      " [-1611.07 -1611.07     0.    1611.07  1611.07     0.  ]\n",
      " [-1796.35 -1852.73   298.05  1611.07  1667.46   241.66]\n",
      " [-2174.95 -5638.76  2658.27     0.     241.66  5638.76]]\n",
      "\n",
      "[[ 6854.87  3786.02 -5596.94 -1611.07 -1808.89 -2174.95]\n",
      " [ 3786.02  7249.83 -2658.27 -1611.07 -1852.73 -5638.76]\n",
      " [-5596.94 -2658.27  6200.32     0.     283.48  2658.27]\n",
      " [-1611.07 -1611.07     0.    1611.07  1611.07     0.  ]\n",
      " [-1808.89 -1852.73   283.48  1611.07  1699.43   241.66]\n",
      " [-2174.95 -5638.76  2658.27     0.     241.66  5638.76]]\n"
     ]
    }
   ],
   "execution_count": 47
  },
  {
   "metadata": {
    "ExecuteTime": {
     "end_time": "2025-08-02T20:33:56.530301Z",
     "start_time": "2025-08-02T20:33:56.514885Z"
    }
   },
   "cell_type": "code",
   "source": [
    "def eigen(K):\n",
    "    \"\"\"\n",
    "    Calculate the eigenvalues and eigenvectors of the stiffness matrix K.\n",
    "    \"\"\"\n",
    "    # Convert the stiffness matrix to a numpy array\n",
    "    K_np = np.array(K).astype(np.float64)\n",
    "\n",
    "    # the eigenvalues\n",
    "    eigenvalues, eigenvectors = np.linalg.eigh(K_np)\n",
    "    eigenvalues = sorted([float(x) for x in eigenvalues])\n",
    "    eigenvalues = [round(ev, 5) for ev in eigenvalues]\n",
    "    print('The eigenvalues of the stiffness matrix K are: {}'.format(eigenvalues))\n",
    "\n",
    "    # print([round(ev, 5) for ev in eigenvalues])\n",
    "    # print(eigenvectors.shape)\n",
    "    # sp.pprint(eigenvectors)\n",
    "\n",
    "    # # the eigenvectors for the near-zero eigenvalues\n",
    "    # nearzero_eigenvalues = [ev for ev in eigenvalues if abs(ev) < 1e-10]\n",
    "    # # printing the eigenvectors for the near-zero eigenvalues\n",
    "    # print('The eigenvectors for the near-zero eigenvalues are:')\n",
    "    # for i, ev in enumerate(nearzero_eigenvalues):\n",
    "    #     print(f'Eigenvalue {i + 1}: {ev:.6f}')\n",
    "    #     # print('Eigenvector:')\n",
    "    #     # print(eigenvectors[:, i])\n",
    "    print()\n",
    "\n",
    "\n",
    "print(\"Eigenvalues and eigenvectors for the stiffness matrix K_gauss_1pt:\")\n",
    "print('one zero mode, multiple spurious modes')\n",
    "eigen(K1/1e12)\n",
    "print(\"Eigenvalues and eigenvectors for the stiffness matrix K_gauss_3pt:\")\n",
    "print('one zero mode, no spurious mode')\n",
    "eigen(K3/1e12)"
   ],
   "id": "f13713eec57d9710",
   "outputs": [
    {
     "name": "stdout",
     "output_type": "stream",
     "text": [
      "Eigenvalues and eigenvectors for the stiffness matrix K_gauss_1pt:\n",
      "one zero mode, multiple spurious modes\n",
      "The eigenvalues of the stiffness matrix K are: [-0.0, 0.0, 0.12521, 4.26197, 6.44429, 18.33701]\n",
      "\n",
      "Eigenvalues and eigenvectors for the stiffness matrix K_gauss_3pt:\n",
      "one zero mode, no spurious mode\n",
      "The eigenvalues of the stiffness matrix K are: [0.0, 0.02158, 0.12664, 4.28319, 6.46501, 18.35786]\n",
      "\n"
     ]
    }
   ],
   "execution_count": 48
  }
 ],
 "metadata": {
  "kernelspec": {
   "display_name": "Python 3",
   "language": "python",
   "name": "python3"
  },
  "language_info": {
   "codemirror_mode": {
    "name": "ipython",
    "version": 2
   },
   "file_extension": ".py",
   "mimetype": "text/x-python",
   "name": "python",
   "nbconvert_exporter": "python",
   "pygments_lexer": "ipython2",
   "version": "2.7.6"
  }
 },
 "nbformat": 4,
 "nbformat_minor": 5
}
