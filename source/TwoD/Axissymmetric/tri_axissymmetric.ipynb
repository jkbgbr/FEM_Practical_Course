{
 "cells": [
  {
   "metadata": {},
   "cell_type": "markdown",
   "source": [
    "# Chapter 9: 2D axissymmetric tri element\n",
    "Daryl Logan: A first course in the finite element method, 6th edition, 2020, Chapter 9.\n",
    "\n",
    "Note: This is not an isoparametric formulation and the way the stiffenss matrix is calculated at the end is also not the best."
   ],
   "id": "534b31014bca533"
  },
  {
   "cell_type": "code",
   "id": "initial_id",
   "metadata": {
    "collapsed": true,
    "ExecuteTime": {
     "end_time": "2025-07-26T14:11:23.499858Z",
     "start_time": "2025-07-26T14:11:22.808270Z"
    }
   },
   "source": [
    "import numpy as np\n",
    "import sympy as sp\n",
    "sp.init_printing()"
   ],
   "outputs": [],
   "execution_count": 1
  },
  {
   "metadata": {},
   "cell_type": "markdown",
   "source": [
    "### The 2D axissymmetric tri element\n",
    "\n",
    "This is a triangular element with nodes: i, j, m.\n",
    "\n",
    "Coordinates are: r, z for radial and vertical directions, respectively.\n",
    "\n",
    "Each node hat 2 degrees of freedom (DOFs):\n",
    "- u: radial displacement\n",
    "- w: vertical displacement\n",
    "\n",
    "The DOFs are ordered as follows: u, w."
   ],
   "id": "151452b7f32a2e20"
  },
  {
   "metadata": {},
   "cell_type": "markdown",
   "source": "### The physical properties of the element",
   "id": "f320c3b51807a42"
  },
  {
   "metadata": {
    "ExecuteTime": {
     "end_time": "2025-07-26T14:11:23.888895Z",
     "start_time": "2025-07-26T14:11:23.877921Z"
    }
   },
   "cell_type": "code",
   "source": [
    "E = 200e9  # Young's modulus in Pa\n",
    "nu = 0.3  # Poisson's ratio\n",
    "\n",
    "# Define symbolic physical coordinates\n",
    "r1, z1, r2, z2, r3, z3 = sp.symbols('r1 z1 r2 z2 r3 z3')\n",
    "\n",
    "# Example coordinates for the nodes\n",
    "# physical_coords = {'P1': (0, 0),\n",
    "#                    'P2': (1, 0),\n",
    "#                    'P3': (0, 1)}  # example coordinates for the nodes\n",
    "physical_coords = {'P1': (3, 0),\n",
    "                   'P2': (4, 0),\n",
    "                   'P3': (3, 1)}  # example coordinates for the nodes\n",
    "# physical_coords = {'P1': (0, 0),\n",
    "#                    'P2': (3, 0),\n",
    "#                    'P3': (0, 2)}  # example coordinates for the nodes\n",
    "\n",
    "physical_coords_map = {'r1': physical_coords['P1'][0], 'z1': physical_coords['P1'][1],\n",
    "                                 'r2': physical_coords['P2'][0], 'z2': physical_coords['P2'][1],\n",
    "                                  'r3': physical_coords['P3'][0], 'z3': physical_coords['P3'][1]}\n",
    "\n",
    "R, Z = sp.symbols('R Z')  # radial and vertical coordinates\n",
    "\n",
    "# Define the physical nodes as a matrix so it can be used a symbolic evaluation\n",
    "physical_nodes = sp.Matrix([[r1, z1], \n",
    "                            [r2, z2], \n",
    "                            [r3, z3]])"
   ],
   "id": "52edc126770b2e52",
   "outputs": [],
   "execution_count": 2
  },
  {
   "metadata": {
    "ExecuteTime": {
     "end_time": "2025-07-26T14:11:23.939630Z",
     "start_time": "2025-07-26T14:11:23.932333Z"
    }
   },
   "cell_type": "code",
   "source": [
    "ND = 2  # number of degrees of freedom per node\n",
    "NNODE = 3  # number of nodes"
   ],
   "id": "e0746910ae4ae4e9",
   "outputs": [],
   "execution_count": 3
  },
  {
   "metadata": {},
   "cell_type": "markdown",
   "source": "### Shape functions and derivatives",
   "id": "6e4218843f8a92b3"
  },
  {
   "metadata": {
    "ExecuteTime": {
     "end_time": "2025-07-26T14:11:24.679248Z",
     "start_time": "2025-07-26T14:11:23.974646Z"
    }
   },
   "cell_type": "code",
   "source": [
    "%matplotlib inline\n",
    "\n",
    "def alpha():\n",
    "    return sp.Matrix([\n",
    "        r2 * z3 - r3 * z2,\n",
    "        r3 * z1 - r1 * z3,\n",
    "        r1 * z2 - r2 * z1,\n",
    "    ])\n",
    "\n",
    "def beta():\n",
    "    return sp.Matrix([\n",
    "        z2 - z3,\n",
    "        z3 - z1,\n",
    "        z1 - z2,\n",
    "    ])\n",
    "\n",
    "def gamma():\n",
    "    return sp.Matrix([\n",
    "        r3 - r2,\n",
    "        r1 - r3,\n",
    "        r2 - r1,\n",
    "    ])\n"
   ],
   "id": "d47a539ba577b9ea",
   "outputs": [],
   "execution_count": 4
  },
  {
   "metadata": {},
   "cell_type": "markdown",
   "source": "### Area of the element",
   "id": "faca72902543bfb"
  },
  {
   "metadata": {
    "ExecuteTime": {
     "end_time": "2025-07-26T14:11:24.802579Z",
     "start_time": "2025-07-26T14:11:24.717995Z"
    }
   },
   "cell_type": "code",
   "source": [
    "# The double area of the triangle\n",
    "two_A = sp.Matrix([r1, r2, r3]).dot(beta())\n",
    "print('The value of two_A is:')\n",
    "sp.pprint(two_A.subs(physical_coords_map))\n",
    "\n",
    "# The single area of the triangle\n",
    "Ae = sum(0.5 * sp.Matrix(alpha()))\n",
    "print('The value of Ae is:')\n",
    "sp.pprint(Ae.subs(physical_coords_map))"
   ],
   "id": "35a7304aa8d88b13",
   "outputs": [
    {
     "name": "stdout",
     "output_type": "stream",
     "text": [
      "The value of two_A is:\n",
      "1\n",
      "The value of Ae is:\n",
      "0.500000000000000\n"
     ]
    }
   ],
   "execution_count": 5
  },
  {
   "metadata": {
    "ExecuteTime": {
     "end_time": "2025-07-26T14:11:24.900030Z",
     "start_time": "2025-07-26T14:11:24.835497Z"
    }
   },
   "cell_type": "code",
   "source": [
    "\n",
    "# # this is an alternative way of calculating the area of the triangle\n",
    "# # using the determinant of the matrix formed by the coordinates of the nodes\n",
    "# Ae = sum(0.5 * alpha())\n",
    "# print('The value of Ae is:')\n",
    "# sp.pprint(Ae.subs(physical_coords_map))\n",
    "\n",
    "def shape_functions():\n",
    "    _alpha = alpha()\n",
    "    _beta = beta()\n",
    "    _gamma = gamma()\n",
    "\n",
    "\n",
    "    return sp.Matrix([\n",
    "        (_alpha[0] + _beta[0] * R + _gamma[0] * Z) / two_A,\n",
    "        (_alpha[1] + _beta[1] * R + _gamma[1] * Z) / two_A,\n",
    "        (_alpha[2] + _beta[2] * R + _gamma[2] * Z) / two_A,\n",
    "        ])\n",
    "\n",
    "# Calculate the derivatives by s and t, symbolically\n",
    "def shape_function_derivatives() -> np.array:\n",
    "    \"\"\"\n",
    "    Shape function derivatives.\n",
    "    [0] = dNi/ds, [1] = dNi/dt\n",
    "    \"\"\"\n",
    "    sh = shape_functions()  # N1, N2, N3\n",
    "    dN_dr = []\n",
    "    dN_dz = []\n",
    "\n",
    "    for i in range(len(sh)):\n",
    "        dN_dr.append(sp.diff(sh[i], R))\n",
    "        dN_dz.append(sp.diff(sh[i], Z))\n",
    "\n",
    "    return dN_dr, dN_dz\n",
    "\n",
    "# The symbolic shape functions\n",
    "N_vec = shape_functions()\n",
    "\n",
    "# 2. Substituting the symbolic coordinates with the physical coordinates\n",
    "# This will give us the shape functions for the specific element defined by the physical coordinates\n",
    "N_specific_element = N_vec.subs(physical_coords_map)\n",
    "\n",
    "print(\"Symbolic shape function for this element:\")\n",
    "sp.pprint(N_specific_element)\n",
    "\n",
    "# At node 1 N = [1, 0, 0]\n",
    "print(\"\\nValues at Node 1:\")\n",
    "sp.pprint(N_specific_element.subs({'R': physical_coords['P1'][0], 'Z': physical_coords['P1'][1]}).T)\n",
    "\n",
    "# At node 2 N = [0, 1, 0]\n",
    "print(\"\\nValues at Node 2:\")\n",
    "sp.pprint(N_specific_element.subs({'R': physical_coords['P2'][0], 'Z': physical_coords['P2'][1]}).T)\n",
    "\n",
    "# At node 3 N = [0, 0, 1]\n",
    "print(\"\\nValues at Node 3:\")\n",
    "sp.pprint(N_specific_element.subs({'R': physical_coords['P3'][0], 'Z': physical_coords['P3'][1]}).T)\n",
    "\n",
    "print('\\nShape function derivatives:')\n",
    "dN_dr, dN_dz = shape_function_derivatives()\n",
    "for i in range(len(dN_dr)):\n",
    "    print(f'dN{i+1}/dr = {dN_dr[i]}')\n",
    "    print(f'dN{i+1}/dz = {dN_dz[i]}')\n",
    "\n",
    "# the shape function derivatives for the specific element\n",
    "dN_dr_e = dN_dr[0].subs(physical_coords_map)\n",
    "dN_dz_e = dN_dz[0].subs(physical_coords_map)\n",
    "sp.pprint(dN_dr_e)\n",
    "sp.pprint(dN_dz_e)"
   ],
   "id": "da123641920a0675",
   "outputs": [
    {
     "name": "stdout",
     "output_type": "stream",
     "text": [
      "Symbolic shape function for this element:\n",
      "⎡-R - Z + 4⎤\n",
      "⎢          ⎥\n",
      "⎢  R - 3   ⎥\n",
      "⎢          ⎥\n",
      "⎣    Z     ⎦\n",
      "\n",
      "Values at Node 1:\n",
      "[1  0  0]\n",
      "\n",
      "Values at Node 2:\n",
      "[0  1  0]\n",
      "\n",
      "Values at Node 3:\n",
      "[0  0  1]\n",
      "\n",
      "Shape function derivatives:\n",
      "dN1/dr = (z2 - z3)/(r1*(z2 - z3) + r2*(-z1 + z3) + r3*(z1 - z2))\n",
      "dN1/dz = (-r2 + r3)/(r1*(z2 - z3) + r2*(-z1 + z3) + r3*(z1 - z2))\n",
      "dN2/dr = (-z1 + z3)/(r1*(z2 - z3) + r2*(-z1 + z3) + r3*(z1 - z2))\n",
      "dN2/dz = (r1 - r3)/(r1*(z2 - z3) + r2*(-z1 + z3) + r3*(z1 - z2))\n",
      "dN3/dr = (z1 - z2)/(r1*(z2 - z3) + r2*(-z1 + z3) + r3*(z1 - z2))\n",
      "dN3/dz = (-r1 + r2)/(r1*(z2 - z3) + r2*(-z1 + z3) + r3*(z1 - z2))\n",
      "-1\n",
      "-1\n"
     ]
    }
   ],
   "execution_count": 6
  },
  {
   "metadata": {},
   "cell_type": "markdown",
   "source": [
    "### The shape function matrix\n",
    "\n",
    "The shape function matrix $N$ is a matrix that contains the shape functions for each node. It has the structure:\n",
    "$$\n",
    "N = \\begin{bmatrix}\n",
    "N_i & 0 & N_j & 0 & N_m & 0 \\\\\n",
    "0 & N_i & 0 & N_j & 0 & N_m\\\\\n",
    "\\end{bmatrix}\n",
    "$$"
   ],
   "id": "59147411776f0f51"
  },
  {
   "metadata": {
    "ExecuteTime": {
     "end_time": "2025-07-26T14:11:24.957046Z",
     "start_time": "2025-07-26T14:11:24.929342Z"
    }
   },
   "cell_type": "code",
   "source": [
    "def N() -> np.array:\n",
    "    \"\"\"\n",
    "    shape function matrix N.\n",
    "    It has the structure:\n",
    "    [[Ni, 0, Nj, 0, Nm, 0],\n",
    "     [0, Ni, 0, Nj, 0, Nm]]\n",
    "\n",
    "    \"\"\"\n",
    "    _N = shape_functions()  # the shape functions\n",
    "\n",
    "    # preparing the return matrix\n",
    "    _ret = sp.Matrix(ND, ND * NNODE, lambda i, j: 0)  # ND rows, ND * NNODE columns\n",
    "\n",
    "    # filling the matrix\n",
    "    for i in range(NNODE):\n",
    "        for j in range(ND):\n",
    "            _ret[j, j + ND * i] = _N[i]\n",
    "\n",
    "    return _ret\n",
    "\n",
    "_N = N()\n",
    "print(\"The shape function matrix N is {}:\".format(_N.shape))\n",
    "print()\n",
    "print('The shape function matrix N for this element:')\n",
    "_N_e = _N.subs(physical_coords_map)\n",
    "sp.pprint(_N_e)\n",
    "\n",
    "print('\\nThe shape function matrix N for this element at node 1:')\n",
    "midpoint = (physical_coords['P1'][0] + physical_coords['P2'][0] + physical_coords['P3'][0]) / 3, \\\n",
    "            (physical_coords['P1'][1] + physical_coords['P2'][1] + physical_coords['P3'][1]) / 3\n",
    "_N_e_node1 = _N_e.subs({'R': midpoint[0], 'Z': midpoint[1]})\n",
    "sp.pprint(_N_e_node1.applyfunc(lambda x: x.round(4)))\n"
   ],
   "id": "dfecf3b53944cc71",
   "outputs": [
    {
     "name": "stdout",
     "output_type": "stream",
     "text": [
      "The shape function matrix N is (2, 6):\n",
      "\n",
      "The shape function matrix N for this element:\n",
      "⎡-R - Z + 4      0       R - 3    0    Z  0⎤\n",
      "⎢                                          ⎥\n",
      "⎣    0       -R - Z + 4    0    R - 3  0  Z⎦\n",
      "\n",
      "The shape function matrix N for this element at node 1:\n",
      "⎡0.3333    0     0.3333    0     0.3333    0   ⎤\n",
      "⎢                                              ⎥\n",
      "⎣  0     0.3333    0     0.3333    0     0.3333⎦\n"
     ]
    }
   ],
   "execution_count": 7
  },
  {
   "metadata": {},
   "cell_type": "markdown",
   "source": [
    "### $\\begin{bmatrix}B\\end{bmatrix}$ matrix\n",
    "The full B matrix"
   ],
   "id": "57955a4694252d94"
  },
  {
   "metadata": {
    "ExecuteTime": {
     "end_time": "2025-07-26T14:11:25.232031Z",
     "start_time": "2025-07-26T14:11:25.011475Z"
    }
   },
   "cell_type": "code",
   "source": [
    "def B_symbolic():\n",
    "\n",
    "    _alpha = alpha()\n",
    "    _beta = beta()\n",
    "    _gamma = gamma()\n",
    "\n",
    "    B = sp.zeros(4, ND*NNODE)\n",
    "    for i in range(NNODE):\n",
    "        B[0, 2*i] = _beta[i] / two_A\n",
    "        B[1, 2*i] = (_alpha[i] / R + _beta[i] + _gamma[i] * Z / R) / two_A\n",
    "        B[2, 2*i+1] = _gamma[i] / two_A\n",
    "        B[3, 2*i] = _gamma[i] / two_A\n",
    "        B[3, 2*i+1] = _beta[i] / two_A\n",
    "\n",
    "        # print this block only\n",
    "        # print(f'B block for node {i+1}:')\n",
    "        # sp.pprint(B[:, 2*i:2*i+2].subs(physical_coords_map))\n",
    "\n",
    "    return B\n",
    "\n",
    "# The symbolic B matrix\n",
    "B = B_symbolic()\n",
    "\n",
    "# the B matrix for this element\n",
    "B_e = B.subs(physical_coords_map)\n",
    "# the B matrix for this element at the midpoint\n",
    "print('the B matrix for this element is')\n",
    "sp.pprint(B_e)\n",
    "\n",
    "print('the B matrix for this element at the midpoint')\n",
    "sp.pprint(B_e.subs({'R': midpoint[0], 'Z': midpoint[1]}))\n",
    "\n",
    "# the B matrix for this element at node 1. Note, the node 1 is at the origin (0, 0) so we get multiple nan values due to division by zero\n",
    "print('the B matrix for this element at node 1. Note, the node 1 is at the origin (0, 0) so we get multiple nan values due to division by zero')\n",
    "sp.pprint(B_e.subs({'R': physical_coords['P1'][0], 'Z': physical_coords['P1'][1]}))\n"
   ],
   "id": "bf8439bf2ac03c1e",
   "outputs": [
    {
     "name": "stdout",
     "output_type": "stream",
     "text": [
      "the B matrix for this element is\n",
      "⎡    -1      0     1    0  0  0⎤\n",
      "⎢                              ⎥\n",
      "⎢     Z   4          3     Z   ⎥\n",
      "⎢-1 - ─ + ─  0   1 - ─  0  ─  0⎥\n",
      "⎢     R   R          R     R   ⎥\n",
      "⎢                              ⎥\n",
      "⎢    0       -1    0    0  0  1⎥\n",
      "⎢                              ⎥\n",
      "⎣    -1      -1    0    1  1  0⎦\n",
      "the B matrix for this element at the midpoint\n",
      "⎡-1   0    1   0   0   0⎤\n",
      "⎢                       ⎥\n",
      "⎢0.1  0   0.1  0  0.1  0⎥\n",
      "⎢                       ⎥\n",
      "⎢ 0   -1   0   0   0   1⎥\n",
      "⎢                       ⎥\n",
      "⎣-1   -1   0   1   1   0⎦\n",
      "the B matrix for this element at node 1. Note, the node 1 is at the origin (0, 0) so we get multiple nan values due to division by zero\n",
      "⎡-1   0   1  0  0  0⎤\n",
      "⎢                   ⎥\n",
      "⎢1/3  0   0  0  0  0⎥\n",
      "⎢                   ⎥\n",
      "⎢ 0   -1  0  0  0  1⎥\n",
      "⎢                   ⎥\n",
      "⎣-1   -1  0  1  1  0⎦\n"
     ]
    }
   ],
   "execution_count": 8
  },
  {
   "metadata": {},
   "cell_type": "markdown",
   "source": "### The constitutive matrix $\\begin{bmatrix}D\\end{bmatrix}$",
   "id": "f7e14f280cf4af9"
  },
  {
   "metadata": {
    "ExecuteTime": {
     "end_time": "2025-07-26T14:11:25.340895Z",
     "start_time": "2025-07-26T14:11:25.316261Z"
    }
   },
   "cell_type": "code",
   "source": [
    "def D_matrix():\n",
    "    \"\"\"\n",
    "    The constitutive matrix for the axissymmetric tri element.\n",
    "    \"\"\"\n",
    "    # Plane stress condition\n",
    "    D = sp.zeros(4, 4)\n",
    "    D[0, 0] = 1 - nu\n",
    "    D[0, 1] = nu\n",
    "    D[0, 2] = nu\n",
    "\n",
    "    D[1, 0] = nu\n",
    "    D[1, 1] = 1 - nu\n",
    "    D[1, 2] = nu\n",
    "\n",
    "    D[2, 0] = nu\n",
    "    D[2, 1] = nu\n",
    "    D[2, 2] = 1 - nu\n",
    "\n",
    "    D[3, 3] = (1 - 2 * nu) / 2\n",
    "\n",
    "    D *= E / ((1 - 2 * nu) * (1 + nu))\n",
    "\n",
    "    return D\n",
    "\n",
    "D = D_matrix()\n",
    "sp.pprint(D.applyfunc(lambda x: round(x/1e9, 2)))\n",
    "print(D.T == D)"
   ],
   "id": "868f825bf26732dc",
   "outputs": [
    {
     "name": "stdout",
     "output_type": "stream",
     "text": [
      "⎡269.23  115.38  115.38    0  ⎤\n",
      "⎢                             ⎥\n",
      "⎢115.38  269.23  115.38    0  ⎥\n",
      "⎢                             ⎥\n",
      "⎢115.38  115.38  269.23    0  ⎥\n",
      "⎢                             ⎥\n",
      "⎣  0       0       0     76.92⎦\n",
      "True\n"
     ]
    }
   ],
   "execution_count": 9
  },
  {
   "metadata": {},
   "cell_type": "markdown",
   "source": "### Quadrature points and weights",
   "id": "9a600a9468f2e85a"
  },
  {
   "metadata": {
    "ExecuteTime": {
     "end_time": "2025-07-26T14:11:25.422019Z",
     "start_time": "2025-07-26T14:11:25.412792Z"
    }
   },
   "cell_type": "code",
   "source": [
    "gi_data = {\n",
    "    1: {\n",
    "        'point': ((1/3, 1/3),),  # midpoint of the triangle\n",
    "        'weight': (1,)\n",
    "    },\n",
    "    3: {\n",
    "        'point': ((1/6, 1/6), (4/6, 1/6), (1/6, 4/6), ),\n",
    "        'weight': (1/3, 1/3, 1/3)\n",
    "    },\n",
    "}"
   ],
   "id": "b6bcf4700332a080",
   "outputs": [],
   "execution_count": 10
  },
  {
   "metadata": {},
   "cell_type": "markdown",
   "source": "### The stiffness matrix $\\begin{bmatrix}K\\end{bmatrix}$",
   "id": "aca739fd664f7b25"
  },
  {
   "metadata": {
    "ExecuteTime": {
     "end_time": "2025-07-26T14:11:25.680440Z",
     "start_time": "2025-07-26T14:11:25.501371Z"
    }
   },
   "cell_type": "code",
   "source": [
    "def K_matrix_1(ng=1):\n",
    "    \"\"\" Gauss integration, 1 or 3 integration points. This is method 1 from the book.\"\"\"\n",
    "        # Get the symbolic B and constant D matrices\n",
    "    B_sym = B_symbolic()\n",
    "    D = D_matrix()\n",
    "\n",
    "    # Substitute the physical node coordinates into B\n",
    "    B_element = B_sym.subs(physical_coords_map)\n",
    "\n",
    "    # The shape functions N(R,Z) map from natural to physical coordinates\n",
    "    # Note: These are the isoparametric shape functions, used here only for mapping.\n",
    "    N_map = sp.Matrix([1 - R - Z, R, Z])\n",
    "    r_map = N_map.dot(sp.Matrix([r1, r2, r3])).subs(physical_coords_map)\n",
    "    z_map = N_map.dot(sp.Matrix([z1, z2, z3])).subs(physical_coords_map)\n",
    "\n",
    "    # Element area\n",
    "    det_J = Ae.subs(physical_coords_map)\n",
    "\n",
    "    K = sp.zeros(ND * NNODE, ND * NNODE)\n",
    "\n",
    "    # Loop over the Gauss points and weights for the chosen scheme\n",
    "    for p, w in zip(gi_data[ng]['point'], gi_data[ng]['weight']):\n",
    "        R_gp, Z_gp = p[0], p[1]  # Gauss point in natural coordinates\n",
    "\n",
    "        # Find the physical coordinates (r, z) for the current Gauss point\n",
    "        r_physical_at_gp = r_map.subs({R: R_gp, Z: Z_gp})\n",
    "        z_physical_at_gp = z_map.subs({R: R_gp, Z: Z_gp})\n",
    "\n",
    "        B_evaluated = B_element.subs({'R': r_physical_at_gp, 'Z': z_physical_at_gp})\n",
    "\n",
    "        K += B_evaluated.T * D * B_evaluated * 2 * sp.pi * r_physical_at_gp * det_J * w\n",
    "\n",
    "    return K\n",
    "\n",
    "\n",
    "import time\n",
    "sta = time.time()\n",
    "K_gauss_1pt = np.asarray(K_matrix_1(1).evalf().applyfunc(lambda x: round(x/1e12, 6)))\n",
    "print('Time taken to calculate the stiffness matrix by 1 GP integration:', time.time() - sta)\n",
    "\n",
    "import time\n",
    "sta = time.time()\n",
    "K_gauss_3pt = np.asarray(K_matrix_1(3).evalf().applyfunc(lambda x: round(x/1e12, 6)))\n",
    "print('Time taken to calculate the stiffness matrix by 3 GP integration:', time.time() - sta)\n",
    "\n",
    "\n",
    "print(\"Stiffness matrix from 1-point Gauss quadrature (K_gauss_1pt):\")\n",
    "print(K_gauss_1pt)\n",
    "\n",
    "print(\"\\nStiffness matrix from 3-point Gauss quadrature (K_gauss_3pt):\")\n",
    "print(K_gauss_3pt)\n",
    "\n",
    "# Compare the integration results\n",
    "print(\"\\nComparison of the two stiffness matrices:\")\n",
    "import pprint\n",
    "pprint.pprint(K_gauss_1pt / K_gauss_3pt)  # should be close to 1"
   ],
   "id": "e99d6dcb3619155a",
   "outputs": [
    {
     "name": "stdout",
     "output_type": "stream",
     "text": [
      "Time taken to calculate the stiffness matrix by 1 GP integration: 0.06284475326538086\n",
      "Time taken to calculate the stiffness matrix by 3 GP integration: 0.09726881980895996\n",
      "Stiffness matrix from 1-point Gauss quadrature (K_gauss_1pt):\n",
      "[[3.411447 1.893011 -2.791184 -0.805537 -0.898173 -1.087474]\n",
      " [1.893011 3.624915 -1.329135 -0.805537 -0.926367 -2.819378]\n",
      " [-2.791184 -1.329135 3.089233 0 0.149024 1.329135]\n",
      " [-0.805537 -0.805537 0 0.805537 0.805537 0]\n",
      " [-0.898173 -0.926367 0.149024 0.805537 0.833730 0.120830]\n",
      " [-1.087474 -2.819378 1.329135 0 0.120830 2.819378]]\n",
      "\n",
      "Stiffness matrix from 3-point Gauss quadrature (K_gauss_3pt):\n",
      "[[3.427433 1.893011 -2.798469 -0.805537 -0.904446 -1.087474]\n",
      " [1.893011 3.624915 -1.329135 -0.805537 -0.926367 -2.819378]\n",
      " [-2.798469 -1.329135 3.100160 0 0.141740 1.329135]\n",
      " [-0.805537 -0.805537 0 0.805537 0.805537 0]\n",
      " [-0.904446 -0.926367 0.141740 0.805537 0.849716 0.120830]\n",
      " [-1.087474 -2.819378 1.329135 0 0.120830 2.819378]]\n",
      "\n",
      "Comparison of the two stiffness matrices:\n",
      "array([[0.9953359, 1.000000, 0.9973968, 1.00000, 0.993064, 1.000000],\n",
      "       [1.000000, 1.000000, 1.000000, 1.00000, 1.00000, 1.000000],\n",
      "       [0.9973968, 1.000000, 0.9964753, nan, 1.05139, 1.000000],\n",
      "       [1.00000, 1.00000, nan, 1.00000, 1.00000, nan],\n",
      "       [0.993064, 1.00000, 1.05139, 1.00000, 0.981187, 1.00000],\n",
      "       [1.000000, 1.000000, 1.000000, nan, 1.00000, 1.000000]],\n",
      "      dtype=object)\n"
     ]
    }
   ],
   "execution_count": 11
  },
  {
   "metadata": {
    "ExecuteTime": {
     "end_time": "2025-07-26T14:11:29.029716Z",
     "start_time": "2025-07-26T14:11:25.767655Z"
    }
   },
   "cell_type": "code",
   "source": [
    "\n",
    "def K_matrix_2():\n",
    "    \"\"\"\n",
    "    Calculates the stiffness matrix for the non-isoparametric axissymmetric element\n",
    "    by performing a double integration over the element's physical area.\n",
    "    \"\"\"\n",
    "    B_sym = B_symbolic()\n",
    "    D_sym = D_matrix()\n",
    "    integrand = B_sym.T * D_sym * B_sym * 2 * sp.pi * R\n",
    "    integrand_element = integrand.subs(physical_coords_map)\n",
    "\n",
    "    # Perform the double integration over the triangular area.\n",
    "    # Note: In sympy, the integration variables are specified from inner to outer.\n",
    "    K = sp.integrate(integrand_element, (Z, 0, 4 - R), (R, 3, 4))  # The order of integration is dz first, then dr. Outer integral: dr from r=3 to r=4 Inner integral: dz from z=0 to z=4-r\n",
    "\n",
    "    return K\n",
    "\n",
    "# Calculate the stiffness matrix\n",
    "import time\n",
    "sta = time.time()\n",
    "K_integrated = K_matrix_2()\n",
    "print('Time taken to calculate the stiffness matrix by double integration:', time.time() - sta)\n",
    "print(\"The fully integrated stiffness matrix K is:\")\n",
    "sp.pprint(K_integrated.evalf().applyfunc(lambda x: round(x/1e12, 4)))\n",
    "\n",
    "# comparing the results of the two methods\n",
    "# K_e is the stiffness matrix calculated using method 3 from the book\n",
    "# K_integrated is the stiffness matrix calculated by performing a double integration over the element's physical\n",
    "\n",
    "K_integrated_np = np.asarray(K_integrated.evalf().applyfunc(lambda x: round(x/1e12, 6)))\n",
    "# ratio = K_gauss_3pt / K_integrated_np\n",
    "# for i in range(ratio.shape[0]):\n",
    "#     for j in range(ratio.shape[1]):\n",
    "#         print(f'Element ({i},{j}):', round(ratio[i, j], 6))\n"
   ],
   "id": "2b891ea48d510442",
   "outputs": [
    {
     "name": "stdout",
     "output_type": "stream",
     "text": [
      "Time taken to calculate the stiffness matrix by double integration: 3.1757895946502686\n",
      "The fully integrated stiffness matrix K is:\n",
      "⎡3.4274    1.893   -2.7986  -0.8055  -0.9043  -1.0875⎤\n",
      "⎢                                                    ⎥\n",
      "⎢ 1.893   3.6249   -1.3291  -0.8055  -0.9264  -2.8194⎥\n",
      "⎢                                                    ⎥\n",
      "⎢-2.7986  -1.3291  3.1003      0     0.1416   1.3291 ⎥\n",
      "⎢                                                    ⎥\n",
      "⎢-0.8055  -0.8055     0     0.8055   0.8055      0   ⎥\n",
      "⎢                                                    ⎥\n",
      "⎢-0.9043  -0.9264  0.1416   0.8055   0.8497   0.1208 ⎥\n",
      "⎢                                                    ⎥\n",
      "⎣-1.0875  -2.8194  1.3291      0     0.1208   2.8194 ⎦\n"
     ]
    }
   ],
   "execution_count": 12
  },
  {
   "metadata": {
    "ExecuteTime": {
     "end_time": "2025-07-26T14:11:29.196744Z",
     "start_time": "2025-07-26T14:11:29.107429Z"
    }
   },
   "cell_type": "code",
   "source": [
    "\n",
    "def K_matrix_3():\n",
    "    \"\"\"\n",
    "    The stiffness matrix for the axissymmetric tri element.\n",
    "    This is method 3 from the book, and the same as the 1 point Gauss integration method.\n",
    "    It evaluates the B matrix at the midpoint of the element and then calculates the stiffness matrix.\n",
    "    \"\"\"\n",
    "    # K = sp.zeros(ND * NNODE, ND * NNODE)  # the stiffness matrix\n",
    "\n",
    "    mp = midpoint\n",
    "    B_e = B_symbolic().subs(physical_coords_map)\n",
    "    B = B_e.subs({'R': mp[0], 'Z': mp[1]})  # evaluate B at the midpoint\n",
    "\n",
    "    D = D_matrix()  # the constitutive matrix\n",
    "\n",
    "    _A = Ae.subs(physical_coords_map)  # element area\n",
    "\n",
    "    K = (B.T * D * B) * 2 * np.pi * mp[0] * _A\n",
    "\n",
    "    return K\n",
    "\n",
    "# The stiffness matrix for this element\n",
    "K_e = K_matrix_3()\n",
    "K_e_formatted = K_e.applyfunc(lambda x: (x/1e12).round(4))\n",
    "print(\"The stiffness matrix K_3 for this element:\")\n",
    "sp.pprint(K_e_formatted)"
   ],
   "id": "384c3369194ff987",
   "outputs": [
    {
     "name": "stdout",
     "output_type": "stream",
     "text": [
      "The stiffness matrix K_3 for this element:\n",
      "⎡3.4114    1.893   -2.7912  -0.8055  -0.8982  -1.0875⎤\n",
      "⎢                                                    ⎥\n",
      "⎢ 1.893   3.6249   -1.3291  -0.8055  -0.9264  -2.8194⎥\n",
      "⎢                                                    ⎥\n",
      "⎢-2.7912  -1.3291  3.0892      0      0.149   1.3291 ⎥\n",
      "⎢                                                    ⎥\n",
      "⎢-0.8055  -0.8055     0     0.8055   0.8055      0   ⎥\n",
      "⎢                                                    ⎥\n",
      "⎢-0.8982  -0.9264   0.149   0.8055   0.8337   0.1208 ⎥\n",
      "⎢                                                    ⎥\n",
      "⎣-1.0875  -2.8194  1.3291      0     0.1208   2.8194 ⎦\n"
     ]
    }
   ],
   "execution_count": 13
  },
  {
   "metadata": {
    "ExecuteTime": {
     "end_time": "2025-07-26T14:11:29.303724Z",
     "start_time": "2025-07-26T14:11:29.287728Z"
    }
   },
   "cell_type": "code",
   "source": [
    "\n",
    "def eigen(K):\n",
    "    \"\"\"\n",
    "    Calculate the eigenvalues and eigenvectors of the stiffness matrix K.\n",
    "    \"\"\"\n",
    "    # Convert the stiffness matrix to a numpy array\n",
    "    K_np = np.array(K).astype(np.float64)\n",
    "\n",
    "    # the eigenvalues\n",
    "    eigenvalues, eigenvectors = np.linalg.eigh(K_np)\n",
    "    eigenvalues = sorted([float(x) for x in eigenvalues])\n",
    "    eigenvalues = [round(ev, 5) for ev in eigenvalues]\n",
    "    print('The eigenvalues of the stiffness matrix K are: {}'.format(eigenvalues))\n",
    "\n",
    "    # print([round(ev, 5) for ev in eigenvalues])\n",
    "    # print(eigenvectors.shape)\n",
    "    # sp.pprint(eigenvectors)\n",
    "\n",
    "    # # the eigenvectors for the near-zero eigenvalues\n",
    "    # nearzero_eigenvalues = [ev for ev in eigenvalues if abs(ev) < 1e-10]\n",
    "    # # printing the eigenvectors for the near-zero eigenvalues\n",
    "    # print('The eigenvectors for the near-zero eigenvalues are:')\n",
    "    # for i, ev in enumerate(nearzero_eigenvalues):\n",
    "    #     print(f'Eigenvalue {i + 1}: {ev:.6f}')\n",
    "    #     # print('Eigenvector:')\n",
    "    #     # print(eigenvectors[:, i])\n",
    "    print()\n",
    "\n",
    "\n",
    "\n",
    "print(\"Eigenvalues and eigenvectors for the stiffness matrix K_gauss_1pt:\")\n",
    "eigen(K_gauss_1pt)\n",
    "print(\"Eigenvalues and eigenvectors for the stiffness matrix K_gauss_3pt:\")\n",
    "eigen(K_gauss_3pt)\n",
    "print(\"Eigenvalues and eigenvectors for the stiffness matrix K_integrated:\")\n",
    "eigen(K_integrated_np)\n",
    "\n",
    "print(K_gauss_1pt / K_gauss_3pt)\n",
    "print()\n",
    "print(K_gauss_1pt / K_integrated_np)\n",
    "print()\n",
    "print(K_gauss_3pt / K_integrated_np)\n",
    "\n",
    "\n"
   ],
   "id": "974b1fe355981d1a",
   "outputs": [
    {
     "name": "stdout",
     "output_type": "stream",
     "text": [
      "Eigenvalues and eigenvectors for the stiffness matrix K_gauss_1pt:\n",
      "The eigenvalues of the stiffness matrix K are: [-0.0, 0.0, 0.0626, 2.13099, 3.22215, 9.1685]\n",
      "\n",
      "Eigenvalues and eigenvectors for the stiffness matrix K_gauss_3pt:\n",
      "The eigenvalues of the stiffness matrix K are: [0.0, 0.01079, 0.06332, 2.1416, 3.2325, 9.17893]\n",
      "\n",
      "Eigenvalues and eigenvectors for the stiffness matrix K_integrated:\n",
      "The eigenvalues of the stiffness matrix K are: [0.0, 0.01076, 0.06333, 2.14161, 3.23259, 9.17897]\n",
      "\n",
      "[[0.9953359 1.000000 0.9973968 1.00000 0.993064 1.000000]\n",
      " [1.000000 1.000000 1.000000 1.00000 1.00000 1.000000]\n",
      " [0.9973968 1.000000 0.9964753 nan 1.05139 1.000000]\n",
      " [1.00000 1.00000 nan 1.00000 1.00000 nan]\n",
      " [0.993064 1.00000 1.05139 1.00000 0.981187 1.00000]\n",
      " [1.000000 1.000000 1.000000 nan 1.00000 1.000000]]\n",
      "\n",
      "[[0.9953408 1.000000 0.9973587 1.00000 0.993240 1.000000]\n",
      " [1.000000 1.000000 1.000000 1.00000 1.00000 1.000000]\n",
      " [0.9973587 1.000000 0.9964236 nan 1.05219 1.000000]\n",
      " [1.00000 1.00000 nan 1.00000 1.00000 nan]\n",
      " [0.993240 1.00000 1.05219 1.00000 0.981206 1.00000]\n",
      " [1.000000 1.000000 1.000000 nan 1.00000 1.000000]]\n",
      "\n",
      "[[1.000005 1.000000 0.9999618 1.00000 1.00018 1.000000]\n",
      " [1.000000 1.000000 1.000000 1.00000 1.00000 1.000000]\n",
      " [0.9999618 1.000000 0.9999481 nan 1.00076 1.000000]\n",
      " [1.00000 1.00000 nan 1.00000 1.00000 nan]\n",
      " [1.00018 1.00000 1.00076 1.00000 1.00002 1.00000]\n",
      " [1.000000 1.000000 1.000000 nan 1.00000 1.000000]]\n"
     ]
    }
   ],
   "execution_count": 14
  }
 ],
 "metadata": {
  "kernelspec": {
   "display_name": "Python 3",
   "language": "python",
   "name": "python3"
  },
  "language_info": {
   "codemirror_mode": {
    "name": "ipython",
    "version": 2
   },
   "file_extension": ".py",
   "mimetype": "text/x-python",
   "name": "python",
   "nbconvert_exporter": "python",
   "pygments_lexer": "ipython2",
   "version": "2.7.6"
  }
 },
 "nbformat": 4,
 "nbformat_minor": 5
}
