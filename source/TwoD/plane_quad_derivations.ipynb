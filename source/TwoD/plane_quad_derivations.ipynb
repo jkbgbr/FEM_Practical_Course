{
 "cells": [
  {
   "metadata": {},
   "cell_type": "markdown",
   "source": [
    "# Chapter 8: Reissner-Mindlin plate\n",
    "\n",
    "Rectangular 2D linear plate."
   ],
   "id": "5a7fe5a817adee01"
  },
  {
   "metadata": {
    "collapsed": true,
    "ExecuteTime": {
     "end_time": "2025-07-01T10:46:46.843166Z",
     "start_time": "2025-07-01T10:46:46.838179Z"
    }
   },
   "cell_type": "code",
   "source": [
    "import numpy as np\n",
    "import sympy as sp\n",
    "import matplotlib.pyplot as plt\n",
    "sp.init_printing()"
   ],
   "id": "initial_id",
   "outputs": [],
   "execution_count": 14
  },
  {
   "metadata": {},
   "cell_type": "markdown",
   "source": "### The physical properties of the element",
   "id": "e74bfea28e4831e5"
  },
  {
   "metadata": {
    "ExecuteTime": {
     "end_time": "2025-07-01T10:46:46.866565Z",
     "start_time": "2025-07-01T10:46:46.859377Z"
    }
   },
   "cell_type": "code",
   "source": [
    "E = 210e9  # Young's modulus in Pa\n",
    "nu = 0.3  # Poisson's ratio\n",
    "\n",
    "# Define symbolic physical coordinates\n",
    "x1, y1, x2, y2, x3, y3, x4, y4 = sp.symbols('x1 y1 x2 y2 x3 y3 x4 y4')\n",
    "# Define the physical nodes as a matrix so it can be used a symbolic evaluation\n",
    "physical_nodes = sp.Matrix([[x1, y1], [x2, y2], [x3, y3], [x4, y4]])\n",
    "\n",
    "# Example values for the physical coordinates\n",
    "x1_val, y1_val = -1, -1\n",
    "x2_val, y2_val = 1, -1\n",
    "x3_val, y3_val = 1, 1\n",
    "x4_val, y4_val = -1, 1\n",
    "\n",
    "x1_val, y1_val = -3, -2\n",
    "x2_val, y2_val = 1.5, -0.7\n",
    "x3_val, y3_val = 1, 1.2\n",
    "x4_val, y4_val = -2, 1\n",
    "\n",
    "# Create a dictionary to map the symbolic coordinates to their numerical values\n",
    "coordinate_values = {\n",
    "    x1: x1_val, y1: y1_val,\n",
    "    x2: x2_val, y2: y2_val,\n",
    "    x3: x3_val, y3: y3_val,\n",
    "    x4: x4_val, y4: y4_val,\n",
    "}"
   ],
   "id": "3a787f888260b0c1",
   "outputs": [],
   "execution_count": 15
  },
  {
   "metadata": {},
   "cell_type": "markdown",
   "source": [
    "### The finite element\n",
    "\n",
    "This is a rectangular isoparametric 2D plate in the x-y plane.\n",
    "\n",
    "The natural coordinates are xi and eta. Node numbering is CCW, starting at ``(-1, -1)``:\n",
    "```\n",
    "     ^\n",
    "     |eta\n",
    "     |\n",
    "  4--|--3\n",
    "  |  |--|--->xi\n",
    "  |     |\n",
    "  1-----2\n",
    "```\n",
    "\n",
    "It has 3 degrees of freedom each node:\n",
    "- w: vertical displacement\n",
    "- thetaX: rotation about the x-axis\n",
    "- thetaY: rotation about the y-axis\n",
    "The DOFs are not coupled.\n",
    "The DOFs are ordered as follows: w, thetaX, thetaY.\n"
   ],
   "id": "2d2e5eb6a6dfa2ef"
  },
  {
   "metadata": {
    "ExecuteTime": {
     "end_time": "2025-07-01T10:46:46.902690Z",
     "start_time": "2025-07-01T10:46:46.897906Z"
    }
   },
   "cell_type": "code",
   "source": [
    "ND = 3  # number of degrees of freedom per node\n",
    "NNODE = 4  # number of nodes"
   ],
   "id": "1a22d70b68e357e7",
   "outputs": [],
   "execution_count": 16
  },
  {
   "metadata": {},
   "cell_type": "markdown",
   "source": "### The isoparametric part",
   "id": "c03cbc13ab99c428"
  },
  {
   "metadata": {
    "ExecuteTime": {
     "end_time": "2025-07-01T10:46:46.932895Z",
     "start_time": "2025-07-01T10:46:46.927742Z"
    }
   },
   "cell_type": "code",
   "source": [
    "n1 = np.array([-1, -1])  # node 1 coordinates\n",
    "n2 = np.array([1, -1])   # node 2 coordinates\n",
    "n3 = np.array([1, 1])    # node 3 coordinates\n",
    "n4 = np.array([-1, 1])   # node 4 coordinates\n",
    "natural_nodes = np.array([n1, n2, n3, n4])  # all nodes"
   ],
   "id": "e5a2c96d934e2d7a",
   "outputs": [],
   "execution_count": 17
  },
  {
   "metadata": {},
   "cell_type": "markdown",
   "source": "### Shape functions and their derivatives",
   "id": "4ff6cf454967cba0"
  },
  {
   "metadata": {
    "ExecuteTime": {
     "end_time": "2025-07-01T10:50:24.098524Z",
     "start_time": "2025-07-01T10:50:24.075165Z"
    }
   },
   "cell_type": "code",
   "source": [
    "# Define symbolic variables\n",
    "XI, ETA = sp.symbols('xi eta')\n",
    "\n",
    "# Define the shape functions symbolically\n",
    "def shape_functions() -> np.array:\n",
    "    \"\"\"shape functions\"\"\"\n",
    "\n",
    "    return np.array([\n",
    "        0.25 * (1 - XI) * (1 - ETA),\n",
    "        0.25 * (1 + XI) * (1 - ETA),\n",
    "        0.25 * (1 + XI) * (1 + ETA),\n",
    "        0.25 * (1 - XI) * (1 + ETA),\n",
    "    ])\n",
    "\n",
    "def isoparametric_mapping() -> np.array:\n",
    "    \"\"\"\n",
    "    Isoparametric mapping natural -> physical coordinates.\n",
    "\n",
    "    :return: functions returning the physical coordinates\n",
    "    \"\"\"\n",
    "\n",
    "    print(shape_functions())\n",
    "\n",
    "    sh = shape_functions()  # shape functions with substituted values\n",
    "    return sp.Matrix([sp.Matrix(sh).dot(physical_nodes[:, 0]), sp.Matrix(sh).dot(physical_nodes[:, 1])])\n",
    "\n",
    "\n",
    "# Calculate the derivatives by xi and eta, symbolically\n",
    "def shape_function_derivatives() -> np.array:\n",
    "    \"\"\"shape function derivatives\"\"\"\n",
    "    sh = shape_functions()\n",
    "    dN_dxi = []\n",
    "    dN_deta = []\n",
    "\n",
    "    for i in range(len(sh)):\n",
    "        dN_dxi.append(sp.diff(sh[i], XI))\n",
    "        dN_deta.append(sp.diff(sh[i], ETA))\n",
    "\n",
    "    return dN_dxi, dN_deta\n",
    "\n",
    "print()\n",
    "print('The shape functions are:')\n",
    "print(shape_functions())\n",
    "print()\n",
    "print('The derivatives are:')\n",
    "derivatives = shape_function_derivatives()\n",
    "for i, dN in enumerate(derivatives[0]):\n",
    "    print(f'dN{i+1}/dxi = {dN}')\n",
    "for i, dN in enumerate(derivatives[1]):\n",
    "    print(f'dN{i+1}/deta = {dN}')\n",
    "\n",
    "print()\n",
    "print('The isoparametric mapping is:')\n",
    "x_map = isoparametric_mapping()[0]\n",
    "y_map = isoparametric_mapping()[1]\n",
    "print(f'x = {x_map}')\n",
    "print(f'y = {y_map}')\n",
    "\n",
    "print()\n",
    "print('The derivatives of the shape functions by xi are:')\n",
    "print(derivatives[0])  # derivatives by xi\n",
    "\n",
    "print()\n",
    "print('The derivatives of the shape functions by eta are:')\n",
    "print(derivatives[1])  # derivatives by eta"
   ],
   "id": "ec3c5f9638e1016",
   "outputs": [
    {
     "name": "stdout",
     "output_type": "stream",
     "text": [
      "\n",
      "The shape functions are:\n",
      "[(0.25 - 0.25*xi)*(1 - eta) (1 - eta)*(0.25*xi + 0.25)\n",
      " (eta + 1)*(0.25*xi + 0.25) (0.25 - 0.25*xi)*(eta + 1)]\n",
      "\n",
      "The derivatives are:\n",
      "dN1/dxi = 0.25*eta - 0.25\n",
      "dN2/dxi = 0.25 - 0.25*eta\n",
      "dN3/dxi = 0.25*eta + 0.25\n",
      "dN4/dxi = -0.25*eta - 0.25\n",
      "dN1/deta = 0.25*xi - 0.25\n",
      "dN2/deta = -0.25*xi - 0.25\n",
      "dN3/deta = 0.25*xi + 0.25\n",
      "dN4/deta = 0.25 - 0.25*xi\n",
      "\n",
      "The isoparametric mapping is:\n",
      "[(0.25 - 0.25*xi)*(1 - eta) (1 - eta)*(0.25*xi + 0.25)\n",
      " (eta + 1)*(0.25*xi + 0.25) (0.25 - 0.25*xi)*(eta + 1)]\n",
      "[(0.25 - 0.25*xi)*(1 - eta) (1 - eta)*(0.25*xi + 0.25)\n",
      " (eta + 1)*(0.25*xi + 0.25) (0.25 - 0.25*xi)*(eta + 1)]\n",
      "x = x1*(0.25 - 0.25*xi)*(1 - eta) + x2*(1 - eta)*(0.25*xi + 0.25) + x3*(eta + 1)*(0.25*xi + 0.25) + x4*(0.25 - 0.25*xi)*(eta + 1)\n",
      "y = y1*(0.25 - 0.25*xi)*(1 - eta) + y2*(1 - eta)*(0.25*xi + 0.25) + y3*(eta + 1)*(0.25*xi + 0.25) + y4*(0.25 - 0.25*xi)*(eta + 1)\n",
      "\n",
      "The derivatives of the shape functions by xi are:\n",
      "[0.25*eta - 0.25, 0.25 - 0.25*eta, 0.25*eta + 0.25, -0.25*eta - 0.25]\n",
      "\n",
      "The derivatives of the shape functions by eta are:\n",
      "[0.25*xi - 0.25, -0.25*xi - 0.25, 0.25*xi + 0.25, 0.25 - 0.25*xi]\n"
     ]
    }
   ],
   "execution_count": 27
  },
  {
   "metadata": {},
   "cell_type": "markdown",
   "source": "### Example of the shape functions",
   "id": "84089b145749db51"
  },
  {
   "metadata": {
    "ExecuteTime": {
     "end_time": "2025-07-01T10:51:57.082727Z",
     "start_time": "2025-07-01T10:51:57.065316Z"
    }
   },
   "cell_type": "code",
   "source": [
    "# Evaluate the shape functions at xi=0, eta=0\n",
    "shape_funcs_at = shape_functions()\n",
    "print(\"Shape functions at xi=0, eta=0:\")\n",
    "\n",
    "for i, sf in enumerate(shape_funcs_at):\n",
    "    print(f\"N{i+1} = {sf.subs({XI: 0, ETA: 0})}\")\n",
    "\n",
    "print()\n",
    "shape_funcs_at = shape_functions()\n",
    "print(\"Shape functions at xi=1, eta=1:\")\n",
    "for i, sf in enumerate(shape_funcs_at):\n",
    "    print(f\"N{i+1} = {sf.subs({XI: 1, ETA: 1})}\")\n"
   ],
   "id": "a359b45beffb2893",
   "outputs": [
    {
     "name": "stdout",
     "output_type": "stream",
     "text": [
      "Shape functions at xi=0, eta=0:\n",
      "N1 = 0.250000000000000\n",
      "N2 = 0.250000000000000\n",
      "N3 = 0.250000000000000\n",
      "N4 = 0.250000000000000\n",
      "\n",
      "Shape functions at xi=1, eta=1:\n",
      "N1 = 0\n",
      "N2 = 0\n",
      "N3 = 1.00000000000000\n",
      "N4 = 0\n"
     ]
    }
   ],
   "execution_count": 29
  },
  {
   "metadata": {},
   "cell_type": "markdown",
   "source": [
    "### The shape function matrix\n",
    "\n",
    "The shape function matrix $N$ is a matrix that contains the shape functions for each node. It has the structure:\n",
    "$$\n",
    "N = \\begin{bmatrix}\n",
    "N_1 & 0 & 0 & N_2 & 0 & 0 & N_3 & 0 & 0 & N_4 & 0 & 0 \\\\\n",
    "0 & N_1 & 0 & 0 & N_2 & 0 & 0 & N_3 & 0 & 0 & N_4 & 0\\\\\n",
    "0 & 0 & N_1 & 0 & 0 & N_2 & 0 & 0 & N_3 & 0 & 0 & N_4\n",
    "\\end{bmatrix}\n",
    "$$"
   ],
   "id": "ae1f8ad3ff0a9410"
  },
  {
   "metadata": {
    "ExecuteTime": {
     "end_time": "2025-07-01T10:55:55.478331Z",
     "start_time": "2025-07-01T10:55:55.457310Z"
    }
   },
   "cell_type": "code",
   "source": [
    "def N() -> np.array:\n",
    "    \"\"\"\n",
    "    shape function matrix N.\n",
    "    It has the structure:\n",
    "    [[N1, 0, 0, N2, 0, 0, N3, 0, 0, N4, 0, 0],\n",
    "     [0, N1, 0, 0, N2, 0, 0, N3, 0, 0, N4],\n",
    "     [0, 0, N1, 0, 0, N2, 0, 0, N3, 0, 0]]\n",
    "\n",
    "    \"\"\"\n",
    "    _N = shape_functions()  # the shape functions\n",
    "\n",
    "    # preparing the return matrix\n",
    "    _ret = sp.Matrix(ND, ND * NNODE, lambda i, j: 0)  # ND rows, ND * NNODE columns\n",
    "\n",
    "    # filling the matrix\n",
    "    for i in range(NNODE):\n",
    "        for j in range(ND):\n",
    "            _ret[j, j + ND * i] = _N[i]\n",
    "\n",
    "    return _ret\n",
    "\n",
    "print(\"The shape function matrix N is:\")\n",
    "sp.pprint(N())"
   ],
   "id": "8264f199866d37ec",
   "outputs": [
    {
     "name": "stdout",
     "output_type": "stream",
     "text": [
      "The shape function matrix N is:\n",
      "⎡(0.25 - 0.25⋅ξ)⋅(1 - η)             0                        0             (1 ↪\n",
      "⎢                                                                              ↪\n",
      "⎢           0             (0.25 - 0.25⋅ξ)⋅(1 - η)             0                ↪\n",
      "⎢                                                                              ↪\n",
      "⎣           0                        0             (0.25 - 0.25⋅ξ)⋅(1 - η)     ↪\n",
      "\n",
      "↪  - η)⋅(0.25⋅ξ + 0.25)             0                        0             (η  ↪\n",
      "↪                                                                              ↪\n",
      "↪          0             (1 - η)⋅(0.25⋅ξ + 0.25)             0                 ↪\n",
      "↪                                                                              ↪\n",
      "↪          0                        0             (1 - η)⋅(0.25⋅ξ + 0.25)      ↪\n",
      "\n",
      "↪ + 1)⋅(0.25⋅ξ + 0.25)             0                        0             (0.2 ↪\n",
      "↪                                                                              ↪\n",
      "↪         0             (η + 1)⋅(0.25⋅ξ + 0.25)             0                  ↪\n",
      "↪                                                                              ↪\n",
      "↪         0                        0             (η + 1)⋅(0.25⋅ξ + 0.25)       ↪\n",
      "\n",
      "↪ 5 - 0.25⋅ξ)⋅(η + 1)             0                        0           ⎤\n",
      "↪                                                                      ⎥\n",
      "↪        0             (0.25 - 0.25⋅ξ)⋅(η + 1)             0           ⎥\n",
      "↪                                                                      ⎥\n",
      "↪        0                        0             (0.25 - 0.25⋅ξ)⋅(η + 1)⎦\n"
     ]
    }
   ],
   "execution_count": 40
  },
  {
   "metadata": {},
   "cell_type": "markdown",
   "source": "### The shape function matrix with values substituted",
   "id": "dd8910c2147c58de"
  },
  {
   "metadata": {
    "ExecuteTime": {
     "end_time": "2025-07-01T10:55:47.502941Z",
     "start_time": "2025-07-01T10:55:47.480243Z"
    }
   },
   "cell_type": "code",
   "source": [
    "# Evaluate the shape function matrix at xi=0.5, eta=1.0\n",
    "shape_function_matrix = N().subs({XI: 0.5, ETA: 1.0})\n",
    "print(\"Shape function matrix N at xi=0.5, eta=1.0:\")\n",
    "sp.pprint(shape_function_matrix)"
   ],
   "id": "f7e3fe8b891e5765",
   "outputs": [
    {
     "name": "stdout",
     "output_type": "stream",
     "text": [
      "Matrix([[0, 0, 0, 0, 0, 0, 0, 0, 0, 0, 0, 0], [0, 0, 0, 0, 0, 0, 0, 0, 0, 0, 0, 0], [0, 0, 0, 0, 0, 0, 0, 0, 0, 0, 0, 0]])\n",
      "Shape function matrix N at xi=0.5, eta=1.0:\n",
      "⎡0  0  0  0  0  0  0.75   0     0    0.25   0     0  ⎤\n",
      "⎢                                                    ⎥\n",
      "⎢0  0  0  0  0  0   0    0.75   0     0    0.25   0  ⎥\n",
      "⎢                                                    ⎥\n",
      "⎣0  0  0  0  0  0   0     0    0.75   0     0    0.25⎦\n"
     ]
    }
   ],
   "execution_count": 39
  },
  {
   "metadata": {},
   "cell_type": "markdown",
   "source": [
    "### The jacobian matrix\n",
    "\n",
    "The jacobian matrix does the following:\n",
    "- maps the natural coordinates (xi, eta) to the physical coordinates (x, y) as it a measure how the physical coordinates change when the natural coordinates change.\n",
    "- it is used to transform the derivatives of the shape functions from the natural coordinates to the physical coordinates using the chain rule.\n",
    "\n",
    "So the jacobian is constructed using the chain rule, from the derivatives of the mapping between the global and the local system, and its value depends on the physical coordinates. The Jacobian changes within the element because the mapping from the natural coordinates (xi, eta) to the physical coordinates (x, y) is not necessarily linear. The derivatives of the mapping functions (x_map, y_map) with respect to xi and eta (which form the Jacobian) depend on the shape and distortion of the element in physical space. Since xi and eta vary across the element, the derivatives, and thus the Jacobian, also vary.\n",
    "\n",
    "$$J = \\begin{bmatrix}\n",
    "\\frac{\\partial x}{\\partial \\xi} & \\frac{\\partial y}{\\partial \\xi} \\\\\n",
    "\\frac{\\partial x}{\\partial \\eta} & \\frac{\\partial y}{\\partial \\eta}\n",
    "\\end{bmatrix}$$\n",
    "\n",
    "The chain rule for derivation is:\n",
    "\n",
    "$$\\begin{bmatrix}\n",
    "\\frac{\\partial}{\\partial \\xi} \\\\\n",
    "\\frac{\\partial}{\\partial \\eta}\n",
    "\\end{bmatrix}\n",
    "=\n",
    "\\begin{bmatrix}\n",
    "\\frac{\\partial x}{\\partial \\xi} & \\frac{\\partial y}{\\partial \\xi} \\\\\n",
    "\\frac{\\partial x}{\\partial \\eta} & \\frac{\\partial y}{\\partial \\eta}\n",
    "\\end{bmatrix}\n",
    "\\begin{bmatrix}\n",
    "\\frac{\\partial}{\\partial x} \\\\\n",
    "\\frac{\\partial}{\\partial y}\n",
    "\\end{bmatrix}\n",
    "= J\n",
    "\\begin{bmatrix}\n",
    "\\frac{\\partial}{\\partial x} \\\\\n",
    "\\frac{\\partial}{\\partial y}\n",
    "\\end{bmatrix}$$\n",
    "\n",
    "To express the derivatives with respect to $x$ and $y$ in terms of $\\xi$ and $\\eta$, you would use the inverse of the Jacobian:\n",
    "\n",
    "$$\n",
    "\\begin{bmatrix}\n",
    "\\frac{\\partial}{\\partial x} \\\\\n",
    "\\frac{\\partial}{\\partial y}\n",
    "\\end{bmatrix}\n",
    "= J^{-1}\n",
    "\\begin{bmatrix}\n",
    "\\frac{\\partial}{\\partial \\xi} \\\\\n",
    "\\frac{\\partial}{\\partial \\eta}\n",
    "\\end{bmatrix}\n",
    "$$\n",
    "\n",
    "$$J^{-1} = \\begin{bmatrix}\n",
    "\\frac{\\partial \\xi}{\\partial x} & \\frac{\\partial \\xi}{\\partial y} \\\\\n",
    "\\frac{\\partial \\eta}{\\partial x} & \\frac{\\partial \\eta}{\\partial y}\n",
    "\\end{bmatrix}$$\n",
    "\n",
    "The determinant of the jacobian is used to account for the change of the element area when transforming from the natural to the physical coordinates."
   ],
   "id": "e7713fbc9759c7d2"
  },
  {
   "metadata": {
    "ExecuteTime": {
     "end_time": "2025-07-01T10:46:47.051430200Z",
     "start_time": "2025-07-01T10:26:58.766710Z"
    }
   },
   "cell_type": "code",
   "source": [
    "def jacobian() -> np.array:\n",
    "    \"\"\"\n",
    "    Calculate the jacobian matrix for the isoparametric mapping.\n",
    "    \"\"\"\n",
    "    # Calculate the derivatives\n",
    "    dx_dxi = sp.diff(x_map, XI)\n",
    "    dy_dxi = sp.diff(y_map, XI)\n",
    "    dx_deta = sp.diff(x_map, ETA)\n",
    "    dy_deta = sp.diff(y_map, ETA)\n",
    "\n",
    "    return sp.Matrix([[dx_dxi, dy_dxi],\n",
    "                      [dx_deta, dy_deta]])\n",
    "\n",
    "# Calculate the jacobian matrix symbolically\n",
    "J = jacobian()\n",
    "\n",
    "# Substitute the symbolic coordinates with numerical values in the Jacobian\n",
    "J_substituted = J.subs(coordinate_values)\n",
    "\n",
    "print('The jacobian matrix with coordinate values substituted is:')\n",
    "sp.pprint(J_substituted)\n",
    "print()\n",
    "\n",
    "# Evaluate the jacobian matrix at all nodes\n",
    "for xi_eval in [-1, 0, 1]:\n",
    "    for eta_eval in [-1, 0, 1]:\n",
    "        J_evaluated = J_substituted.subs({XI: xi_eval, ETA: eta_eval})\n",
    "        print(f'Jacobian matrix at xi={xi_eval}, eta={eta_eval}:')\n",
    "        sp.pprint(J_evaluated)\n",
    "        print(f'The determinant at this point is |J|={J_evaluated.det():.2f}')\n",
    "        print()\n"
   ],
   "id": "8ccf52ebcbd48fc7",
   "outputs": [
    {
     "name": "stdout",
     "output_type": "stream",
     "text": [
      "The jacobian matrix with coordinate values substituted is:\n",
      "⎡1.875 - 0.375⋅η  0.375 - 0.275⋅η⎤\n",
      "⎢                                ⎥\n",
      "⎣0.125 - 0.375⋅ξ  1.225 - 0.275⋅ξ⎦\n",
      "\n",
      "Jacobian matrix at xi=-1, eta=-1:\n",
      "⎡2.25  0.65⎤\n",
      "⎢          ⎥\n",
      "⎣0.5   1.5 ⎦\n",
      "The determinant at this point is |J|=3.05\n",
      "\n",
      "Jacobian matrix at xi=-1, eta=0:\n",
      "⎡1.875  0.375⎤\n",
      "⎢            ⎥\n",
      "⎣ 0.5    1.5 ⎦\n",
      "The determinant at this point is |J|=2.62\n",
      "\n",
      "Jacobian matrix at xi=-1, eta=1:\n",
      "⎡1.5  0.1⎤\n",
      "⎢        ⎥\n",
      "⎣0.5  1.5⎦\n",
      "The determinant at this point is |J|=2.20\n",
      "\n",
      "Jacobian matrix at xi=0, eta=-1:\n",
      "⎡2.25   0.65 ⎤\n",
      "⎢            ⎥\n",
      "⎣0.125  1.225⎦\n",
      "The determinant at this point is |J|=2.68\n",
      "\n",
      "Jacobian matrix at xi=0, eta=0:\n",
      "⎡1.875  0.375⎤\n",
      "⎢            ⎥\n",
      "⎣0.125  1.225⎦\n",
      "The determinant at this point is |J|=2.25\n",
      "\n",
      "Jacobian matrix at xi=0, eta=1:\n",
      "⎡ 1.5    0.1 ⎤\n",
      "⎢            ⎥\n",
      "⎣0.125  1.225⎦\n",
      "The determinant at this point is |J|=1.82\n",
      "\n",
      "Jacobian matrix at xi=1, eta=-1:\n",
      "⎡2.25   0.65⎤\n",
      "⎢           ⎥\n",
      "⎣-0.25  0.95⎦\n",
      "The determinant at this point is |J|=2.30\n",
      "\n",
      "Jacobian matrix at xi=1, eta=0:\n",
      "⎡1.875  0.375⎤\n",
      "⎢            ⎥\n",
      "⎣-0.25  0.95 ⎦\n",
      "The determinant at this point is |J|=1.88\n",
      "\n",
      "Jacobian matrix at xi=1, eta=1:\n",
      "⎡ 1.5   0.1 ⎤\n",
      "⎢           ⎥\n",
      "⎣-0.25  0.95⎦\n",
      "The determinant at this point is |J|=1.45\n",
      "\n"
     ]
    }
   ],
   "execution_count": 9
  },
  {
   "metadata": {},
   "cell_type": "markdown",
   "source": "### Visualizing the determinant of the jacobian",
   "id": "e0170106c7d80560"
  },
  {
   "metadata": {
    "ExecuteTime": {
     "end_time": "2025-07-01T10:46:47.051430200Z",
     "start_time": "2025-07-01T10:27:21.716834Z"
    }
   },
   "cell_type": "code",
   "source": [
    "%matplotlib notebook\n",
    "\n",
    "# Calculate the determinant of the Jacobian\n",
    "J_det = J.det()\n",
    "\n",
    "# Substitute the symbolic coordinates with numerical values in the Jacobian\n",
    "J_det_substituted = J_det.subs(coordinate_values)\n",
    "\n",
    "# Create a function to evaluate the determinant for given xi and eta\n",
    "J_det_func = sp.lambdify((XI, ETA), J_det_substituted)\n",
    "\n",
    "# Create a grid of xi and eta values\n",
    "xi_vals = np.linspace(-1, 1, 50)\n",
    "eta_vals = np.linspace(-1, 1, 50)\n",
    "xi_grid, eta_grid = np.meshgrid(xi_vals, eta_vals)\n",
    "\n",
    "# Evaluate the determinant on the grid\n",
    "det_values = J_det_func(xi_grid, eta_grid)\n",
    "\n",
    "# Map xi and eta values to x and y coordinates\n",
    "x_vals = sp.lambdify((XI, ETA), x_map.subs(coordinate_values))(xi_grid, eta_grid)\n",
    "y_vals = sp.lambdify((XI, ETA), y_map.subs(coordinate_values))(xi_grid, eta_grid)\n",
    "\n",
    "# move the physical element so the centroid is at 0, 0\n",
    "x_vals -= np.mean([x1_val, x2_val, x3_val, x4_val])\n",
    "y_vals -= np.mean([y1_val, y2_val, y3_val, y4_val])\n",
    "\n",
    "# Create the contour plot\n",
    "plt.figure()\n",
    "contour = plt.contourf(x_vals, y_vals, det_values, levels=50, cmap='viridis')\n",
    "\n",
    "# plot the natural element shape, too\n",
    "plt.plot([-1, 1, 1, -1, -1], [-1, -1, 1, 1, -1], 'k--', label='Natural Element Shape')\n",
    "\n",
    "plt.colorbar(contour, label='det(J)')\n",
    "plt.xlabel('xi')\n",
    "plt.ylabel('eta')\n",
    "plt.axis('equal')\n",
    "plt.show()"
   ],
   "id": "2ce3606b1af07f8f",
   "outputs": [
    {
     "data": {
      "text/plain": [
       "<IPython.core.display.Javascript object>"
      ],
      "application/javascript": "/* Put everything inside the global mpl namespace */\n/* global mpl */\nwindow.mpl = {};\n\nmpl.get_websocket_type = function () {\n    if (typeof WebSocket !== 'undefined') {\n        return WebSocket;\n    } else if (typeof MozWebSocket !== 'undefined') {\n        return MozWebSocket;\n    } else {\n        alert(\n            'Your browser does not have WebSocket support. ' +\n                'Please try Chrome, Safari or Firefox ≥ 6. ' +\n                'Firefox 4 and 5 are also supported but you ' +\n                'have to enable WebSockets in about:config.'\n        );\n    }\n};\n\nmpl.figure = function (figure_id, websocket, ondownload, parent_element) {\n    this.id = figure_id;\n\n    this.ws = websocket;\n\n    this.supports_binary = this.ws.binaryType !== undefined;\n\n    if (!this.supports_binary) {\n        var warnings = document.getElementById('mpl-warnings');\n        if (warnings) {\n            warnings.style.display = 'block';\n            warnings.textContent =\n                'This browser does not support binary websocket messages. ' +\n                'Performance may be slow.';\n        }\n    }\n\n    this.imageObj = new Image();\n\n    this.context = undefined;\n    this.message = undefined;\n    this.canvas = undefined;\n    this.rubberband_canvas = undefined;\n    this.rubberband_context = undefined;\n    this.format_dropdown = undefined;\n\n    this.image_mode = 'full';\n\n    this.root = document.createElement('div');\n    this.root.setAttribute('style', 'display: inline-block');\n    this._root_extra_style(this.root);\n\n    parent_element.appendChild(this.root);\n\n    this._init_header(this);\n    this._init_canvas(this);\n    this._init_toolbar(this);\n\n    var fig = this;\n\n    this.waiting = false;\n\n    this.ws.onopen = function () {\n        fig.send_message('supports_binary', { value: fig.supports_binary });\n        fig.send_message('send_image_mode', {});\n        if (fig.ratio !== 1) {\n            fig.send_message('set_device_pixel_ratio', {\n                device_pixel_ratio: fig.ratio,\n            });\n        }\n        fig.send_message('refresh', {});\n    };\n\n    this.imageObj.onload = function () {\n        if (fig.image_mode === 'full') {\n            // Full images could contain transparency (where diff images\n            // almost always do), so we need to clear the canvas so that\n            // there is no ghosting.\n            fig.context.clearRect(0, 0, fig.canvas.width, fig.canvas.height);\n        }\n        fig.context.drawImage(fig.imageObj, 0, 0);\n    };\n\n    this.imageObj.onunload = function () {\n        fig.ws.close();\n    };\n\n    this.ws.onmessage = this._make_on_message_function(this);\n\n    this.ondownload = ondownload;\n};\n\nmpl.figure.prototype._init_header = function () {\n    var titlebar = document.createElement('div');\n    titlebar.classList =\n        'ui-dialog-titlebar ui-widget-header ui-corner-all ui-helper-clearfix';\n    var titletext = document.createElement('div');\n    titletext.classList = 'ui-dialog-title';\n    titletext.setAttribute(\n        'style',\n        'width: 100%; text-align: center; padding: 3px;'\n    );\n    titlebar.appendChild(titletext);\n    this.root.appendChild(titlebar);\n    this.header = titletext;\n};\n\nmpl.figure.prototype._canvas_extra_style = function (_canvas_div) {};\n\nmpl.figure.prototype._root_extra_style = function (_canvas_div) {};\n\nmpl.figure.prototype._init_canvas = function () {\n    var fig = this;\n\n    var canvas_div = (this.canvas_div = document.createElement('div'));\n    canvas_div.setAttribute('tabindex', '0');\n    canvas_div.setAttribute(\n        'style',\n        'border: 1px solid #ddd;' +\n            'box-sizing: content-box;' +\n            'clear: both;' +\n            'min-height: 1px;' +\n            'min-width: 1px;' +\n            'outline: 0;' +\n            'overflow: hidden;' +\n            'position: relative;' +\n            'resize: both;' +\n            'z-index: 2;'\n    );\n\n    function on_keyboard_event_closure(name) {\n        return function (event) {\n            return fig.key_event(event, name);\n        };\n    }\n\n    canvas_div.addEventListener(\n        'keydown',\n        on_keyboard_event_closure('key_press')\n    );\n    canvas_div.addEventListener(\n        'keyup',\n        on_keyboard_event_closure('key_release')\n    );\n\n    this._canvas_extra_style(canvas_div);\n    this.root.appendChild(canvas_div);\n\n    var canvas = (this.canvas = document.createElement('canvas'));\n    canvas.classList.add('mpl-canvas');\n    canvas.setAttribute(\n        'style',\n        'box-sizing: content-box;' +\n            'pointer-events: none;' +\n            'position: relative;' +\n            'z-index: 0;'\n    );\n\n    this.context = canvas.getContext('2d');\n\n    var backingStore =\n        this.context.backingStorePixelRatio ||\n        this.context.webkitBackingStorePixelRatio ||\n        this.context.mozBackingStorePixelRatio ||\n        this.context.msBackingStorePixelRatio ||\n        this.context.oBackingStorePixelRatio ||\n        this.context.backingStorePixelRatio ||\n        1;\n\n    this.ratio = (window.devicePixelRatio || 1) / backingStore;\n\n    var rubberband_canvas = (this.rubberband_canvas = document.createElement(\n        'canvas'\n    ));\n    rubberband_canvas.setAttribute(\n        'style',\n        'box-sizing: content-box;' +\n            'left: 0;' +\n            'pointer-events: none;' +\n            'position: absolute;' +\n            'top: 0;' +\n            'z-index: 1;'\n    );\n\n    // Apply a ponyfill if ResizeObserver is not implemented by browser.\n    if (this.ResizeObserver === undefined) {\n        if (window.ResizeObserver !== undefined) {\n            this.ResizeObserver = window.ResizeObserver;\n        } else {\n            var obs = _JSXTOOLS_RESIZE_OBSERVER({});\n            this.ResizeObserver = obs.ResizeObserver;\n        }\n    }\n\n    this.resizeObserverInstance = new this.ResizeObserver(function (entries) {\n        // There's no need to resize if the WebSocket is not connected:\n        // - If it is still connecting, then we will get an initial resize from\n        //   Python once it connects.\n        // - If it has disconnected, then resizing will clear the canvas and\n        //   never get anything back to refill it, so better to not resize and\n        //   keep something visible.\n        if (fig.ws.readyState != 1) {\n            return;\n        }\n        var nentries = entries.length;\n        for (var i = 0; i < nentries; i++) {\n            var entry = entries[i];\n            var width, height;\n            if (entry.contentBoxSize) {\n                if (entry.contentBoxSize instanceof Array) {\n                    // Chrome 84 implements new version of spec.\n                    width = entry.contentBoxSize[0].inlineSize;\n                    height = entry.contentBoxSize[0].blockSize;\n                } else {\n                    // Firefox implements old version of spec.\n                    width = entry.contentBoxSize.inlineSize;\n                    height = entry.contentBoxSize.blockSize;\n                }\n            } else {\n                // Chrome <84 implements even older version of spec.\n                width = entry.contentRect.width;\n                height = entry.contentRect.height;\n            }\n\n            // Keep the size of the canvas and rubber band canvas in sync with\n            // the canvas container.\n            if (entry.devicePixelContentBoxSize) {\n                // Chrome 84 implements new version of spec.\n                canvas.setAttribute(\n                    'width',\n                    entry.devicePixelContentBoxSize[0].inlineSize\n                );\n                canvas.setAttribute(\n                    'height',\n                    entry.devicePixelContentBoxSize[0].blockSize\n                );\n            } else {\n                canvas.setAttribute('width', width * fig.ratio);\n                canvas.setAttribute('height', height * fig.ratio);\n            }\n            /* This rescales the canvas back to display pixels, so that it\n             * appears correct on HiDPI screens. */\n            canvas.style.width = width + 'px';\n            canvas.style.height = height + 'px';\n\n            rubberband_canvas.setAttribute('width', width);\n            rubberband_canvas.setAttribute('height', height);\n\n            // And update the size in Python. We ignore the initial 0/0 size\n            // that occurs as the element is placed into the DOM, which should\n            // otherwise not happen due to the minimum size styling.\n            if (width != 0 && height != 0) {\n                fig.request_resize(width, height);\n            }\n        }\n    });\n    this.resizeObserverInstance.observe(canvas_div);\n\n    function on_mouse_event_closure(name) {\n        /* User Agent sniffing is bad, but WebKit is busted:\n         * https://bugs.webkit.org/show_bug.cgi?id=144526\n         * https://bugs.webkit.org/show_bug.cgi?id=181818\n         * The worst that happens here is that they get an extra browser\n         * selection when dragging, if this check fails to catch them.\n         */\n        var UA = navigator.userAgent;\n        var isWebKit = /AppleWebKit/.test(UA) && !/Chrome/.test(UA);\n        if(isWebKit) {\n            return function (event) {\n                /* This prevents the web browser from automatically changing to\n                 * the text insertion cursor when the button is pressed. We\n                 * want to control all of the cursor setting manually through\n                 * the 'cursor' event from matplotlib */\n                event.preventDefault()\n                return fig.mouse_event(event, name);\n            };\n        } else {\n            return function (event) {\n                return fig.mouse_event(event, name);\n            };\n        }\n    }\n\n    canvas_div.addEventListener(\n        'mousedown',\n        on_mouse_event_closure('button_press')\n    );\n    canvas_div.addEventListener(\n        'mouseup',\n        on_mouse_event_closure('button_release')\n    );\n    canvas_div.addEventListener(\n        'dblclick',\n        on_mouse_event_closure('dblclick')\n    );\n    // Throttle sequential mouse events to 1 every 20ms.\n    canvas_div.addEventListener(\n        'mousemove',\n        on_mouse_event_closure('motion_notify')\n    );\n\n    canvas_div.addEventListener(\n        'mouseenter',\n        on_mouse_event_closure('figure_enter')\n    );\n    canvas_div.addEventListener(\n        'mouseleave',\n        on_mouse_event_closure('figure_leave')\n    );\n\n    canvas_div.addEventListener('wheel', function (event) {\n        if (event.deltaY < 0) {\n            event.step = 1;\n        } else {\n            event.step = -1;\n        }\n        on_mouse_event_closure('scroll')(event);\n    });\n\n    canvas_div.appendChild(canvas);\n    canvas_div.appendChild(rubberband_canvas);\n\n    this.rubberband_context = rubberband_canvas.getContext('2d');\n    this.rubberband_context.strokeStyle = '#000000';\n\n    this._resize_canvas = function (width, height, forward) {\n        if (forward) {\n            canvas_div.style.width = width + 'px';\n            canvas_div.style.height = height + 'px';\n        }\n    };\n\n    // Disable right mouse context menu.\n    canvas_div.addEventListener('contextmenu', function (_e) {\n        event.preventDefault();\n        return false;\n    });\n\n    function set_focus() {\n        canvas.focus();\n        canvas_div.focus();\n    }\n\n    window.setTimeout(set_focus, 100);\n};\n\nmpl.figure.prototype._init_toolbar = function () {\n    var fig = this;\n\n    var toolbar = document.createElement('div');\n    toolbar.classList = 'mpl-toolbar';\n    this.root.appendChild(toolbar);\n\n    function on_click_closure(name) {\n        return function (_event) {\n            return fig.toolbar_button_onclick(name);\n        };\n    }\n\n    function on_mouseover_closure(tooltip) {\n        return function (event) {\n            if (!event.currentTarget.disabled) {\n                return fig.toolbar_button_onmouseover(tooltip);\n            }\n        };\n    }\n\n    fig.buttons = {};\n    var buttonGroup = document.createElement('div');\n    buttonGroup.classList = 'mpl-button-group';\n    for (var toolbar_ind in mpl.toolbar_items) {\n        var name = mpl.toolbar_items[toolbar_ind][0];\n        var tooltip = mpl.toolbar_items[toolbar_ind][1];\n        var image = mpl.toolbar_items[toolbar_ind][2];\n        var method_name = mpl.toolbar_items[toolbar_ind][3];\n\n        if (!name) {\n            /* Instead of a spacer, we start a new button group. */\n            if (buttonGroup.hasChildNodes()) {\n                toolbar.appendChild(buttonGroup);\n            }\n            buttonGroup = document.createElement('div');\n            buttonGroup.classList = 'mpl-button-group';\n            continue;\n        }\n\n        var button = (fig.buttons[name] = document.createElement('button'));\n        button.classList = 'mpl-widget';\n        button.setAttribute('role', 'button');\n        button.setAttribute('aria-disabled', 'false');\n        button.addEventListener('click', on_click_closure(method_name));\n        button.addEventListener('mouseover', on_mouseover_closure(tooltip));\n\n        var icon_img = document.createElement('img');\n        icon_img.src = '_images/' + image + '.png';\n        icon_img.srcset = '_images/' + image + '_large.png 2x';\n        icon_img.alt = tooltip;\n        button.appendChild(icon_img);\n\n        buttonGroup.appendChild(button);\n    }\n\n    if (buttonGroup.hasChildNodes()) {\n        toolbar.appendChild(buttonGroup);\n    }\n\n    var fmt_picker = document.createElement('select');\n    fmt_picker.classList = 'mpl-widget';\n    toolbar.appendChild(fmt_picker);\n    this.format_dropdown = fmt_picker;\n\n    for (var ind in mpl.extensions) {\n        var fmt = mpl.extensions[ind];\n        var option = document.createElement('option');\n        option.selected = fmt === mpl.default_extension;\n        option.innerHTML = fmt;\n        fmt_picker.appendChild(option);\n    }\n\n    var status_bar = document.createElement('span');\n    status_bar.classList = 'mpl-message';\n    toolbar.appendChild(status_bar);\n    this.message = status_bar;\n};\n\nmpl.figure.prototype.request_resize = function (x_pixels, y_pixels) {\n    // Request matplotlib to resize the figure. Matplotlib will then trigger a resize in the client,\n    // which will in turn request a refresh of the image.\n    this.send_message('resize', { width: x_pixels, height: y_pixels });\n};\n\nmpl.figure.prototype.send_message = function (type, properties) {\n    properties['type'] = type;\n    properties['figure_id'] = this.id;\n    this.ws.send(JSON.stringify(properties));\n};\n\nmpl.figure.prototype.send_draw_message = function () {\n    if (!this.waiting) {\n        this.waiting = true;\n        this.ws.send(JSON.stringify({ type: 'draw', figure_id: this.id }));\n    }\n};\n\nmpl.figure.prototype.handle_save = function (fig, _msg) {\n    var format_dropdown = fig.format_dropdown;\n    var format = format_dropdown.options[format_dropdown.selectedIndex].value;\n    fig.ondownload(fig, format);\n};\n\nmpl.figure.prototype.handle_resize = function (fig, msg) {\n    var size = msg['size'];\n    if (size[0] !== fig.canvas.width || size[1] !== fig.canvas.height) {\n        fig._resize_canvas(size[0], size[1], msg['forward']);\n        fig.send_message('refresh', {});\n    }\n};\n\nmpl.figure.prototype.handle_rubberband = function (fig, msg) {\n    var x0 = msg['x0'] / fig.ratio;\n    var y0 = (fig.canvas.height - msg['y0']) / fig.ratio;\n    var x1 = msg['x1'] / fig.ratio;\n    var y1 = (fig.canvas.height - msg['y1']) / fig.ratio;\n    x0 = Math.floor(x0) + 0.5;\n    y0 = Math.floor(y0) + 0.5;\n    x1 = Math.floor(x1) + 0.5;\n    y1 = Math.floor(y1) + 0.5;\n    var min_x = Math.min(x0, x1);\n    var min_y = Math.min(y0, y1);\n    var width = Math.abs(x1 - x0);\n    var height = Math.abs(y1 - y0);\n\n    fig.rubberband_context.clearRect(\n        0,\n        0,\n        fig.canvas.width / fig.ratio,\n        fig.canvas.height / fig.ratio\n    );\n\n    fig.rubberband_context.strokeRect(min_x, min_y, width, height);\n};\n\nmpl.figure.prototype.handle_figure_label = function (fig, msg) {\n    // Updates the figure title.\n    fig.header.textContent = msg['label'];\n};\n\nmpl.figure.prototype.handle_cursor = function (fig, msg) {\n    fig.canvas_div.style.cursor = msg['cursor'];\n};\n\nmpl.figure.prototype.handle_message = function (fig, msg) {\n    fig.message.textContent = msg['message'];\n};\n\nmpl.figure.prototype.handle_draw = function (fig, _msg) {\n    // Request the server to send over a new figure.\n    fig.send_draw_message();\n};\n\nmpl.figure.prototype.handle_image_mode = function (fig, msg) {\n    fig.image_mode = msg['mode'];\n};\n\nmpl.figure.prototype.handle_history_buttons = function (fig, msg) {\n    for (var key in msg) {\n        if (!(key in fig.buttons)) {\n            continue;\n        }\n        fig.buttons[key].disabled = !msg[key];\n        fig.buttons[key].setAttribute('aria-disabled', !msg[key]);\n    }\n};\n\nmpl.figure.prototype.handle_navigate_mode = function (fig, msg) {\n    if (msg['mode'] === 'PAN') {\n        fig.buttons['Pan'].classList.add('active');\n        fig.buttons['Zoom'].classList.remove('active');\n    } else if (msg['mode'] === 'ZOOM') {\n        fig.buttons['Pan'].classList.remove('active');\n        fig.buttons['Zoom'].classList.add('active');\n    } else {\n        fig.buttons['Pan'].classList.remove('active');\n        fig.buttons['Zoom'].classList.remove('active');\n    }\n};\n\nmpl.figure.prototype.updated_canvas_event = function () {\n    // Called whenever the canvas gets updated.\n    this.send_message('ack', {});\n};\n\n// A function to construct a web socket function for onmessage handling.\n// Called in the figure constructor.\nmpl.figure.prototype._make_on_message_function = function (fig) {\n    return function socket_on_message(evt) {\n        if (evt.data instanceof Blob) {\n            var img = evt.data;\n            if (img.type !== 'image/png') {\n                /* FIXME: We get \"Resource interpreted as Image but\n                 * transferred with MIME type text/plain:\" errors on\n                 * Chrome.  But how to set the MIME type?  It doesn't seem\n                 * to be part of the websocket stream */\n                img.type = 'image/png';\n            }\n\n            /* Free the memory for the previous frames */\n            if (fig.imageObj.src) {\n                (window.URL || window.webkitURL).revokeObjectURL(\n                    fig.imageObj.src\n                );\n            }\n\n            fig.imageObj.src = (window.URL || window.webkitURL).createObjectURL(\n                img\n            );\n            fig.updated_canvas_event();\n            fig.waiting = false;\n            return;\n        } else if (\n            typeof evt.data === 'string' &&\n            evt.data.slice(0, 21) === 'data:image/png;base64'\n        ) {\n            fig.imageObj.src = evt.data;\n            fig.updated_canvas_event();\n            fig.waiting = false;\n            return;\n        }\n\n        var msg = JSON.parse(evt.data);\n        var msg_type = msg['type'];\n\n        // Call the  \"handle_{type}\" callback, which takes\n        // the figure and JSON message as its only arguments.\n        try {\n            var callback = fig['handle_' + msg_type];\n        } catch (e) {\n            console.log(\n                \"No handler for the '\" + msg_type + \"' message type: \",\n                msg\n            );\n            return;\n        }\n\n        if (callback) {\n            try {\n                // console.log(\"Handling '\" + msg_type + \"' message: \", msg);\n                callback(fig, msg);\n            } catch (e) {\n                console.log(\n                    \"Exception inside the 'handler_\" + msg_type + \"' callback:\",\n                    e,\n                    e.stack,\n                    msg\n                );\n            }\n        }\n    };\n};\n\nfunction getModifiers(event) {\n    var mods = [];\n    if (event.ctrlKey) {\n        mods.push('ctrl');\n    }\n    if (event.altKey) {\n        mods.push('alt');\n    }\n    if (event.shiftKey) {\n        mods.push('shift');\n    }\n    if (event.metaKey) {\n        mods.push('meta');\n    }\n    return mods;\n}\n\n/*\n * return a copy of an object with only non-object keys\n * we need this to avoid circular references\n * https://stackoverflow.com/a/24161582/3208463\n */\nfunction simpleKeys(original) {\n    return Object.keys(original).reduce(function (obj, key) {\n        if (typeof original[key] !== 'object') {\n            obj[key] = original[key];\n        }\n        return obj;\n    }, {});\n}\n\nmpl.figure.prototype.mouse_event = function (event, name) {\n    if (name === 'button_press') {\n        this.canvas.focus();\n        this.canvas_div.focus();\n    }\n\n    // from https://stackoverflow.com/q/1114465\n    var boundingRect = this.canvas.getBoundingClientRect();\n    var x = (event.clientX - boundingRect.left) * this.ratio;\n    var y = (event.clientY - boundingRect.top) * this.ratio;\n\n    this.send_message(name, {\n        x: x,\n        y: y,\n        button: event.button,\n        step: event.step,\n        buttons: event.buttons,\n        modifiers: getModifiers(event),\n        guiEvent: simpleKeys(event),\n    });\n\n    return false;\n};\n\nmpl.figure.prototype._key_event_extra = function (_event, _name) {\n    // Handle any extra behaviour associated with a key event\n};\n\nmpl.figure.prototype.key_event = function (event, name) {\n    // Prevent repeat events\n    if (name === 'key_press') {\n        if (event.key === this._key) {\n            return;\n        } else {\n            this._key = event.key;\n        }\n    }\n    if (name === 'key_release') {\n        this._key = null;\n    }\n\n    var value = '';\n    if (event.ctrlKey && event.key !== 'Control') {\n        value += 'ctrl+';\n    }\n    else if (event.altKey && event.key !== 'Alt') {\n        value += 'alt+';\n    }\n    else if (event.shiftKey && event.key !== 'Shift') {\n        value += 'shift+';\n    }\n\n    value += 'k' + event.key;\n\n    this._key_event_extra(event, name);\n\n    this.send_message(name, { key: value, guiEvent: simpleKeys(event) });\n    return false;\n};\n\nmpl.figure.prototype.toolbar_button_onclick = function (name) {\n    if (name === 'download') {\n        this.handle_save(this, null);\n    } else {\n        this.send_message('toolbar_button', { name: name });\n    }\n};\n\nmpl.figure.prototype.toolbar_button_onmouseover = function (tooltip) {\n    this.message.textContent = tooltip;\n};\n\n///////////////// REMAINING CONTENT GENERATED BY embed_js.py /////////////////\n// prettier-ignore\nvar _JSXTOOLS_RESIZE_OBSERVER=function(A){var t,i=new WeakMap,n=new WeakMap,a=new WeakMap,r=new WeakMap,o=new Set;function s(e){if(!(this instanceof s))throw new TypeError(\"Constructor requires 'new' operator\");i.set(this,e)}function h(){throw new TypeError(\"Function is not a constructor\")}function c(e,t,i,n){e=0 in arguments?Number(arguments[0]):0,t=1 in arguments?Number(arguments[1]):0,i=2 in arguments?Number(arguments[2]):0,n=3 in arguments?Number(arguments[3]):0,this.right=(this.x=this.left=e)+(this.width=i),this.bottom=(this.y=this.top=t)+(this.height=n),Object.freeze(this)}function d(){t=requestAnimationFrame(d);var s=new WeakMap,p=new Set;o.forEach((function(t){r.get(t).forEach((function(i){var r=t instanceof window.SVGElement,o=a.get(t),d=r?0:parseFloat(o.paddingTop),f=r?0:parseFloat(o.paddingRight),l=r?0:parseFloat(o.paddingBottom),u=r?0:parseFloat(o.paddingLeft),g=r?0:parseFloat(o.borderTopWidth),m=r?0:parseFloat(o.borderRightWidth),w=r?0:parseFloat(o.borderBottomWidth),b=u+f,F=d+l,v=(r?0:parseFloat(o.borderLeftWidth))+m,W=g+w,y=r?0:t.offsetHeight-W-t.clientHeight,E=r?0:t.offsetWidth-v-t.clientWidth,R=b+v,z=F+W,M=r?t.width:parseFloat(o.width)-R-E,O=r?t.height:parseFloat(o.height)-z-y;if(n.has(t)){var k=n.get(t);if(k[0]===M&&k[1]===O)return}n.set(t,[M,O]);var S=Object.create(h.prototype);S.target=t,S.contentRect=new c(u,d,M,O),s.has(i)||(s.set(i,[]),p.add(i)),s.get(i).push(S)}))})),p.forEach((function(e){i.get(e).call(e,s.get(e),e)}))}return s.prototype.observe=function(i){if(i instanceof window.Element){r.has(i)||(r.set(i,new Set),o.add(i),a.set(i,window.getComputedStyle(i)));var n=r.get(i);n.has(this)||n.add(this),cancelAnimationFrame(t),t=requestAnimationFrame(d)}},s.prototype.unobserve=function(i){if(i instanceof window.Element&&r.has(i)){var n=r.get(i);n.has(this)&&(n.delete(this),n.size||(r.delete(i),o.delete(i))),n.size||r.delete(i),o.size||cancelAnimationFrame(t)}},A.DOMRectReadOnly=c,A.ResizeObserver=s,A.ResizeObserverEntry=h,A}; // eslint-disable-line\nmpl.toolbar_items = [[\"Home\", \"Reset original view\", \"fa fa-home\", \"home\"], [\"Back\", \"Back to previous view\", \"fa fa-arrow-left\", \"back\"], [\"Forward\", \"Forward to next view\", \"fa fa-arrow-right\", \"forward\"], [\"\", \"\", \"\", \"\"], [\"Pan\", \"Left button pans, Right button zooms\\nx/y fixes axis, CTRL fixes aspect\", \"fa fa-arrows\", \"pan\"], [\"Zoom\", \"Zoom to rectangle\\nx/y fixes axis\", \"fa fa-square-o\", \"zoom\"], [\"\", \"\", \"\", \"\"], [\"Download\", \"Download plot\", \"fa fa-floppy-o\", \"download\"]];\n\nmpl.extensions = [\"eps\", \"jpeg\", \"pgf\", \"pdf\", \"png\", \"ps\", \"raw\", \"svg\", \"tif\", \"webp\"];\n\nmpl.default_extension = \"png\";/* global mpl */\n\nvar comm_websocket_adapter = function (comm) {\n    // Create a \"websocket\"-like object which calls the given IPython comm\n    // object with the appropriate methods. Currently this is a non binary\n    // socket, so there is still some room for performance tuning.\n    var ws = {};\n\n    ws.binaryType = comm.kernel.ws.binaryType;\n    ws.readyState = comm.kernel.ws.readyState;\n    function updateReadyState(_event) {\n        if (comm.kernel.ws) {\n            ws.readyState = comm.kernel.ws.readyState;\n        } else {\n            ws.readyState = 3; // Closed state.\n        }\n    }\n    comm.kernel.ws.addEventListener('open', updateReadyState);\n    comm.kernel.ws.addEventListener('close', updateReadyState);\n    comm.kernel.ws.addEventListener('error', updateReadyState);\n\n    ws.close = function () {\n        comm.close();\n    };\n    ws.send = function (m) {\n        //console.log('sending', m);\n        comm.send(m);\n    };\n    // Register the callback with on_msg.\n    comm.on_msg(function (msg) {\n        //console.log('receiving', msg['content']['data'], msg);\n        var data = msg['content']['data'];\n        if (data['blob'] !== undefined) {\n            data = {\n                data: new Blob(msg['buffers'], { type: data['blob'] }),\n            };\n        }\n        // Pass the mpl event to the overridden (by mpl) onmessage function.\n        ws.onmessage(data);\n    });\n    return ws;\n};\n\nmpl.mpl_figure_comm = function (comm, msg) {\n    // This is the function which gets called when the mpl process\n    // starts-up an IPython Comm through the \"matplotlib\" channel.\n\n    var id = msg.content.data.id;\n    // Get hold of the div created by the display call when the Comm\n    // socket was opened in Python.\n    var element = document.getElementById(id);\n    var ws_proxy = comm_websocket_adapter(comm);\n\n    function ondownload(figure, _format) {\n        window.open(figure.canvas.toDataURL());\n    }\n\n    var fig = new mpl.figure(id, ws_proxy, ondownload, element);\n\n    // Call onopen now - mpl needs it, as it is assuming we've passed it a real\n    // web socket which is closed, not our websocket->open comm proxy.\n    ws_proxy.onopen();\n\n    fig.parent_element = element;\n    fig.cell_info = mpl.find_output_cell(\"<div id='\" + id + \"'></div>\");\n    if (!fig.cell_info) {\n        console.error('Failed to find cell for figure', id, fig);\n        return;\n    }\n    fig.cell_info[0].output_area.element.on(\n        'cleared',\n        { fig: fig },\n        fig._remove_fig_handler\n    );\n};\n\nmpl.figure.prototype.handle_close = function (fig, msg) {\n    var width = fig.canvas.width / fig.ratio;\n    fig.cell_info[0].output_area.element.off(\n        'cleared',\n        fig._remove_fig_handler\n    );\n    fig.resizeObserverInstance.unobserve(fig.canvas_div);\n\n    // Update the output cell to use the data from the current canvas.\n    fig.push_to_output();\n    var dataURL = fig.canvas.toDataURL();\n    // Re-enable the keyboard manager in IPython - without this line, in FF,\n    // the notebook keyboard shortcuts fail.\n    IPython.keyboard_manager.enable();\n    fig.parent_element.innerHTML =\n        '<img src=\"' + dataURL + '\" width=\"' + width + '\">';\n    fig.close_ws(fig, msg);\n};\n\nmpl.figure.prototype.close_ws = function (fig, msg) {\n    fig.send_message('closing', msg);\n    // fig.ws.close()\n};\n\nmpl.figure.prototype.push_to_output = function (_remove_interactive) {\n    // Turn the data on the canvas into data in the output cell.\n    var width = this.canvas.width / this.ratio;\n    var dataURL = this.canvas.toDataURL();\n    this.cell_info[1]['text/html'] =\n        '<img src=\"' + dataURL + '\" width=\"' + width + '\">';\n};\n\nmpl.figure.prototype.updated_canvas_event = function () {\n    // Tell IPython that the notebook contents must change.\n    IPython.notebook.set_dirty(true);\n    this.send_message('ack', {});\n    var fig = this;\n    // Wait a second, then push the new image to the DOM so\n    // that it is saved nicely (might be nice to debounce this).\n    setTimeout(function () {\n        fig.push_to_output();\n    }, 1000);\n};\n\nmpl.figure.prototype._init_toolbar = function () {\n    var fig = this;\n\n    var toolbar = document.createElement('div');\n    toolbar.classList = 'btn-toolbar';\n    this.root.appendChild(toolbar);\n\n    function on_click_closure(name) {\n        return function (_event) {\n            return fig.toolbar_button_onclick(name);\n        };\n    }\n\n    function on_mouseover_closure(tooltip) {\n        return function (event) {\n            if (!event.currentTarget.disabled) {\n                return fig.toolbar_button_onmouseover(tooltip);\n            }\n        };\n    }\n\n    fig.buttons = {};\n    var buttonGroup = document.createElement('div');\n    buttonGroup.classList = 'btn-group';\n    var button;\n    for (var toolbar_ind in mpl.toolbar_items) {\n        var name = mpl.toolbar_items[toolbar_ind][0];\n        var tooltip = mpl.toolbar_items[toolbar_ind][1];\n        var image = mpl.toolbar_items[toolbar_ind][2];\n        var method_name = mpl.toolbar_items[toolbar_ind][3];\n\n        if (!name) {\n            /* Instead of a spacer, we start a new button group. */\n            if (buttonGroup.hasChildNodes()) {\n                toolbar.appendChild(buttonGroup);\n            }\n            buttonGroup = document.createElement('div');\n            buttonGroup.classList = 'btn-group';\n            continue;\n        }\n\n        button = fig.buttons[name] = document.createElement('button');\n        button.classList = 'btn btn-default';\n        button.href = '#';\n        button.title = name;\n        button.innerHTML = '<i class=\"fa ' + image + ' fa-lg\"></i>';\n        button.addEventListener('click', on_click_closure(method_name));\n        button.addEventListener('mouseover', on_mouseover_closure(tooltip));\n        buttonGroup.appendChild(button);\n    }\n\n    if (buttonGroup.hasChildNodes()) {\n        toolbar.appendChild(buttonGroup);\n    }\n\n    // Add the status bar.\n    var status_bar = document.createElement('span');\n    status_bar.classList = 'mpl-message pull-right';\n    toolbar.appendChild(status_bar);\n    this.message = status_bar;\n\n    // Add the close button to the window.\n    var buttongrp = document.createElement('div');\n    buttongrp.classList = 'btn-group inline pull-right';\n    button = document.createElement('button');\n    button.classList = 'btn btn-mini btn-primary';\n    button.href = '#';\n    button.title = 'Stop Interaction';\n    button.innerHTML = '<i class=\"fa fa-power-off icon-remove icon-large\"></i>';\n    button.addEventListener('click', function (_evt) {\n        fig.handle_close(fig, {});\n    });\n    button.addEventListener(\n        'mouseover',\n        on_mouseover_closure('Stop Interaction')\n    );\n    buttongrp.appendChild(button);\n    var titlebar = this.root.querySelector('.ui-dialog-titlebar');\n    titlebar.insertBefore(buttongrp, titlebar.firstChild);\n};\n\nmpl.figure.prototype._remove_fig_handler = function (event) {\n    var fig = event.data.fig;\n    if (event.target !== this) {\n        // Ignore bubbled events from children.\n        return;\n    }\n    fig.close_ws(fig, {});\n};\n\nmpl.figure.prototype._root_extra_style = function (el) {\n    el.style.boxSizing = 'content-box'; // override notebook setting of border-box.\n};\n\nmpl.figure.prototype._canvas_extra_style = function (el) {\n    // this is important to make the div 'focusable\n    el.setAttribute('tabindex', 0);\n    // reach out to IPython and tell the keyboard manager to turn it's self\n    // off when our div gets focus\n\n    // location in version 3\n    if (IPython.notebook.keyboard_manager) {\n        IPython.notebook.keyboard_manager.register_events(el);\n    } else {\n        // location in version 2\n        IPython.keyboard_manager.register_events(el);\n    }\n};\n\nmpl.figure.prototype._key_event_extra = function (event, _name) {\n    // Check for shift+enter\n    if (event.shiftKey && event.which === 13) {\n        this.canvas_div.blur();\n        // select the cell after this one\n        var index = IPython.notebook.find_cell_index(this.cell_info[0]);\n        IPython.notebook.select(index + 1);\n    }\n};\n\nmpl.figure.prototype.handle_save = function (fig, _msg) {\n    fig.ondownload(fig, null);\n};\n\nmpl.find_output_cell = function (html_output) {\n    // Return the cell and output element which can be found *uniquely* in the notebook.\n    // Note - this is a bit hacky, but it is done because the \"notebook_saving.Notebook\"\n    // IPython event is triggered only after the cells have been serialised, which for\n    // our purposes (turning an active figure into a static one), is too late.\n    var cells = IPython.notebook.get_cells();\n    var ncells = cells.length;\n    for (var i = 0; i < ncells; i++) {\n        var cell = cells[i];\n        if (cell.cell_type === 'code') {\n            for (var j = 0; j < cell.output_area.outputs.length; j++) {\n                var data = cell.output_area.outputs[j];\n                if (data.data) {\n                    // IPython >= 3 moved mimebundle to data attribute of output\n                    data = data.data;\n                }\n                if (data['text/html'] === html_output) {\n                    return [cell, data, j];\n                }\n            }\n        }\n    }\n};\n\n// Register the function which deals with the matplotlib target/channel.\n// The kernel may be null if the page has been refreshed.\nif (IPython.notebook.kernel !== null) {\n    IPython.notebook.kernel.comm_manager.register_target(\n        'matplotlib',\n        mpl.mpl_figure_comm\n    );\n}\n"
     },
     "metadata": {},
     "output_type": "display_data"
    },
    {
     "data": {
      "text/plain": [
       "<IPython.core.display.HTML object>"
      ],
      "text/html": [
       "<div id='14441d76-ea3b-433d-a500-8df222f17fff'></div>"
      ]
     },
     "metadata": {},
     "output_type": "display_data"
    }
   ],
   "execution_count": 11
  },
  {
   "metadata": {},
   "cell_type": "markdown",
   "source": [
    "### Deriving the $B^I$ matrix\n",
    "This matrix iss associated with the in-plane strains.\n",
    "$$B^I = \\begin{bmatrix}B^I_1 & B^I_2 & B^I_3 & B^I_4\\end{bmatrix}$$\n",
    "\n",
    "where $B^I_j$ is the matrix for node $j$:\n",
    "$$B^I_j = \\begin{bmatrix}\n",
    "0 & 0 & -\\frac{\\partial N_j}{\\partial x} \\\\\n",
    "0 & \\frac{\\partial N_j}{\\partial y} & 0 \\\\\n",
    "0 & \\frac{\\partial N_j}{\\partial x} & -\\frac{\\partial N_j}{\\partial y} \\\\\n",
    "\\end{bmatrix}$$\n",
    "\n",
    "and\n",
    "\n",
    "$$\\frac{\\partial N_j}{\\partial x} = \\frac{\\partial N_j}{\\partial \\xi} \\frac{\\partial \\xi}{\\partial x}$$\n",
    "\n",
    "wich uses the inverse jacobian matrix to transform the derivatives from the natural coordinates to the physical coordinates."
   ],
   "id": "53c0cccd8690f82e"
  },
  {
   "metadata": {
    "ExecuteTime": {
     "end_time": "2025-07-01T10:46:47.060207100Z",
     "start_time": "2025-07-01T10:41:24.132569Z"
    }
   },
   "cell_type": "code",
   "source": [
    "def BI(xi: float, eta: float) -> np.array:\n",
    "    \"\"\"\n",
    "    Calculate the BI matrix for the element.\n",
    "    \"\"\"\n",
    "    # the derivatives by the natural coordinates\n",
    "    dN_dxi, dN_deta = shape_function_derivatives(xi, eta)\n",
    "\n",
    "    print(f'dN_dxi: {type(dN_dxi)}')\n",
    "    print(f'dN_deta: {dN_deta}')\n",
    "    print(dN_dxi[0])\n",
    "    print(dN_dxi[0].subs({XI: xi, ETA: eta}))\n",
    "\n",
    "    # the inverse jacobian that contains the terms to transform the derivatives. This has 2x2 elements.\n",
    "    # In row 1 are dxi/dx, dxi/dy\n",
    "    # In row 2 are deta/dx, deta/dy\n",
    "    Jinv = J_substituted.inv()  # The inverse of the jacobian\n",
    "\n",
    "    B_I = None  # Initialize B_I to None\n",
    "\n",
    "    for node in range(NNODE):\n",
    "        # Calculate the derivatives by x and y\n",
    "        dN_dx = dN_dxi[node] * Jinv[0, 0] + dN_deta[node] * Jinv[1, 0]\n",
    "        dN_dy = dN_dxi[node] * Jinv[0, 1] + dN_deta[node] * Jinv[1, 1]\n",
    "\n",
    "        # Create the B^I matrix for this node\n",
    "        B_I_node = sp.Matrix([[0, 0, -dN_dx],\n",
    "                             [0, dN_dy, 0],\n",
    "                             [dN_dx, -dN_dy, 0]])\n",
    "\n",
    "        if B_I is None:\n",
    "            B_I = B_I_node\n",
    "        else:\n",
    "            B_I = sp.Matrix.hstack(B_I, B_I_node)\n",
    "\n",
    "    return B_I\n",
    "\n",
    "sp.pprint(BI(0.5, 0))"
   ],
   "id": "7c57ab1cc9976193",
   "outputs": [
    {
     "name": "stdout",
     "output_type": "stream",
     "text": [
      "dN_dxi: <class 'list'>\n",
      "dN_deta: [0, 0, 0, 0]\n",
      "0\n",
      "0\n",
      "⎡0  0  0  0  0  0  0  0  0  0  0  0⎤\n",
      "⎢                                  ⎥\n",
      "⎢0  0  0  0  0  0  0  0  0  0  0  0⎥\n",
      "⎢                                  ⎥\n",
      "⎣0  0  0  0  0  0  0  0  0  0  0  0⎦\n"
     ]
    }
   ],
   "execution_count": 43
  },
  {
   "metadata": {},
   "cell_type": "markdown",
   "source": [
    "### Deriving the $B^O$ matrix\n",
    "This matrix iss associated with the off-plane strains.\n",
    "$$B^I = \\begin{bmatrix}B^O_1 & B^O_2 & B^O_3 & B^O_4\\end{bmatrix}$$\n",
    "\n",
    "where $B^O_j$ is the matrix for node $j$:\n",
    "$$B^I_j = \\begin{bmatrix}\n",
    "\\frac{\\partial N_j}{\\partial x} & 0 & N_j \\\\\n",
    "\\frac{\\partial N_j}{\\partial y} & -N_j & 0 \\\\\n",
    "\\end{bmatrix}$$"
   ],
   "id": "b3c3a0b2b5cecfe6"
  },
  {
   "metadata": {
    "ExecuteTime": {
     "end_time": "2025-07-01T10:46:47.061233900Z",
     "start_time": "2025-07-01T09:22:21.788879Z"
    }
   },
   "cell_type": "code",
   "source": [
    "def BO(xi: float, eta: float) -> np.array:\n",
    "    \"\"\"\n",
    "    Calculate the BO matrix for the element.\n",
    "    \"\"\"\n",
    "    # the shape functions\n",
    "    N = shape_functions(xi, eta)\n",
    "\n",
    "    # the derivatives by the natural coordinates\n",
    "    dN_dxi, dN_deta = shape_function_derivatives(xi, eta)\n",
    "\n",
    "    # the inverse jacobian that contains the terms to transform the derivatives. This has 2x2 elements.\n",
    "    # In row 1 are dxi/dx, dxi/dy\n",
    "    # In row 2 are deta/dx, deta/dy\n",
    "    Jinv = J_substituted.inv()  # The inverse of the jacobian\n",
    "\n",
    "    B_O = None  # Initialize B_O to None\n",
    "\n",
    "    for node in range(NNODE):\n",
    "        # Calculate the derivatives by x and y\n",
    "        dN_dx = dN_dxi[node] * Jinv[0, 0] + dN_deta[node] * Jinv[1, 0]\n",
    "        dN_dy = dN_dxi[node] * Jinv[0, 1] + dN_deta[node] * Jinv[1, 1]\n",
    "\n",
    "        # Create the B^O matrix for this node\n",
    "        B_O_node = sp.Matrix([[dN_dx, 0, N[node]],\n",
    "                              [dN_dy, -N[node], 0]])\n",
    "\n",
    "        if B_O is None:\n",
    "            B_O = B_O_node\n",
    "        else:\n",
    "            B_O = sp.Matrix.hstack(B_O, B_O_node)\n",
    "\n",
    "    return B_O\n",
    "\n",
    "sp.pprint(BO(0.5, 0))"
   ],
   "id": "e566b0a6bca9b71a",
   "outputs": [
    {
     "name": "stdout",
     "output_type": "stream",
     "text": [
      "Matrix([[(0.25*eta - 0.25)*(-0.25*xi*y1 + 0.25*xi*y2 - 0.25*xi*y3 + 0.25*xi*y4 + 0.25*y1 + 0.25*y2 - 0.25*y3 - 0.25*y4)/(0.125*eta*x1*y2 - 0.125*eta*x1*y3 - 0.125*eta*x2*y1 + 0.125*eta*x2*y4 + 0.125*eta*x3*y1 - 0.125*eta*x3*y4 - 0.125*eta*x4*y2 + 0.125*eta*x4*y3 + 0.125*x1*xi*y3 - 0.125*x1*xi*y4 - 0.125*x1*y2 + 0.125*x1*y4 - 0.125*x2*xi*y3 + 0.125*x2*xi*y4 + 0.125*x2*y1 - 0.125*x2*y3 - 0.125*x3*xi*y1 + 0.125*x3*xi*y2 + 0.125*x3*y2 - 0.125*x3*y4 + 0.125*x4*xi*y1 - 0.125*x4*xi*y2 - 0.125*x4*y1 + 0.125*x4*y3) + (0.25*xi - 0.25)*(0.25*x1*xi - 0.25*x1 - 0.25*x2*xi - 0.25*x2 + 0.25*x3*xi + 0.25*x3 - 0.25*x4*xi + 0.25*x4)/(0.125*eta*x1*y2 - 0.125*eta*x1*y3 - 0.125*eta*x2*y1 + 0.125*eta*x2*y4 + 0.125*eta*x3*y1 - 0.125*eta*x3*y4 - 0.125*eta*x4*y2 + 0.125*eta*x4*y3 + 0.125*x1*xi*y3 - 0.125*x1*xi*y4 - 0.125*x1*y2 + 0.125*x1*y4 - 0.125*x2*xi*y3 + 0.125*x2*xi*y4 + 0.125*x2*y1 - 0.125*x2*y3 - 0.125*x3*xi*y1 + 0.125*x3*xi*y2 + 0.125*x3*y2 - 0.125*x3*y4 + 0.125*x4*xi*y1 - 0.125*x4*xi*y2 - 0.125*x4*y1 + 0.125*x4*y3), 0, (0.25 - 0.25*xi)*(1 - eta), (0.25 - 0.25*eta)*(-0.25*xi*y1 + 0.25*xi*y2 - 0.25*xi*y3 + 0.25*xi*y4 + 0.25*y1 + 0.25*y2 - 0.25*y3 - 0.25*y4)/(0.125*eta*x1*y2 - 0.125*eta*x1*y3 - 0.125*eta*x2*y1 + 0.125*eta*x2*y4 + 0.125*eta*x3*y1 - 0.125*eta*x3*y4 - 0.125*eta*x4*y2 + 0.125*eta*x4*y3 + 0.125*x1*xi*y3 - 0.125*x1*xi*y4 - 0.125*x1*y2 + 0.125*x1*y4 - 0.125*x2*xi*y3 + 0.125*x2*xi*y4 + 0.125*x2*y1 - 0.125*x2*y3 - 0.125*x3*xi*y1 + 0.125*x3*xi*y2 + 0.125*x3*y2 - 0.125*x3*y4 + 0.125*x4*xi*y1 - 0.125*x4*xi*y2 - 0.125*x4*y1 + 0.125*x4*y3) + (-0.25*xi - 0.25)*(0.25*x1*xi - 0.25*x1 - 0.25*x2*xi - 0.25*x2 + 0.25*x3*xi + 0.25*x3 - 0.25*x4*xi + 0.25*x4)/(0.125*eta*x1*y2 - 0.125*eta*x1*y3 - 0.125*eta*x2*y1 + 0.125*eta*x2*y4 + 0.125*eta*x3*y1 - 0.125*eta*x3*y4 - 0.125*eta*x4*y2 + 0.125*eta*x4*y3 + 0.125*x1*xi*y3 - 0.125*x1*xi*y4 - 0.125*x1*y2 + 0.125*x1*y4 - 0.125*x2*xi*y3 + 0.125*x2*xi*y4 + 0.125*x2*y1 - 0.125*x2*y3 - 0.125*x3*xi*y1 + 0.125*x3*xi*y2 + 0.125*x3*y2 - 0.125*x3*y4 + 0.125*x4*xi*y1 - 0.125*x4*xi*y2 - 0.125*x4*y1 + 0.125*x4*y3), 0, (1 - eta)*(0.25*xi + 0.25), (0.25*eta + 0.25)*(-0.25*xi*y1 + 0.25*xi*y2 - 0.25*xi*y3 + 0.25*xi*y4 + 0.25*y1 + 0.25*y2 - 0.25*y3 - 0.25*y4)/(0.125*eta*x1*y2 - 0.125*eta*x1*y3 - 0.125*eta*x2*y1 + 0.125*eta*x2*y4 + 0.125*eta*x3*y1 - 0.125*eta*x3*y4 - 0.125*eta*x4*y2 + 0.125*eta*x4*y3 + 0.125*x1*xi*y3 - 0.125*x1*xi*y4 - 0.125*x1*y2 + 0.125*x1*y4 - 0.125*x2*xi*y3 + 0.125*x2*xi*y4 + 0.125*x2*y1 - 0.125*x2*y3 - 0.125*x3*xi*y1 + 0.125*x3*xi*y2 + 0.125*x3*y2 - 0.125*x3*y4 + 0.125*x4*xi*y1 - 0.125*x4*xi*y2 - 0.125*x4*y1 + 0.125*x4*y3) + (0.25*xi + 0.25)*(0.25*x1*xi - 0.25*x1 - 0.25*x2*xi - 0.25*x2 + 0.25*x3*xi + 0.25*x3 - 0.25*x4*xi + 0.25*x4)/(0.125*eta*x1*y2 - 0.125*eta*x1*y3 - 0.125*eta*x2*y1 + 0.125*eta*x2*y4 + 0.125*eta*x3*y1 - 0.125*eta*x3*y4 - 0.125*eta*x4*y2 + 0.125*eta*x4*y3 + 0.125*x1*xi*y3 - 0.125*x1*xi*y4 - 0.125*x1*y2 + 0.125*x1*y4 - 0.125*x2*xi*y3 + 0.125*x2*xi*y4 + 0.125*x2*y1 - 0.125*x2*y3 - 0.125*x3*xi*y1 + 0.125*x3*xi*y2 + 0.125*x3*y2 - 0.125*x3*y4 + 0.125*x4*xi*y1 - 0.125*x4*xi*y2 - 0.125*x4*y1 + 0.125*x4*y3), 0, (eta + 1)*(0.25*xi + 0.25), (0.25 - 0.25*xi)*(0.25*x1*xi - 0.25*x1 - 0.25*x2*xi - 0.25*x2 + 0.25*x3*xi + 0.25*x3 - 0.25*x4*xi + 0.25*x4)/(0.125*eta*x1*y2 - 0.125*eta*x1*y3 - 0.125*eta*x2*y1 + 0.125*eta*x2*y4 + 0.125*eta*x3*y1 - 0.125*eta*x3*y4 - 0.125*eta*x4*y2 + 0.125*eta*x4*y3 + 0.125*x1*xi*y3 - 0.125*x1*xi*y4 - 0.125*x1*y2 + 0.125*x1*y4 - 0.125*x2*xi*y3 + 0.125*x2*xi*y4 + 0.125*x2*y1 - 0.125*x2*y3 - 0.125*x3*xi*y1 + 0.125*x3*xi*y2 + 0.125*x3*y2 - 0.125*x3*y4 + 0.125*x4*xi*y1 - 0.125*x4*xi*y2 - 0.125*x4*y1 + 0.125*x4*y3) + (-0.25*eta - 0.25)*(-0.25*xi*y1 + 0.25*xi*y2 - 0.25*xi*y3 + 0.25*xi*y4 + 0.25*y1 + 0.25*y2 - 0.25*y3 - 0.25*y4)/(0.125*eta*x1*y2 - 0.125*eta*x1*y3 - 0.125*eta*x2*y1 + 0.125*eta*x2*y4 + 0.125*eta*x3*y1 - 0.125*eta*x3*y4 - 0.125*eta*x4*y2 + 0.125*eta*x4*y3 + 0.125*x1*xi*y3 - 0.125*x1*xi*y4 - 0.125*x1*y2 + 0.125*x1*y4 - 0.125*x2*xi*y3 + 0.125*x2*xi*y4 + 0.125*x2*y1 - 0.125*x2*y3 - 0.125*x3*xi*y1 + 0.125*x3*xi*y2 + 0.125*x3*y2 - 0.125*x3*y4 + 0.125*x4*xi*y1 - 0.125*x4*xi*y2 - 0.125*x4*y1 + 0.125*x4*y3), 0, (0.25 - 0.25*xi)*(eta + 1)], [(0.25*eta - 0.25)*(0.25*eta*y1 - 0.25*eta*y2 + 0.25*eta*y3 - 0.25*eta*y4 - 0.25*y1 + 0.25*y2 + 0.25*y3 - 0.25*y4)/(0.125*eta*x1*y2 - 0.125*eta*x1*y3 - 0.125*eta*x2*y1 + 0.125*eta*x2*y4 + 0.125*eta*x3*y1 - 0.125*eta*x3*y4 - 0.125*eta*x4*y2 + 0.125*eta*x4*y3 + 0.125*x1*xi*y3 - 0.125*x1*xi*y4 - 0.125*x1*y2 + 0.125*x1*y4 - 0.125*x2*xi*y3 + 0.125*x2*xi*y4 + 0.125*x2*y1 - 0.125*x2*y3 - 0.125*x3*xi*y1 + 0.125*x3*xi*y2 + 0.125*x3*y2 - 0.125*x3*y4 + 0.125*x4*xi*y1 - 0.125*x4*xi*y2 - 0.125*x4*y1 + 0.125*x4*y3) + (0.25*xi - 0.25)*(-0.25*eta*x1 + 0.25*eta*x2 - 0.25*eta*x3 + 0.25*eta*x4 + 0.25*x1 - 0.25*x2 - 0.25*x3 + 0.25*x4)/(0.125*eta*x1*y2 - 0.125*eta*x1*y3 - 0.125*eta*x2*y1 + 0.125*eta*x2*y4 + 0.125*eta*x3*y1 - 0.125*eta*x3*y4 - 0.125*eta*x4*y2 + 0.125*eta*x4*y3 + 0.125*x1*xi*y3 - 0.125*x1*xi*y4 - 0.125*x1*y2 + 0.125*x1*y4 - 0.125*x2*xi*y3 + 0.125*x2*xi*y4 + 0.125*x2*y1 - 0.125*x2*y3 - 0.125*x3*xi*y1 + 0.125*x3*xi*y2 + 0.125*x3*y2 - 0.125*x3*y4 + 0.125*x4*xi*y1 - 0.125*x4*xi*y2 - 0.125*x4*y1 + 0.125*x4*y3), -(0.25 - 0.25*xi)*(1 - eta), 0, (0.25 - 0.25*eta)*(0.25*eta*y1 - 0.25*eta*y2 + 0.25*eta*y3 - 0.25*eta*y4 - 0.25*y1 + 0.25*y2 + 0.25*y3 - 0.25*y4)/(0.125*eta*x1*y2 - 0.125*eta*x1*y3 - 0.125*eta*x2*y1 + 0.125*eta*x2*y4 + 0.125*eta*x3*y1 - 0.125*eta*x3*y4 - 0.125*eta*x4*y2 + 0.125*eta*x4*y3 + 0.125*x1*xi*y3 - 0.125*x1*xi*y4 - 0.125*x1*y2 + 0.125*x1*y4 - 0.125*x2*xi*y3 + 0.125*x2*xi*y4 + 0.125*x2*y1 - 0.125*x2*y3 - 0.125*x3*xi*y1 + 0.125*x3*xi*y2 + 0.125*x3*y2 - 0.125*x3*y4 + 0.125*x4*xi*y1 - 0.125*x4*xi*y2 - 0.125*x4*y1 + 0.125*x4*y3) + (-0.25*xi - 0.25)*(-0.25*eta*x1 + 0.25*eta*x2 - 0.25*eta*x3 + 0.25*eta*x4 + 0.25*x1 - 0.25*x2 - 0.25*x3 + 0.25*x4)/(0.125*eta*x1*y2 - 0.125*eta*x1*y3 - 0.125*eta*x2*y1 + 0.125*eta*x2*y4 + 0.125*eta*x3*y1 - 0.125*eta*x3*y4 - 0.125*eta*x4*y2 + 0.125*eta*x4*y3 + 0.125*x1*xi*y3 - 0.125*x1*xi*y4 - 0.125*x1*y2 + 0.125*x1*y4 - 0.125*x2*xi*y3 + 0.125*x2*xi*y4 + 0.125*x2*y1 - 0.125*x2*y3 - 0.125*x3*xi*y1 + 0.125*x3*xi*y2 + 0.125*x3*y2 - 0.125*x3*y4 + 0.125*x4*xi*y1 - 0.125*x4*xi*y2 - 0.125*x4*y1 + 0.125*x4*y3), -(1 - eta)*(0.25*xi + 0.25), 0, (0.25*eta + 0.25)*(0.25*eta*y1 - 0.25*eta*y2 + 0.25*eta*y3 - 0.25*eta*y4 - 0.25*y1 + 0.25*y2 + 0.25*y3 - 0.25*y4)/(0.125*eta*x1*y2 - 0.125*eta*x1*y3 - 0.125*eta*x2*y1 + 0.125*eta*x2*y4 + 0.125*eta*x3*y1 - 0.125*eta*x3*y4 - 0.125*eta*x4*y2 + 0.125*eta*x4*y3 + 0.125*x1*xi*y3 - 0.125*x1*xi*y4 - 0.125*x1*y2 + 0.125*x1*y4 - 0.125*x2*xi*y3 + 0.125*x2*xi*y4 + 0.125*x2*y1 - 0.125*x2*y3 - 0.125*x3*xi*y1 + 0.125*x3*xi*y2 + 0.125*x3*y2 - 0.125*x3*y4 + 0.125*x4*xi*y1 - 0.125*x4*xi*y2 - 0.125*x4*y1 + 0.125*x4*y3) + (0.25*xi + 0.25)*(-0.25*eta*x1 + 0.25*eta*x2 - 0.25*eta*x3 + 0.25*eta*x4 + 0.25*x1 - 0.25*x2 - 0.25*x3 + 0.25*x4)/(0.125*eta*x1*y2 - 0.125*eta*x1*y3 - 0.125*eta*x2*y1 + 0.125*eta*x2*y4 + 0.125*eta*x3*y1 - 0.125*eta*x3*y4 - 0.125*eta*x4*y2 + 0.125*eta*x4*y3 + 0.125*x1*xi*y3 - 0.125*x1*xi*y4 - 0.125*x1*y2 + 0.125*x1*y4 - 0.125*x2*xi*y3 + 0.125*x2*xi*y4 + 0.125*x2*y1 - 0.125*x2*y3 - 0.125*x3*xi*y1 + 0.125*x3*xi*y2 + 0.125*x3*y2 - 0.125*x3*y4 + 0.125*x4*xi*y1 - 0.125*x4*xi*y2 - 0.125*x4*y1 + 0.125*x4*y3), -(eta + 1)*(0.25*xi + 0.25), 0, (0.25 - 0.25*xi)*(-0.25*eta*x1 + 0.25*eta*x2 - 0.25*eta*x3 + 0.25*eta*x4 + 0.25*x1 - 0.25*x2 - 0.25*x3 + 0.25*x4)/(0.125*eta*x1*y2 - 0.125*eta*x1*y3 - 0.125*eta*x2*y1 + 0.125*eta*x2*y4 + 0.125*eta*x3*y1 - 0.125*eta*x3*y4 - 0.125*eta*x4*y2 + 0.125*eta*x4*y3 + 0.125*x1*xi*y3 - 0.125*x1*xi*y4 - 0.125*x1*y2 + 0.125*x1*y4 - 0.125*x2*xi*y3 + 0.125*x2*xi*y4 + 0.125*x2*y1 - 0.125*x2*y3 - 0.125*x3*xi*y1 + 0.125*x3*xi*y2 + 0.125*x3*y2 - 0.125*x3*y4 + 0.125*x4*xi*y1 - 0.125*x4*xi*y2 - 0.125*x4*y1 + 0.125*x4*y3) + (-0.25*eta - 0.25)*(0.25*eta*y1 - 0.25*eta*y2 + 0.25*eta*y3 - 0.25*eta*y4 - 0.25*y1 + 0.25*y2 + 0.25*y3 - 0.25*y4)/(0.125*eta*x1*y2 - 0.125*eta*x1*y3 - 0.125*eta*x2*y1 + 0.125*eta*x2*y4 + 0.125*eta*x3*y1 - 0.125*eta*x3*y4 - 0.125*eta*x4*y2 + 0.125*eta*x4*y3 + 0.125*x1*xi*y3 - 0.125*x1*xi*y4 - 0.125*x1*y2 + 0.125*x1*y4 - 0.125*x2*xi*y3 + 0.125*x2*xi*y4 + 0.125*x2*y1 - 0.125*x2*y3 - 0.125*x3*xi*y1 + 0.125*x3*xi*y2 + 0.125*x3*y2 - 0.125*x3*y4 + 0.125*x4*xi*y1 - 0.125*x4*xi*y2 - 0.125*x4*y1 + 0.125*x4*y3), -(0.25 - 0.25*xi)*(eta + 1), 0]])\n"
     ]
    }
   ],
   "execution_count": 23
  },
  {
   "metadata": {},
   "cell_type": "markdown",
   "source": [
    "### Let's see a real world example\n",
    "The plate is simply the same as the one in the natural coordinates"
   ],
   "id": "592199891c86c38a"
  },
  {
   "metadata": {
    "ExecuteTime": {
     "end_time": "2025-07-01T10:46:47.062200800Z",
     "start_time": "2025-07-01T09:22:22.022234Z"
    }
   },
   "cell_type": "code",
   "source": [
    "\n",
    "\n",
    "# Evaluate BI and BO at xi=0, eta=0\n",
    "bi_matrix = BI(0, 0)\n",
    "bo_matrix = BO(0, 0)\n",
    "\n",
    "# Substitute the symbolic coordinates with numerical values\n",
    "bi_matrix_evaluated = bi_matrix.subs(coordinate_values)\n",
    "bo_matrix_evaluated = bo_matrix.subs(coordinate_values)\n",
    "\n",
    "print(\"BI Matrix at xi=0, eta=0 with substituted coordinates:\")\n",
    "sp.pprint(bi_matrix_evaluated)\n",
    "print()\n",
    "print(\"BO Matrix at xi=0, eta=0 with substituted coordinates:\")\n",
    "sp.pprint(bo_matrix_evaluated)"
   ],
   "id": "5a93eca6045608d3",
   "outputs": [
    {
     "ename": "ValueError",
     "evalue": "First variable cannot be a number: 0",
     "output_type": "error",
     "traceback": [
      "\u001B[31m---------------------------------------------------------------------------\u001B[39m",
      "\u001B[31mValueError\u001B[39m                                Traceback (most recent call last)",
      "\u001B[36mCell\u001B[39m\u001B[36m \u001B[39m\u001B[32mIn[24]\u001B[39m\u001B[32m, line 2\u001B[39m\n\u001B[32m      1\u001B[39m \u001B[38;5;66;03m# Evaluate BI and BO at xi=0, eta=0\u001B[39;00m\n\u001B[32m----> \u001B[39m\u001B[32m2\u001B[39m bi_matrix = \u001B[43mBI\u001B[49m\u001B[43m(\u001B[49m\u001B[32;43m0\u001B[39;49m\u001B[43m,\u001B[49m\u001B[43m \u001B[49m\u001B[32;43m0\u001B[39;49m\u001B[43m)\u001B[49m\n\u001B[32m      3\u001B[39m bo_matrix = BO(\u001B[32m0\u001B[39m, \u001B[32m0\u001B[39m)\n\u001B[32m      5\u001B[39m \u001B[38;5;66;03m# Substitute the symbolic coordinates with numerical values\u001B[39;00m\n",
      "\u001B[36mCell\u001B[39m\u001B[36m \u001B[39m\u001B[32mIn[22]\u001B[39m\u001B[32m, line 5\u001B[39m, in \u001B[36mBI\u001B[39m\u001B[34m(xi, eta)\u001B[39m\n\u001B[32m      2\u001B[39m \u001B[38;5;28;01mdef\u001B[39;00m\u001B[38;5;250m \u001B[39m\u001B[34mBI\u001B[39m(xi: \u001B[38;5;28mfloat\u001B[39m, eta: \u001B[38;5;28mfloat\u001B[39m) -> np.array:\n\u001B[32m      3\u001B[39m \n\u001B[32m      4\u001B[39m     \u001B[38;5;66;03m# the derivatives by the natural coordinates\u001B[39;00m\n\u001B[32m----> \u001B[39m\u001B[32m5\u001B[39m     dN_dxi, dN_deta = \u001B[43mshape_function_derivatives\u001B[49m\u001B[43m(\u001B[49m\u001B[43mxi\u001B[49m\u001B[43m,\u001B[49m\u001B[43m \u001B[49m\u001B[43meta\u001B[49m\u001B[43m)\u001B[49m\n\u001B[32m      7\u001B[39m     \u001B[38;5;66;03m# the inverse jacobian that contains the terms to transform the derivatives. This has 2x2 elements.\u001B[39;00m\n\u001B[32m      8\u001B[39m     \u001B[38;5;66;03m# In row 1 are dxi/dx, dxi/dy\u001B[39;00m\n\u001B[32m      9\u001B[39m     \u001B[38;5;66;03m# In row 2 are deta/dx, deta/dy\u001B[39;00m\n\u001B[32m     10\u001B[39m     Jinv = J.inv()  \u001B[38;5;66;03m# The inverse of the jacobian\u001B[39;00m\n",
      "\u001B[36mCell\u001B[39m\u001B[36m \u001B[39m\u001B[32mIn[16]\u001B[39m\u001B[32m, line 33\u001B[39m, in \u001B[36mshape_function_derivatives\u001B[39m\u001B[34m(xi, eta)\u001B[39m\n\u001B[32m     30\u001B[39m dN_deta = []\n\u001B[32m     32\u001B[39m \u001B[38;5;28;01mfor\u001B[39;00m i \u001B[38;5;129;01min\u001B[39;00m \u001B[38;5;28mrange\u001B[39m(\u001B[38;5;28mlen\u001B[39m(sh)):\n\u001B[32m---> \u001B[39m\u001B[32m33\u001B[39m     dN_dxi.append(\u001B[43msp\u001B[49m\u001B[43m.\u001B[49m\u001B[43mdiff\u001B[49m\u001B[43m(\u001B[49m\u001B[43msh\u001B[49m\u001B[43m[\u001B[49m\u001B[43mi\u001B[49m\u001B[43m]\u001B[49m\u001B[43m,\u001B[49m\u001B[43m \u001B[49m\u001B[43mxi\u001B[49m\u001B[43m)\u001B[49m)\n\u001B[32m     34\u001B[39m     dN_deta.append(sp.diff(sh[i], eta))\n\u001B[32m     36\u001B[39m \u001B[38;5;28;01mreturn\u001B[39;00m dN_dxi, dN_deta\n",
      "\u001B[36mFile \u001B[39m\u001B[32mE:\\modules\\venv\\FEM_Practical_Course\\Lib\\site-packages\\sympy\\core\\function.py:2513\u001B[39m, in \u001B[36mdiff\u001B[39m\u001B[34m(f, *symbols, **kwargs)\u001B[39m\n\u001B[32m   2511\u001B[39m     \u001B[38;5;28;01mreturn\u001B[39;00m f.diff(*symbols, **kwargs)\n\u001B[32m   2512\u001B[39m kwargs.setdefault(\u001B[33m'\u001B[39m\u001B[33mevaluate\u001B[39m\u001B[33m'\u001B[39m, \u001B[38;5;28;01mTrue\u001B[39;00m)\n\u001B[32m-> \u001B[39m\u001B[32m2513\u001B[39m \u001B[38;5;28;01mreturn\u001B[39;00m \u001B[43m_derivative_dispatch\u001B[49m\u001B[43m(\u001B[49m\u001B[43mf\u001B[49m\u001B[43m,\u001B[49m\u001B[43m \u001B[49m\u001B[43m*\u001B[49m\u001B[43msymbols\u001B[49m\u001B[43m,\u001B[49m\u001B[43m \u001B[49m\u001B[43m*\u001B[49m\u001B[43m*\u001B[49m\u001B[43mkwargs\u001B[49m\u001B[43m)\u001B[49m\n",
      "\u001B[36mFile \u001B[39m\u001B[32mE:\\modules\\venv\\FEM_Practical_Course\\Lib\\site-packages\\sympy\\core\\function.py:1938\u001B[39m, in \u001B[36m_derivative_dispatch\u001B[39m\u001B[34m(expr, *variables, **kwargs)\u001B[39m\n\u001B[32m   1936\u001B[39m     \u001B[38;5;28;01mfrom\u001B[39;00m\u001B[38;5;250m \u001B[39m\u001B[34;01msympy\u001B[39;00m\u001B[34;01m.\u001B[39;00m\u001B[34;01mtensor\u001B[39;00m\u001B[34;01m.\u001B[39;00m\u001B[34;01marray\u001B[39;00m\u001B[34;01m.\u001B[39;00m\u001B[34;01marray_derivatives\u001B[39;00m\u001B[38;5;250m \u001B[39m\u001B[38;5;28;01mimport\u001B[39;00m ArrayDerivative\n\u001B[32m   1937\u001B[39m     \u001B[38;5;28;01mreturn\u001B[39;00m ArrayDerivative(expr, *variables, **kwargs)\n\u001B[32m-> \u001B[39m\u001B[32m1938\u001B[39m \u001B[38;5;28;01mreturn\u001B[39;00m \u001B[43mDerivative\u001B[49m\u001B[43m(\u001B[49m\u001B[43mexpr\u001B[49m\u001B[43m,\u001B[49m\u001B[43m \u001B[49m\u001B[43m*\u001B[49m\u001B[43mvariables\u001B[49m\u001B[43m,\u001B[49m\u001B[43m \u001B[49m\u001B[43m*\u001B[49m\u001B[43m*\u001B[49m\u001B[43mkwargs\u001B[49m\u001B[43m)\u001B[49m\n",
      "\u001B[36mFile \u001B[39m\u001B[32mE:\\modules\\venv\\FEM_Practical_Course\\Lib\\site-packages\\sympy\\core\\function.py:1326\u001B[39m, in \u001B[36mDerivative.__new__\u001B[39m\u001B[34m(cls, expr, *variables, **kwargs)\u001B[39m\n\u001B[32m   1324\u001B[39m \u001B[38;5;28;01mif\u001B[39;00m \u001B[38;5;28misinstance\u001B[39m(v, Integer):\n\u001B[32m   1325\u001B[39m     \u001B[38;5;28;01mif\u001B[39;00m i == \u001B[32m0\u001B[39m:\n\u001B[32m-> \u001B[39m\u001B[32m1326\u001B[39m         \u001B[38;5;28;01mraise\u001B[39;00m \u001B[38;5;167;01mValueError\u001B[39;00m(\u001B[33m\"\u001B[39m\u001B[33mFirst variable cannot be a number: \u001B[39m\u001B[38;5;132;01m%i\u001B[39;00m\u001B[33m\"\u001B[39m % v)\n\u001B[32m   1327\u001B[39m     count = v\n\u001B[32m   1328\u001B[39m     prev, prevcount = variable_count[-\u001B[32m1\u001B[39m]\n",
      "\u001B[31mValueError\u001B[39m: First variable cannot be a number: 0"
     ]
    }
   ],
   "execution_count": 24
  }
 ],
 "metadata": {
  "kernelspec": {
   "display_name": "Python 3",
   "language": "python",
   "name": "python3"
  },
  "language_info": {
   "codemirror_mode": {
    "name": "ipython",
    "version": 2
   },
   "file_extension": ".py",
   "mimetype": "text/x-python",
   "name": "python",
   "nbconvert_exporter": "python",
   "pygments_lexer": "ipython2",
   "version": "2.7.6"
  }
 },
 "nbformat": 4,
 "nbformat_minor": 5
}
