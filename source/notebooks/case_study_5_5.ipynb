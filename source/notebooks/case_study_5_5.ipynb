{
 "cells": [
  {
   "metadata": {},
   "cell_type": "markdown",
   "source": [
    "# 5.5 Case study: resonant freqencies of a micro-resonant transducer\n",
    "\n",
    "This case study uses the beam element introdced in Chapter 5 to model a micro-resonant transducer. The addition over the single-element derivation is that multiple beams are used, but since the geometry is still in the X-Y plane and the beams are not rotated, the only thing to do is to\n",
    "a) add more elements\n",
    "b) assemble the global stiffness, and mass matrices utilizing the same techniques as in Chapter 4, e.g. Example 4.2.\n",
    "\n",
    "Due to the simplicity of the problem there is no model object written, all the necessary methods are free-floating in the beam module, variables are defined in the notebook.\n"
   ],
   "id": "78ee4e9891a11b82"
  },
  {
   "metadata": {
    "ExecuteTime": {
     "end_time": "2025-06-24T06:04:46.919136Z",
     "start_time": "2025-06-24T06:04:46.902399Z"
    }
   },
   "cell_type": "code",
   "source": [
    "# number of elements to be used. The book uses 10.\n",
    "NE = 10  # number of elements\n",
    "\n",
    "# number of degrees of freedom per element. This is not to be changed.\n",
    "DOF = 4  # u_x, u_y, u_z, θ_y, θ_z"
   ],
   "id": "e48faeb2fb2c894f",
   "outputs": [],
   "execution_count": 1
  },
  {
   "metadata": {
    "ExecuteTime": {
     "end_time": "2025-06-24T06:04:47.544787Z",
     "start_time": "2025-06-24T06:04:46.934764Z"
    }
   },
   "cell_type": "code",
   "source": [
    "# imports\n",
    "import numpy as np\n",
    "from source.node import Node\n",
    "from source.beam.beam import BeamElement\n",
    "np.set_printoptions(precision=3, threshold=3, suppress=False)"
   ],
   "id": "d5b501c6b333e689",
   "outputs": [],
   "execution_count": 2
  },
  {
   "metadata": {},
   "cell_type": "markdown",
   "source": [
    "### Geometry and material properties\n",
    "\n",
    "Defined as in the book and converted to SI units for consistency."
   ],
   "id": "2fcb3d51b060f313"
  },
  {
   "metadata": {
    "ExecuteTime": {
     "end_time": "2025-06-24T06:04:48.060316Z",
     "start_time": "2025-06-24T06:04:48.049678Z"
    }
   },
   "cell_type": "code",
   "source": [
    "b = 20  # width of the beam [µm]\n",
    "h = 0.5  # height of the beam [µm]\n",
    "L = 100  # length of the beam [µm]\n",
    "E = 169  # Young's modulus [GPa]\n",
    "nu = 0.262  # Poisson's ratio\n",
    "ro = 2.30  # density [g/cm³]\n",
    "\n",
    "# transforming everything in SI units: meters, pascals, kilograms\n",
    "b *= 1e-6  # width in meters\n",
    "h *= 1e-6  # height in meters\n",
    "L *= 1e-6  # length in meters\n",
    "E *= 1e9  # Young's modulus in pascals\n",
    "ro *= 1e3  # density in kg/m³"
   ],
   "id": "f0ef3c7a4294213a",
   "outputs": [],
   "execution_count": 3
  },
  {
   "metadata": {},
   "cell_type": "markdown",
   "source": "### Cross sectional properties",
   "id": "9094aea4b6f6db98"
  },
  {
   "metadata": {
    "ExecuteTime": {
     "end_time": "2025-06-24T06:04:48.089751Z",
     "start_time": "2025-06-24T06:04:48.082914Z"
    }
   },
   "cell_type": "code",
   "source": [
    "A = b * h  # cross-sectional area [m²]\n",
    "Iy = b * h**3 / 12  # second moment of area around the y-axis [m^4]\n",
    "Iz = h * b**3 / 12  # second moment of area around the z-axis [m^4]"
   ],
   "id": "7e666a7ddf985cb6",
   "outputs": [],
   "execution_count": 4
  },
  {
   "metadata": {},
   "cell_type": "markdown",
   "source": "### FE mesh and supports.",
   "id": "2206bfc54d1aee85"
  },
  {
   "metadata": {
    "ExecuteTime": {
     "end_time": "2025-06-24T06:04:48.283252Z",
     "start_time": "2025-06-24T06:04:48.270354Z"
    }
   },
   "cell_type": "code",
   "source": [
    "# Mesh\n",
    "# The total length of the beam is divided into NE elements, each element has a length of L/NE.\n",
    "mesh = np.linspace(0, L, NE + 1)  # mesh points along the beam\n",
    "\n",
    "# Create nodes based on the mesh\n",
    "nodes = [Node(x, 0, None) for x in mesh]  # nodes in the X-Y plane, Z=0\n",
    "\n",
    "print()\n",
    "print(\"Nodes:\")\n",
    "for node in nodes:\n",
    "    print(f\"Node ID: {node.ID}, Coordinates: ({node.x}, {node.y})\")\n",
    "\n",
    "# Create beam elements. The inertia to be used is the second moment of area around the y-axis.\n",
    "elements = [\n",
    "    BeamElement(nodes[i], nodes[i + 1], A=A, I=Iy, E=E, ro=ro)\n",
    "    for i in range(NE)\n",
    "]\n",
    "print()\n",
    "print(\"Elements:\")\n",
    "for elem in elements:\n",
    "    print(f\"Element from Node {elem.i.ID} to Node {elem.j.ID}, Area: {elem.A}, Iy: {elem.I}, E: {elem.E}, ro: {elem.ro}\")\n",
    "\n",
    "# supports are at both ends. The global DOFs are the first 4 and the last 4. There are NE+1 nodes.\n",
    "supported_dofs = np.concatenate((np.arange(0, 4), np.arange(NE * DOF, (NE + 1) * DOF)))\n"
   ],
   "id": "d259b8dac9d6023a",
   "outputs": [
    {
     "name": "stdout",
     "output_type": "stream",
     "text": [
      "\n",
      "Nodes:\n",
      "Node ID: 0, Coordinates: (0.0, 0)\n",
      "Node ID: 1, Coordinates: (9.999999999999999e-06, 0)\n",
      "Node ID: 2, Coordinates: (1.9999999999999998e-05, 0)\n",
      "Node ID: 3, Coordinates: (2.9999999999999997e-05, 0)\n",
      "Node ID: 4, Coordinates: (3.9999999999999996e-05, 0)\n",
      "Node ID: 5, Coordinates: (4.9999999999999996e-05, 0)\n",
      "Node ID: 6, Coordinates: (5.9999999999999995e-05, 0)\n",
      "Node ID: 7, Coordinates: (7e-05, 0)\n",
      "Node ID: 8, Coordinates: (7.999999999999999e-05, 0)\n",
      "Node ID: 9, Coordinates: (8.999999999999999e-05, 0)\n",
      "Node ID: 10, Coordinates: (9.999999999999999e-05, 0)\n",
      "\n",
      "Elements:\n",
      "Element from Node 0 to Node 1, Area: 1e-11, Iy: 2.083333333333333e-25, E: 169000000000.0, ro: 2300.0\n",
      "Element from Node 1 to Node 2, Area: 1e-11, Iy: 2.083333333333333e-25, E: 169000000000.0, ro: 2300.0\n",
      "Element from Node 2 to Node 3, Area: 1e-11, Iy: 2.083333333333333e-25, E: 169000000000.0, ro: 2300.0\n",
      "Element from Node 3 to Node 4, Area: 1e-11, Iy: 2.083333333333333e-25, E: 169000000000.0, ro: 2300.0\n",
      "Element from Node 4 to Node 5, Area: 1e-11, Iy: 2.083333333333333e-25, E: 169000000000.0, ro: 2300.0\n",
      "Element from Node 5 to Node 6, Area: 1e-11, Iy: 2.083333333333333e-25, E: 169000000000.0, ro: 2300.0\n",
      "Element from Node 6 to Node 7, Area: 1e-11, Iy: 2.083333333333333e-25, E: 169000000000.0, ro: 2300.0\n",
      "Element from Node 7 to Node 8, Area: 1e-11, Iy: 2.083333333333333e-25, E: 169000000000.0, ro: 2300.0\n",
      "Element from Node 8 to Node 9, Area: 1e-11, Iy: 2.083333333333333e-25, E: 169000000000.0, ro: 2300.0\n",
      "Element from Node 9 to Node 10, Area: 1e-11, Iy: 2.083333333333333e-25, E: 169000000000.0, ro: 2300.0\n"
     ]
    }
   ],
   "execution_count": 5
  },
  {
   "metadata": {},
   "cell_type": "markdown",
   "source": "### Assembling the global stiffness and mass matrices",
   "id": "97f60ffe647c5310"
  },
  {
   "metadata": {
    "ExecuteTime": {
     "end_time": "2025-06-24T06:04:48.425553Z",
     "start_time": "2025-06-24T06:04:48.414948Z"
    }
   },
   "cell_type": "code",
   "source": [
    "def assemble_K():\n",
    "    pass\n",
    "\n",
    "def assemble_M():\n",
    "    pass"
   ],
   "id": "158c701fb91be890",
   "outputs": [],
   "execution_count": 6
  }
 ],
 "metadata": {
  "kernelspec": {
   "display_name": "Python 3",
   "language": "python",
   "name": "python3"
  },
  "language_info": {
   "codemirror_mode": {
    "name": "ipython",
    "version": 2
   },
   "file_extension": ".py",
   "mimetype": "text/x-python",
   "name": "python",
   "nbconvert_exporter": "python",
   "pygments_lexer": "ipython2",
   "version": "2.7.6"
  }
 },
 "nbformat": 4,
 "nbformat_minor": 5
}
