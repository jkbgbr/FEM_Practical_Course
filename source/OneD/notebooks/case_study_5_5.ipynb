{
 "cells": [
  {
   "metadata": {},
   "cell_type": "markdown",
   "source": [
    "# 5.5 Case study: resonant freqencies of a micro-resonant transducer\n",
    "\n",
    "This case study uses the beam element introdced in Chapter 5 to model a micro-resonant transducer. The addition over the single-element derivation is that multiple beams are used, but since the geometry is still in the X-Y plane and the beams are not rotated, the only thing to do is to\n",
    "a) add more elements\n",
    "b) assemble the global stiffness, and mass matrices utilizing the same techniques as in Chapter 4, e.g. Example 4.2.\n"
   ],
   "id": "78ee4e9891a11b82"
  },
  {
   "metadata": {
    "ExecuteTime": {
     "end_time": "2025-06-25T07:07:34.465430Z",
     "start_time": "2025-06-25T07:07:34.448695Z"
    }
   },
   "cell_type": "code",
   "source": [
    "# number of elements to be used. The book uses 10.\n",
    "NE = 10  # number of elements\n",
    "\n",
    "# number of degrees of freedom each node\n",
    "ND = 2  # 2D problem, so only X and Y coordinates are used\n",
    "\n",
    "# number of degrees of freedom per element. This is not to be changed.\n",
    "DOF = 4  # u_x, u_y, u_z, θ_y, θ_z\n"
   ],
   "id": "e48faeb2fb2c894f",
   "outputs": [],
   "execution_count": 1
  },
  {
   "metadata": {},
   "cell_type": "code",
   "outputs": [],
   "execution_count": null,
   "source": [
    "# imports\n",
    "import numpy as np\n",
    "from source.OneD.node import Node\n",
    "from source.OneD.beam.beam import BeamElement\n",
    "np.set_printoptions(precision=2, threshold=3, suppress=False)"
   ],
   "id": "10495dd1e707257e"
  },
  {
   "metadata": {},
   "cell_type": "markdown",
   "source": [
    "### Geometry and material properties\n",
    "\n",
    "Defined as in the book and converted to SI units for consistency."
   ],
   "id": "2fcb3d51b060f313"
  },
  {
   "metadata": {
    "ExecuteTime": {
     "end_time": "2025-06-25T07:07:35.416875Z",
     "start_time": "2025-06-25T07:07:35.409363Z"
    }
   },
   "cell_type": "code",
   "source": [
    "b = 20  # width of the beam [µm]\n",
    "h = 0.5  # height of the beam [µm]\n",
    "L = 100  # length of the beam [µm]\n",
    "E = 169  # Young's modulus [GPa]\n",
    "nu = 0.262  # Poisson's ratio\n",
    "ro = 2.30  # density [g/cm³]\n",
    "\n",
    "# transforming everything in SI units: meters, pascals, kilograms\n",
    "b *= 1e-6  # width in meters\n",
    "h *= 1e-6  # height in meters\n",
    "L *= 1e-6  # length in meters\n",
    "E *= 1e9  # Young's modulus in pascals\n",
    "ro *= 1e3  # density in kg/m³"
   ],
   "id": "f0ef3c7a4294213a",
   "outputs": [],
   "execution_count": 3
  },
  {
   "metadata": {},
   "cell_type": "markdown",
   "source": "### Cross sectional properties",
   "id": "9094aea4b6f6db98"
  },
  {
   "metadata": {
    "ExecuteTime": {
     "end_time": "2025-06-25T07:07:35.480190Z",
     "start_time": "2025-06-25T07:07:35.471710Z"
    }
   },
   "cell_type": "code",
   "source": [
    "A = b * h  # cross-sectional area [m²]\n",
    "Iy = b * h**3 / 12  # second moment of area around the y-axis [m^4]\n",
    "Iz = h * b**3 / 12  # second moment of area around the z-axis [m^4]"
   ],
   "id": "7e666a7ddf985cb6",
   "outputs": [],
   "execution_count": 4
  },
  {
   "metadata": {},
   "cell_type": "markdown",
   "source": "### FE mesh and supports.",
   "id": "2206bfc54d1aee85"
  },
  {
   "metadata": {
    "ExecuteTime": {
     "end_time": "2025-06-25T07:07:35.519747Z",
     "start_time": "2025-06-25T07:07:35.505324Z"
    }
   },
   "cell_type": "code",
   "source": [
    "# Mesh\n",
    "# The total length of the beam is divided into NE elements, each element has a length of L/NE.\n",
    "mesh = np.linspace(0, L, NE + 1)  # mesh points along the beam\n",
    "\n",
    "# Create nodes based on the mesh\n",
    "nodes = [Node(x, 0, None) for x in mesh]  # nodes in the X-Y plane, Z=0\n",
    "\n",
    "print()\n",
    "print(\"Nodes:\")\n",
    "for node in nodes:\n",
    "    print(f\"Node ID: {node.ID}, Coordinates: ({node.x}, {node.y})\")\n",
    "\n",
    "# Create beam elements. The inertia to be used is the second moment of area around the y-axis.\n",
    "elements = [\n",
    "    BeamElement(nodes[i], nodes[i + 1], A=A, I=Iy, E=E, ro=ro)\n",
    "    for i in range(NE)\n",
    "]\n",
    "print()\n",
    "print(\"Elements:\")\n",
    "for elem in elements:\n",
    "    print(f\"Element from Node {elem.i.ID} to Node {elem.j.ID}, Area: {elem.A}, Iy: {elem.I}, E: {elem.E}, ro: {elem.ro}\")\n",
    "\n",
    "# Convert nodes and elements to dictionaries for easy access.\n",
    "# This is required for the assembly functions later.\n",
    "nodes = {n.ID: n for n in nodes}\n",
    "elements = {e.ID: e for e in elements}\n",
    "\n",
    "# clamped supports are at both ends.\n",
    "supports = (0, (0, 1),  # (node ID, (dof1, dof2))\n",
    "                  NE, (0, 1))  # (node ID, (dof1, dof2))\n",
    "print(supports)\n"
   ],
   "id": "d259b8dac9d6023a",
   "outputs": [
    {
     "name": "stdout",
     "output_type": "stream",
     "text": [
      "\n",
      "Nodes:\n",
      "Node ID: 0, Coordinates: (0.0, 0)\n",
      "Node ID: 1, Coordinates: (9.999999999999999e-06, 0)\n",
      "Node ID: 2, Coordinates: (1.9999999999999998e-05, 0)\n",
      "Node ID: 3, Coordinates: (2.9999999999999997e-05, 0)\n",
      "Node ID: 4, Coordinates: (3.9999999999999996e-05, 0)\n",
      "Node ID: 5, Coordinates: (4.9999999999999996e-05, 0)\n",
      "Node ID: 6, Coordinates: (5.9999999999999995e-05, 0)\n",
      "Node ID: 7, Coordinates: (7e-05, 0)\n",
      "Node ID: 8, Coordinates: (7.999999999999999e-05, 0)\n",
      "Node ID: 9, Coordinates: (8.999999999999999e-05, 0)\n",
      "Node ID: 10, Coordinates: (9.999999999999999e-05, 0)\n",
      "\n",
      "Elements:\n",
      "Element from Node 0 to Node 1, Area: 1e-11, Iy: 2.083333333333333e-25, E: 169000000000.0, ro: 2300.0\n",
      "Element from Node 1 to Node 2, Area: 1e-11, Iy: 2.083333333333333e-25, E: 169000000000.0, ro: 2300.0\n",
      "Element from Node 2 to Node 3, Area: 1e-11, Iy: 2.083333333333333e-25, E: 169000000000.0, ro: 2300.0\n",
      "Element from Node 3 to Node 4, Area: 1e-11, Iy: 2.083333333333333e-25, E: 169000000000.0, ro: 2300.0\n",
      "Element from Node 4 to Node 5, Area: 1e-11, Iy: 2.083333333333333e-25, E: 169000000000.0, ro: 2300.0\n",
      "Element from Node 5 to Node 6, Area: 1e-11, Iy: 2.083333333333333e-25, E: 169000000000.0, ro: 2300.0\n",
      "Element from Node 6 to Node 7, Area: 1e-11, Iy: 2.083333333333333e-25, E: 169000000000.0, ro: 2300.0\n",
      "Element from Node 7 to Node 8, Area: 1e-11, Iy: 2.083333333333333e-25, E: 169000000000.0, ro: 2300.0\n",
      "Element from Node 8 to Node 9, Area: 1e-11, Iy: 2.083333333333333e-25, E: 169000000000.0, ro: 2300.0\n",
      "Element from Node 9 to Node 10, Area: 1e-11, Iy: 2.083333333333333e-25, E: 169000000000.0, ro: 2300.0\n",
      "(0, (0, 1), 10, (0, 1))\n"
     ]
    }
   ],
   "execution_count": 5
  },
  {
   "metadata": {},
   "cell_type": "markdown",
   "source": "### Global force vector",
   "id": "af608100e07810a6"
  },
  {
   "metadata": {
    "ExecuteTime": {
     "end_time": "2025-06-25T07:07:35.605164Z",
     "start_time": "2025-06-25T07:07:35.593882Z"
    }
   },
   "cell_type": "code",
   "source": [
    "F = np.zeros(ND * len(nodes))  # Global force vector, initialized to zero\n",
    "F[ND * (NE // 2)] = -1e-3  # Apply a force of -1 mN in the y-direction at the middle node\n",
    "print(F)\n",
    "print([x for x in F if x != 0])  # Print only non-zero entries"
   ],
   "id": "54ef0525e8c893bd",
   "outputs": [
    {
     "name": "stdout",
     "output_type": "stream",
     "text": [
      "[0. 0. 0. ... 0. 0. 0.]\n",
      "[np.float64(-0.001)]\n"
     ]
    }
   ],
   "execution_count": 6
  },
  {
   "metadata": {},
   "cell_type": "markdown",
   "source": "### Assembling the global stiffness and mass matrices",
   "id": "97f60ffe647c5310"
  },
  {
   "metadata": {
    "ExecuteTime": {
     "end_time": "2025-06-25T07:07:36.226570Z",
     "start_time": "2025-06-25T07:07:35.697710Z"
    }
   },
   "cell_type": "code",
   "source": [
    "\n",
    "\n",
    "K_global = assemble_global_K(ND=ND, nodes=nodes, elements=elements)\n",
    "K_global, F = apply_boundary_conditions(ND=ND, supports=supports, K=K_global, F=F)\n",
    "\n",
    "def assemble_M():\n",
    "    pass"
   ],
   "id": "158c701fb91be890",
   "outputs": [
    {
     "ename": "ImportError",
     "evalue": "cannot import name 'assemble_global_K' from 'source.utils' (E:\\modules\\FEM_Practical_Course\\source\\utils.py)",
     "output_type": "error",
     "traceback": [
      "\u001B[31m---------------------------------------------------------------------------\u001B[39m",
      "\u001B[31mImportError\u001B[39m                               Traceback (most recent call last)",
      "\u001B[36mCell\u001B[39m\u001B[36m \u001B[39m\u001B[32mIn[7]\u001B[39m\u001B[32m, line 1\u001B[39m\n\u001B[32m----> \u001B[39m\u001B[32m1\u001B[39m \u001B[38;5;28;01mfrom\u001B[39;00m\u001B[38;5;250m \u001B[39m\u001B[34;01msource\u001B[39;00m\u001B[34;01m.\u001B[39;00m\u001B[34;01mutils\u001B[39;00m\u001B[38;5;250m \u001B[39m\u001B[38;5;28;01mimport\u001B[39;00m assemble_global_K, apply_boundary_conditions\n\u001B[32m      3\u001B[39m K_global = assemble_global_K(ND=ND, nodes=nodes, elements=elements)\n\u001B[32m      4\u001B[39m K_global, F = apply_boundary_conditions(ND=ND, supports=supports, K=K_global, F=F)\n",
      "\u001B[31mImportError\u001B[39m: cannot import name 'assemble_global_K' from 'source.utils' (E:\\modules\\FEM_Practical_Course\\source\\utils.py)"
     ]
    }
   ],
   "execution_count": 7
  }
 ],
 "metadata": {
  "kernelspec": {
   "display_name": "Python 3",
   "language": "python",
   "name": "python3"
  },
  "language_info": {
   "codemirror_mode": {
    "name": "ipython",
    "version": 2
   },
   "file_extension": ".py",
   "mimetype": "text/x-python",
   "name": "python",
   "nbconvert_exporter": "python",
   "pygments_lexer": "ipython2",
   "version": "2.7.6"
  }
 },
 "nbformat": 4,
 "nbformat_minor": 5
}
